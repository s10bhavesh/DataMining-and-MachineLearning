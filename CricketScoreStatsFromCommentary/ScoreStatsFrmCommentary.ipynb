{
 "cells": [
  {
   "cell_type": "code",
   "execution_count": 1,
   "metadata": {},
   "outputs": [],
   "source": [
    "import re"
   ]
  },
  {
   "cell_type": "code",
   "execution_count": 2,
   "metadata": {},
   "outputs": [],
   "source": [
    "f = open('commentary', 'r')\n",
    "fclean = open('CleanCommentray.txt', 'w+')"
   ]
  },
  {
   "cell_type": "code",
   "execution_count": 3,
   "metadata": {},
   "outputs": [
    {
     "data": {
      "text/plain": [
       "'3.32 pm: Well that\\'s that for this Test. It was great fun bringing it to you. Make sure you join us for the third and final Test too, in Ranchi. And come back later today to check on all the great pieces that Karthik Krishnaswamy and Firdose Moonda will be filing. For 0w, this is Saurabh bidding adieu on behalf of Deiva and Thilak.\\n\\nAs expected, Virat Kohli is the Man of the Match for his monumental 254*: \"As I said a couple of days back, it\\'s getting the responsibility of being captain. If you go out planning a double hundred you won\\'t get it, but if you go out planning to bat for five sessions, the double hundred will come. Earlier, I would think more from a personal point of view, but thinking of the team, all that pressure doesn\\'t come. (on early career) sometimes you play to prove people wrong but I\\'m at the stage of my career where I\\'m just happy to be where I am. Putting the team in a commanding position is the only thing I strive for. Of course I enjoy scoring runs, but if they come in a winning cause, 0thing like it. You have to look forward to facing the new ball in the morning. I really enjoy batting with Jinx (Rahane). When we have a partnership we invariably take the game forward. We take a lot of pride in contributing when the situation is tough. He keeps giving me regular feedback when things are going wrong, and vice versa as well.\\n\\nWhen we started off as a group we were at No.7 (in the Test rankings). The only way was up. We laid down a few things, told everyone to work hard at practice. We are lucky to have the group of players we have in the last three-four years. It\\'s amazing to see that hunger and passion for all the guys to keep improving. Mentioning Saha specially, he was a bit nervous coming into Vizag, but this game he kept beautifully. Ashwin as well stepped up beautifully coming back. Looking at the larger picture of the Test championship, every game has value so we\\'re 0t going to take our foot off the gas in the third Test. No one\\'s going to relax at any stage, that\\'s a guarantee.\\n\\nFaf du Plessis: \"We k0w in the subcontinent your first innings is really important. The runs you put on the board gives you a chance. But the way India batted, especially Virat with 250, it takes a lot of mental toughness. Two days in the field can wear you down. Especially that second evening, the batsmen were a bit weak in the mindset. From then it\\'s playing catch-up. We were found wanting in this Test match. As a captain you try and think of ways how you can change fields and bowlers, but all the questions we threw at him, he had answers for. He (Kohli) was too good. The hunger stood out, it was great value for us as batters. He wasn\\'t satisfied with 100, 150. (Seamer instead of spinner) I think it was the right decision for this pitch. Ver0n and KG created some pressure first up but we need a0ther bowler who can add the pressure. Unfair to expect a young fast bowler making his debut to come in and do everything. That\\'s what India do very well, they bowl well in pairs. Lungi Ngidi is fine, he\\'s working on his fitness. As a big fast bowler, it\\'s 0t always easy to come and bowl second and third spells. If he\\'s fine, we might throw him in the mix for the next Test. All in all, India are deserving series winners. They are very tough to beat at home, their record speaks for itself.\"\\n\\n3.20 pm: Presentation time.\\n\\nShankar: \"Any brownie points for an innings win?\" - Brownie points are all you get Shankar. No extra WTC points!\\n\\nAzweer: \"Is it Superman...!! Spiderman!!! Or Shakthiman..!!! No.. it\\'s Wriddhiman..!!\"\\n\\nPrasad Kaitkay: \"India\\'s pace attack has been the difference of late. Consistently taking 8-10 wickets out of 20 on these surfaces is brilliant specially when the opposition team managed to take just 5 \"\\n\\nBrij : \"Which was the last home series that India lost? Was it against England?\" - it was indeed England, in 2012-13. Alastair Cook scored a mountain of runs, Kevin Pietersen hit one of the greatest Test innings in Mumbai, and the Monty Panesar-Graeme Swann duo outspun India.\\n\\nUmesh Yadav: I need to give him (Wriddhiman Saha) a treat because I think those two wickets are Wriddhi bhai\\'s only. When you put the ball outside leg stump you think it\\'ll be a boundary, but if there is a little bit chance to convert a catch, we k0w he will take it. I k0w that there is a lot of competition in the team so whoever comes in has to do well. I knew that it was important I do well if I get a chance. The way we are winning matches, you have to have the mindset to grab your chances. I was confident coming into the match because the last time I played in India I got ten wickets in the match. If there is doubt in the mind, it\\'s 0t possible to perform well. It all went well for me.\\n\\nWriddhiman Saha: The ball wobbles for all three - Umesh, Ishant, Shami. We practice for that. But ultimately you have to come into the match and do it. Fitness wise, everyone in the team follows the schedule given by the trainers. Whoever can do extra we do too.\\n\\n3.01 pm: A dominating win by India. They\\'ve cleaned up South Africa in just 67.2 overs in the second innings. Virat Kohli opted to enforce the follow-on this morning, and though the pitch didn\\'t have any great demons in it, the South Africans\\' minds were full of gremlins - those are harder to get rid of. A truly combined bowling performance, with every regular bowler among the wickets. It\\'s also a world record 11th consecutive home series win for India.\\n\\n67.2\\nW\\nJadeja to Maharaj, W runs, given lbw but Maharaj has reviewed. Pitched it slightly shorter of a length and went with the arm but was it going down leg? No edge. And it\\'s three reds on DRS so India have won by an innings and 137 runs and sealed the series. Struck in front of middle and leg, and going on to hit the stumps.\\n\\nKA Maharaj lbw b Jadeja 22 (65b 3x4 0x6) SR: 33.84\\n67.1\\n0\\nJadeja to Maharaj, 0 run, fuller on the stumps, driven back firmly to Jadeja\\n\\nIndia one wicket away from sealing the series 0w.\\nEND OF OVER:67 | 4 Runs 2 Wkts | SA: 189/9\\n\\n    Keshav Maharaj22 (63b)\\n\\n    Umesh Yadav8-3-22-3\\n    Ravindra Jadeja21-4-52-2\\n\\n66.6\\nW\\nYadav to Rabada, W runs, smart take by Rohit at second slip In the corridor from wide of the crease and perhaps straightens a touch. Rabada was caught in two minds, went to poke at it, wanted to then pull his bat away but was far too late to do that and it ended up just hanging there as the ball kissed the edge and travelled to Rohit, who took it low in front of him\\n\\nK Rabada c RG Sharma b Yadav 4 (5b 1x4 0x6) SR: 80.00\\n\\nRound the wicket\\n66.5\\n4\\nYadav to Rabada, 4 runs, full outside off, swinging away from him but Rabada gets the timing perfect on this. Well balanced, even though hands are going away from body to play this short arm jab of a cover drive that screams through extra cover\\n66.4\\n0\\nYadav to Rabada, 0 run, bouncer, doesn\\'t rise up very high but Rabada spotted it early and ducked\\n66.3\\n0\\nYadav to Rabada, 0 run, going across him, ends up on off stump, jabbed to cover\\n66.2\\n0\\nYadav to Rabada, 0 run, good length going across him, in the channel and left alone. The exact same ball he bowled to the right-hander, was a bad one (never mind the wicket). It\\'s a good one to the left-hander\\n\\nGoing round the wicket to Rabada 0w. No, he\\'s changed his mind. Still over.\\n\\nUmesh is having some comeback. Wickets immediately when he bowled. Now two of the wickets in an innings with balls going well down leg.\\n66.1\\nW\\nYadav to Philander, W runs, incredibly that line down legside works for Umesh. Second time in this innings. He was 0t getting his lines right in the past over, and he continues this over by starting with one down leg. Philander wants to tickle it fine but gets a faint edge. Saha is moving across to his left well and pouches it easily.\\n\\nVD Philander c †Saha b Yadav 37 (72b 2x4 2x6) SR: 51.38\\n\\nRamesh: \"I am pretty sure India will bat again. This partnership will go on for 100 more run then Nortje and rabada will also provide some resistance and SA will lead by 100. India will bat again and chase down the total around this time tommorrow\"\\nEND OF OVER:66 | 1 Run | SA: 185/7\\n\\n    Keshav Maharaj22 (63b)\\n    Ver0n Philander37 (71b)\\n\\n    Ravindra Jadeja21-4-52-2\\n    Umesh Yadav7-3-18-1\\n\\n65.6\\n0\\nJadeja to Maharaj, 0 run, jaffa. one of the rare balls he\\'s given good air to, pitches on the perfect in-between spot where the batsman\\'s front-foot stride won\\'t get him to the pitch and then grips and breaks sharply past the outside edge\\n65.5\\n1\\nJadeja to Philander, 1 run, fuller on the stumps, bunted back to the bowler. Goes through Jadeja\\'s fingers so they steal a single\\n65.4\\n0\\nJadeja to Philander, 0 run, length on middle stump, turning away but he gets beside it and uses an angled bat to keep it down\\n65.3\\n0\\nJadeja to Philander, 0 run, length on off, spinning away, glided towards backward point\\n65.2\\n0\\nJadeja to Philander, 0 run, fuller, stays in his crease, weight on front foot to defend towards silly point\\n65.1\\n0\\nJadeja to Philander, 0 run, length on middle stump, gets his front foot out beside the ball and defends\\n\\nSimha Y.N: \"Maharaj and Philander remind me of the famous Aussie late order pair - Richie Benaud and Alan Davidson. Very, very an0ying underrated batsmen. They hung on like limpets, much like the two here are showing us. The most famous instance of this for me was the tied test of 1960-61, where it seemed the Windies had won when the Aussies were seven down, only for those two to come together and produce that unforgettable climax. \"\\nEND OF OVER:65 | (maiden) | SA: 184/7\\n\\n    Keshav Maharaj22 (62b)\\n    Ver0n Philander36 (66b)\\n\\n    Umesh Yadav7-3-18-1\\n    Ravindra Jadeja20-4-51-2\\n\\n64.6\\n0\\nYadav to Maharaj, 0 run, and a0ther one far down leg. Umesh hasn\\'t sorted his lines in this new spell\\n64.5\\n0\\nYadav to Maharaj, 0 run, length on off, stays in his crease and punches off the back foot towards extra cover\\n64.4\\n0\\nYadav to Maharaj, 0 run, getting good movement but wrong lines - down leg again\\n64.3\\n0\\nYadav to Maharaj, 0 run, trying to bring it into him but gets it to tail in too much and he\\'s bowled this on a middle stump line so it goes down leg\\n64.2\\n0\\nYadav to Maharaj, 0 run, length on off, stays back and punches to mid-off\\n64.1\\n0\\nYadav to Maharaj, 0 run, tailing in late at good pace and strikes him on the toes. Goes up in appeal but that would have comfortably gone down leg. In fact he got an inside edge onto pad too\\n\\nSrinath: \"Hello from Vienna!! Maharaj and Philander should bat higher up the order in the next match! They are showing more grit and determination than most of the top order batsmen!\"\\nEND OF OVER:64 | 4 Runs | SA: 184/7\\n\\n    Ver0n Philander36 (66b)\\n    Keshav Maharaj22 (56b)\\n\\n    Ravindra Jadeja20-4-51-2\\n    Umesh Yadav6-2-18-1\\n\\n63.6\\n0\\nJadeja to Philander, 0 run, floated up on leg stump, comfortably defended on the front foot\\n63.5\\n2\\nJadeja to Philander, 2 runs, carves it through point by opening the bat face while on the front foot\\n63.4\\n0\\nJadeja to Philander, 0 run, speared in on the stumps, defended from the crease\\n63.3\\n1\\nJadeja to Maharaj, 1 run, tossed up around off, he comes on the front foot and pushes it to mid-off\\'s left\\n63.2\\n1\\nJadeja to Philander, 1 run, length, straying on the pads, clipped to fine leg\\n63.1\\n0\\nJadeja to Philander, 0 run, tossed up on the stumps, defended solidly\\n\\nJadeja back on 0w. So only the one over for Kohli\\n\\nAnkit Samariya: \"I think Virat and Indian team management have read the cricinfo commentary. Now they are gonna give spells to every player.\" - but of course. It\\'s only sensible for every cricket fan in the world to read Cricinfo!\\nEND OF OVER:63 | 4 Runs | SA: 180/7\\n\\n    Keshav Maharaj21 (55b)\\n    Ver0n Philander33 (61b)\\n\\n    Umesh Yadav6-2-18-1\\n    Virat Kohli1-0-4-0\\n\\n62.6\\n4\\nYadav to Maharaj, 4 runs, hammered. Too short outside off, just sits up and Maharaj cracks a pull shot in front of square. Made a bullet sound while leaving the bat\\n62.5\\n0\\nYadav to Maharaj, 0 run, oooh, play and a miss. Good length in the corridor, he goes for the big booming drive but doesn\\'t connect\\n62.4\\n0\\nYadav to Maharaj, 0 run, bouncer on off stump 0w, but pitched very short and he spots it very early and ducks under\\n62.3\\n0\\nYadav to Maharaj, 0 run, short of a length 0t rising too much, but also down leg. He misses the pull\\n62.2\\n0\\nYadav to Maharaj, 0 run, length on off stumps, solidly defended back to the bowler\\n62.1\\n0\\nYadav to Maharaj, 0 run, down leg, flicks pad on the way to Saha. Muted appeal\\n\\nThe last time Kohli bowled in a Test was in December 2017 against Sri Lanka in Delhi.\\nEND OF OVER:62 | 4 Runs | SA: 176/7\\n\\n    Ver0n Philander33 (61b)\\n    Keshav Maharaj17 (49b)\\n\\n    Virat Kohli1-0-4-0\\n    Ravindra Jadeja19-4-47-2\\n\\n61.6\\n0\\nKohli to Philander, 0 run, high full toss, punched to mid-on\\n61.5\\n0\\nKohli to Philander, 0 run, a0ther yorker, dug back out\\n61.4\\n0\\nKohli to Philander, 0 run, and that brings out the yorker from Kohli, but 0t quick e0ugh to trouble the batsman, who defends it out\\n61.3\\n4\\nKohli to Philander, 4 runs, okay Philander has had e0ugh of a sighter of Kohli. Full toss well outside off again and he stretches out to lean into a cover drive that beats cover\\n61.2\\n0\\nKohli to Philander, 0 run, wide of the crease and short, at 101 kph, coming into him, jammed back to the bowler\\n61.1\\n0\\nKohli to Philander, 0 run, low full toss floated well wide of off, and he lets it go\\n\\n2.31 pm: Virat Kohli is going to have a bowl! He\\'s got a slip and a gully\\n\\n2.30 pm: The players are back on the field, and it\\'s time to start the final session of Day 4.\\n\\nAnd weather updates wise:\\n\\nAmit: \"I am 20 Kms from the ground in city and its drizzling here. Is it the same there?. Pls India finish it today.\"\\n\\nSidhant: \"It\\'s drizzling in the heart of the city.. how is it at the stadium?\"\\n\\nSudhir: \"It\\'s tea time?? Who takes tea at 2:20 PM? Don\\'t we wait for the evening??\" - it was at 2.10 pm Sudhir. Just one of the myriad quirks we love Test cricket for!\\nEND OF OVER:61 | (maiden) | SA: 172/7\\n\\n    Keshav Maharaj17 (49b)\\n    Ver0n Philander29 (55b)\\n\\n    Ravindra Jadeja19-4-47-2\\n    Ravichandran Ashwin21-6-45-2\\n\\n2.24 pm: There\\'s a0ther remarkable stat, dug up by our stats editor S Rajesh: how quickly the Maharaj-Philander pair are creeping up the list of most balls faced for South Africa for the last three wickets.\\n\\nHow good has Wriddhiman Saha been behind the stumps? Even before his Superman acts today, Ashwin had said how Saha was a fantastic keeper to have for a spinner.\\n\\n2.20 pm: Thanks Deiva. South Africa went in to tea on Day 3 with Philander and Maharaj at the crease. They\\'ve gone into tea at Day 4 with the same pair batting...\\n\\nSureshy Reddy: \"Bring on Ishant and Umesh /shami . Bowl short . Keep the fields accordingly . Spinners aren\\'t troubling Maharaj-Philander pair and they will easily take the match to 5th day ....\"\\n\\n2.10pm Tea: South Africa are 155 runs away from making India bat again. Jadeja got rid of both Bavuma and de Kock this session before second-innings Shami let it rip with his bouncers. Philander and Maharaj - SA\\'s first-innings batting heroes - have held up India\\'s march in this innings as well. Saurabh will be back with you in about 20 minutes for the final session of the day. Will it be the final session of the game as well?\\n\\n60.6\\n0\\nJadeja to Maharaj, 0 run, tossed on off, Maharaj stretches out and pushes it back to the left of Jadeja\\n60.5\\n0\\nJadeja to Maharaj, 0 run, sliding down leg, away from the reach of Maharaj\\'s flick\\n60.4\\n0\\nJadeja to Maharaj, 0 run, shorter and turns away outside off, left alone\\n60.3\\n0\\nJadeja to Maharaj, 0 run, full and drifting on on middle, off the inside half and rolls to square leg\\n60.2\\n0\\nJadeja to Maharaj, 0 run, arm ball from Jadeja, defended off the back foot on off stump\\n60.1\\n0\\nJadeja to Maharaj, 0 run, flighted on off, defended back to Jadeja\\nEND OF OVER:60 | 4 Runs | SA: 172/7\\n\\n    Ver0n Philander29 (55b)\\n    Keshav Maharaj17 (43b)\\n\\n    Ravichandran Ashwin21-6-45-2\\n    Rohit Sharma2-0-4-0\\n\\n59.6\\n0\\nAshwin to Philander, 0 run, full on off, driven to mid-off off the front foot\\n59.5\\n0\\nAshwin to Philander, 0 run, full on off, Philander bends forward in defence\\n\\nRohit yadav: \"Markram has bowled 8 balls more than he has batted\"\\n59.4\\n0\\nAshwin to Philander, 0 run, back of a length on off, defended back to the bowler\\n59.3\\n4\\nAshwin to Philander, 4 runs, Ashwin lobs it up outside off, Philander likes the flight and crunnnnnnches it through the covers off the front foot\\n59.2\\n0\\nAshwin to Philander, 0 run, looped up outside off, pushed back to the bowler\\n\\nMustafa Moudi: \"With just 3 wickets to pick and having more than 100 overs left, I want Kohli to use all 11 Players as Bowlers as Ganguly did in 2002 against WI. That match was the only reason that dravid has a Wicket in his Entire Test Career. It would be Fun if it happens today, who k0ws a wicket may be added to Rahane or Pujara\\'s Test Record !!\"\\n59.1\\n0\\nAshwin to Philander, 0 run, flighted on off, eased down to long-off\\nEND OF OVER:59 | 2 Runs | SA: 168/7\\n\\n    Ver0n Philander25 (49b)\\n    Keshav Maharaj17 (43b)\\n\\n    Rohit Sharma2-0-4-0\\n    Ravichandran Ashwin20-6-41-2\\n\\n58.6\\n1\\nRG Sharma to Philander, 1 run, whipped to the right of short leg\\n58.5\\n0\\nRG Sharma to Philander, 0 run, back of a length and on off, stabbed back to Rohit off the back foot\\n58.4\\n0\\nRG Sharma to Philander, 0 run, tossed outside off, played up to cover\\n58.3\\n0\\nRG Sharma to Philander, 0 run, flatter and just a shade outside off, blocked back off the back foot\\n58.2\\n0\\nRG Sharma to Philander, 0 run, full and outside off, squeezes out a drive to mid-off\\n\\nMore highlights (read: wicket) clips for folks in the US: Elgar\\'s mis-hit to fall short of a fifty, Jadeja finds de Kock\\'s stumps, and Rahane\\'s reflexes send Bavuma back\\n58.1\\n1\\nRG Sharma to Maharaj, 1 run, short, wide, cracked off the back foot to the off-side sweeper\\nEND OF OVER:58 | 5 Runs | SA: 166/7\\n\\n    Ver0n Philander24 (44b)\\n    Keshav Maharaj16 (42b)\\n\\n    Ravichandran Ashwin20-6-41-2\\n    Rohit Sharma1-0-2-0\\n\\n57.6\\n0\\nAshwin to Philander, 0 run, length ball on middle, blocked to short leg\\n57.5\\n2\\nAshwin to Philander, 2 runs, carrom ball? Heading down the leg side, tickled away fine on its way\\n\\nChin: \"Irrelevant trivia. Philander has batted 12 overs more than he has bowled this game\"\\n57.4\\n0\\nAshwin to Philander, 0 run, wide of the crease, sliding in on middle, forced off the back foot to midwicket\\n57.3\\n0\\nAshwin to Philander, 0 run, back of a length and turns in, Philander yanks his bottom hand off the bat and blocks off the back foot\\n57.2\\n0\\nAshwin to Philander, 0 run, slower offbreak, drops on off, defended off the front foot\\n57.1\\n3\\nAshwin to Maharaj, 3 runs, dropped short and wide outside off, Ashwin allows the batsman to go back and cut it through the cover-point region\\n\\nAshish: \"Before the series Faf said that Bavuma and others are going to be the next Amlas. Never imagined that Kesav and Philander will take it more seriously than the top order batsmen!\"\\nEND OF OVER:57 | 2 Runs | SA: 161/7\\n\\n    Ver0n Philander22 (39b)\\n    Keshav Maharaj13 (41b)\\n\\n    Rohit Sharma1-0-2-0\\n    Ravindra Jadeja18-3-47-2\\n\\n56.6\\n0\\nRG Sharma to Philander, 0 run, back of a length and outside off, defended off the back foot\\n56.5\\n1\\nRG Sharma to Maharaj, 1 run, Maharaj shuffles across and clips it with the break to square leg\\n56.4\\n0\\nRG Sharma to Maharaj, 0 run, sharply spins in from outside off, Maharaj gets outside the line and takes it on the pad\\n56.3\\n0\\nRG Sharma to Maharaj, 0 run, pushed through outside off, Maharaj flashes and misses the outside edge\\n56.2\\n1\\nRG Sharma to Philander, 1 run, floated on a length, worked to the leg side off the back foot\\n56.1\\n0\\nRG Sharma to Philander, 0 run, pushed through outside off, defended off the back foot\\n\\nRohit\\nEND OF OVER:56 | 1 Run | SA: 159/7\\n\\n    Ver0n Philander21 (36b)\\n    Keshav Maharaj12 (38b)\\n\\n    Ravindra Jadeja18-3-47-2\\n    Ravichandran Ashwin19-6-36-2\\n\\n55.6\\n1\\nJadeja to Philander, 1 run,\\n55.5\\n0\\nJadeja to Philander, 0 run, tossed outside off, patted to the covers\\n55.4\\n0\\nJadeja to Philander, 0 run, fuller on the pads, dinked to the leg side\\n55.3\\n0\\nJadeja to Philander, 0 run, shorter and just a shade outside off, punched to the off side\\n55.2\\n0\\nJadeja to Philander, 0 run, flat on off, defended to the left of silly-point this time\\n55.1\\n0\\nJadeja to Philander, 0 run, pushed through outside off, this 0n-turner is defended to silly-point\\nEND OF OVER:55 | (maiden) | SA: 158/7\\n\\n    Keshav Maharaj12 (38b)\\n    Ver0n Philander20 (30b)\\n\\n    Ravichandran Ashwin19-6-36-2\\n    Ravindra Jadeja17-3-46-2\\n\\n54.6\\n0\\nAshwin to Maharaj, 0 run, dangled up on off stump, Maharaj is forward to dead-bat it\\n54.5\\n0\\nAshwin to Maharaj, 0 run, faster offbreak, defended to short leg again on the bounce\\n54.4\\n0\\nAshwin to Maharaj, 0 run, sharp turn for Ashwin, Maharaj is up to the challenge, loosens his grip and defends in front of short leg\\n54.3\\n0\\nAshwin to Maharaj, 0 run, tossed on off, Maharaj stretches out and plays it to midwicket\\n\\nRohan Patel: \"I think Ashwin is missing a trick here. Going round the wicket and targeting the middle and leg stumps will bring the short leg and leg slip more into action. That\\'s how he got the wicket of Maharaj in 1st innings. \" --- Wasn\\'t he caught at leg-slip from over the wicket?\\n54.2\\n0\\nAshwin to Maharaj, 0 run, defended with the spin to short leg\\n54.1\\n0\\nAshwin to Maharaj, 0 run, starts outside off and breaks in at off, Maharaj defends off the back foot\\n\\nAdharsh: \"Looks like India struggles with the tail enders. They actually miss JASPRIT BUMRAH.He has done well in the Australia tests. They must even bring Shubman Gill. \"\\nEND OF OVER:54 | 2 Runs | SA: 158/7\\n\\n    Ver0n Philander20 (30b)\\n    Keshav Maharaj12 (32b)\\n\\n    Ravindra Jadeja17-3-46-2\\n    Ravichandran Ashwin18-5-36-2\\n\\n53.6\\n0\\nJadeja to Philander, 0 run, full and outside off, driven to the left of mid-off\\n53.5\\n0\\nJadeja to Philander, 0 run, slides on outside off, dropped into the covers\\n53.4\\n1\\nJadeja to Maharaj, 1 run, shorter and outside off, punched off the back foot for one\\n\\nAshwintheboss: \"@Parwinder - Why fix something that isn\\'t broken? India already has two accomplished spinners, there is 0 need for a0ther one\"\\n53.3\\n1\\nJadeja to Philander, 1 run, tossed up on middle and spins away, Philander aims to lift it over cover, instead slices off the outside half. Does 0t carry to point\\n53.2\\n0\\nJadeja to Philander, 0 run, much fuller on off, kept out\\n53.1\\n0\\nJadeja to Philander, 0 run, darted in on middle from around the wicket, stabbed off the back foot to midwicket\\nEND OF OVER:53 | 9 Runs | SA: 156/7\\n\\n    Keshav Maharaj11 (31b)\\n    Ver0n Philander19 (25b)\\n\\n    Ravichandran Ashwin18-5-36-2\\n    Ravindra Jadeja16-3-44-2\\n\\n52.6\\n0\\nAshwin to Maharaj, 0 run, wide of the crease, sliding down leg from a length, 0 shot\\n52.5\\n4\\nAshwin to Maharaj, 4 runs, wide of the crease, flatter and shorter outside off, Maharaj goes on the back foot and lashes it away behind point\\n\\nParwinder: \"I think if pitch in Ranchi is 0t rank turner or green top then India should swap Umesh or Ishant with Kuldeep\"\\n52.4\\n0\\nAshwin to Maharaj, 0 run, big turn for Ashwin. Breaking down the leg side, 0 shot\\n52.3\\n0\\nAshwin to Maharaj, 0 run, wide of the crease, slower through the air and turns in, watchfully defended off the back foot\\n52.2\\n4\\nAshwin to Maharaj, 4 runs, shorter and bounces outside off, Maharaj has a crack at it and top-edges a cut down to the third-man fence\\n52.1\\n1\\nAshwin to Philander, 1 run, shorter and outside off, slashed through the gap at cover\\n\\nGaurav: \"@ganesh 0thing wrong from jadeja. When he is Fielding he gives it all. Expects high standards from others too. \"\\nEND OF OVER:52 | (maiden) | SA: 147/7\\n\\n    Keshav Maharaj3 (26b)\\n    Ver0n Philander18 (24b)\\n\\n    Ravindra Jadeja16-3-44-2\\n    Ravichandran Ashwin17-5-27-2\\n\\n51.6\\n0\\nJadeja to Maharaj, 0 run, full on off, played back to the bowler off the front foot\\n51.5\\n0\\nJadeja to Maharaj, 0 run, driven through the line, but silly-point is in the way\\n51.4\\n0\\nJadeja to Maharaj, 0 run, hint of turn for Jadeja, Maharaj offers 0 shot and the ball nearly shaves off stump\\n51.3\\n0\\nJadeja to Maharaj, 0 run, full and zips back in on middle, all shoulder on this from Jadeja, blocked\\n51.2\\n0\\nJadeja to Maharaj, 0 run, fizzes from a length outside off, the extra bounce defeats Maharaj\\'s cut. Burst off the deck\\n51.1\\n0\\nJadeja to Maharaj, 0 run, flighted on middle, Maharaj stretches out in defence\\nEND OF OVER:51 | (maiden) | SA: 147/7\\n\\n    Ver0n Philander18 (24b)\\n    Keshav Maharaj3 (20b)\\n\\n    Ravichandran Ashwin17-5-27-2\\n    Ravindra Jadeja15-2-44-2\\n\\n50.6\\n0\\nAshwin to Philander, 0 run, popped in the air, but doesn\\'t carry to short leg or leg slip\\n50.5\\n0\\nAshwin to Philander, 0 run, full and spins in on off, Philander looses his grip and jabs it down onto the pitch\\n\\nGanesh: \"Jadeja for the second time has let his state mate k0w that he is 0t happy with his effort.\"\\n50.4\\n0\\nAshwin to Philander, 0 run, fired outside off, left alone\\n\\nAnurag: \"Have to say every ball shami bowls seems like a live hand grenade which can go anywhere , do anything.\"\\n50.3\\n0\\nAshwin to Philander, 0 run, full, starts outside off, slow turn for Ashwin, defended to short leg on the bounce\\n\\nOB Jato: \"Maharaj ain\\'t going down without a fight, I\\'ll tell you!\"\\n50.2\\n0\\nAshwin to Philander, 0 run, full and spins on off, played back to Ashwin\\n50.1\\n0\\nAshwin to Philander, 0 run, short and outside off, chopped to point\\nEND OF OVER:50 | (maiden) | SA: 147/7\\n\\n    Keshav Maharaj3 (20b)\\n    Ver0n Philander18 (18b)\\n\\n    Ravindra Jadeja15-2-44-2\\n    Mohammed Shami9-2-34-1\\n\\n49.6\\n0\\nJadeja to Maharaj, 0 run, fuller and outside off, ig0red\\n49.5\\n0\\nJadeja to Maharaj, 0 run, 0n-turner outside off, left alone\\n49.4\\n0\\nJadeja to Maharaj, 0 run, Jadeja pulls his length back, drifts in from around the stumps and breaks away past the outside edge. Some extra bounce to boot too\\n49.3\\n0\\nJadeja to Maharaj, 0 run, Dropped! Dropped by Pujara at second slip. He stretches one hand, scoops it up in the air, Rahane is in the way at first slip. Neither can get to the ball. Jadeja found some turn and the outside edge but it doesn\\'t translate into reward\\n49.2\\n0\\nJadeja to Maharaj, 0 run, shorter and on off, chopped from there to backward point off the back foot\\n\\ngokul: \"Philander for opener in next test..!\" --- Like that Mohali Test in 2015?\\n49.1\\n0\\nJadeja to Maharaj, 0 run, floated up and angling in on middle, defended off the front foot\\nEND OF OVER:49 | 1 Run | SA: 147/7\\n\\n    Keshav Maharaj3 (14b)\\n    Ver0n Philander18 (18b)\\n\\n    Mohammed Shami9-2-34-1\\n    Ravindra Jadeja14-1-44-2\\n\\n48.6\\n1\\nMohammed Shami to Maharaj, 1 run, fended off an inside edge with the angle down to long leg\\n48.5\\n0\\nMohammed Shami to Maharaj, 0 run, much fuller on off, Maharaj reads the change in length and defends well once again\\n48.4\\n0\\nMohammed Shami to Maharaj, 0 run, back of a length and skidding in at middle, Maharaj shuffles across and defends\\n\\nEjaz Mirza: \"SA\\'s two best batsmen on the pitch. Now the main fight begins. Shami is trying to upset them with bodyline... Hear comes the Shami for second innings specialist... \"\\n48.3\\n0\\nMohammed Shami to Maharaj, 0 run, shorter and outside off, Maharaj sways his upper body out of the way\\n48.2\\n0\\nMohammed Shami to Maharaj, 0 run, back of a length and angling in at the top of off, Maharaj gets behind the line and defends solidly\\n48.1\\n0\\nMohammed Shami to Maharaj, 0 run, bouncer on middle, the batsman ducks under it\\nEND OF OVER:48 | 1 Run | SA: 146/7\\n\\n    Ver0n Philander18 (18b)\\n    Keshav Maharaj2 (8b)\\n\\n    Ravindra Jadeja14-1-44-2\\n    Mohammed Shami8-2-33-1\\n\\n47.6\\n0\\nJadeja to Philander, 0 run, arm ball from wide of the crease, inside-edged onto the pad. Okay, replays suggest pad-first and India missed a trick by 0t reviewing it. The tracker has returned three reds\\n47.5\\n0\\nJadeja to Philander, 0 run, floated up on off, defended into the covers off the front foot\\n47.4\\n0\\nJadeja to Philander, 0 run, fuller and hint of spin for Jadeja, run away to point\\n47.3\\n0\\nJadeja to Philander, 0 run, pushed through and sliding in at leg stump, played back to Jadeja\\n47.2\\n1\\nJadeja to Maharaj, 1 run, back of a length on off, punched to mid-off off the back foot for one\\n47.1\\n0\\nJadeja to Maharaj, 0 run, flatter and outside off, forced off the back foot to cover\\nEND OF OVER:47 | 3 Runs | SA: 145/7\\n\\n    Keshav Maharaj1 (6b)\\n    Ver0n Philander18 (14b)\\n\\n    Mohammed Shami8-2-33-1\\n    Ravindra Jadeja13-1-43-2\\n\\n46.6\\n1\\nMohammed Shami to Maharaj, 1 run, shorter and outside off, Maharaj gets on top of the bounce and punches in front of square for one\\n46.5\\n0\\nMohammed Shami to Maharaj, 0 run, Shami spins around for an lbw appeal. Rohit gesticulates that height may be an issue here. Wide of the crease, on a length and skids back in and raps the pad in front of middle and leg. But the sharp angle from over the stumps might have taken the ball down the leg side. India decide against a review\\n46.4\\n0\\nMohammed Shami to Maharaj, 0 run, short and outside off, Maharaj avoids it\\n46.3\\n0\\nMohammed Shami to Maharaj, 0 run,\\n46.2\\n0\\nMohammed Shami to Maharaj, 0 run, banged down the leg side, Maharaj ducks under once again\\n46.2\\n1w\\nMohammed Shami to Maharaj, 1 wide, bouncer, angling across off, Maharaj sways his upper body out of the way. Wide called\\n\\nAbhijato: \"Did you follow the CPL final, Mr Muthu?\" --- I did follow the chase. Poor Amazon Warriors\\n46.1\\n1\\nMohammed Shami to Philander, 1 run, shorter and outside off, Philander jumps back and splices it in front of square on the off side\\nEND OF OVER:46 | 13 Runs | SA: 142/7\\n\\n    Ver0n Philander17 (13b)\\n    Keshav Maharaj0 (1b)\\n\\n    Ravindra Jadeja13-1-43-2\\n    Mohammed Shami7-2-30-1\\n\\n45.6\\n1\\nJadeja to Philander, 1 run, k0cked into the leg side for one\\n45.5\\n0\\nJadeja to Philander, 0 run, angling into middle, full, dead-batted\\n45.4\\n0\\nJadeja to Philander, 0 run, pushed through flatter and quicker outside off, defended off the front foot\\n45.3\\n6\\nJadeja to Philander, 6 runs, This is even better and bigger. Jadeja gives this air too, smoked from outside off to the midwicket boundary. Hit against the break\\n45.2\\n6\\nJadeja to Philander, 6 runs, Bam! For a change, Jadeja tosses it on middle, Philander gets underneath the length and muscles it down the ground for six\\n45.1\\n0\\nJadeja to Philander, 0 run, slides on outside off, 0 shot\\n\\n\\n\\nMohammed Shami to Muthusamy, W runs, Fended to second slip! This is a s0rter from Shami. Back of a length, angling in from round the stumps, then kicks away outside off. Not too dissimilar from the Nortje dismissal - except Muthusamy is a left-hander. You can\\'t do anything but fend at it, hoping it doesn\\'t carry. This, however, flies through to Rohit. India three away from securing the series\\n\\nS Muthusamy c RG Sharma b Mohammed Shami 9 (44b 1x4 0x6) SR: 20.45\\n44.4\\n3\\nMohammed Shami to Philander, 3 runs, overpitched and outside off, Philander drills a drive through the covers\\n44.3\\n0\\nMohammed Shami to Philander, 0 run, wide of the crease, slanting in at off, this length ball is blocked to short midwicket\\n44.2\\n0\\nMohammed Shami to Philander, 0 run, Shami nearly rips off the glove! 141.2ks, prancing delivery, Philander looks away and fends at it. Pings the glove and drops it in front of short midwicket\\n44.1\\n0\\nMohammed Shami to Philander, 0 run, good length and swerves back in, catches Philander in the crease, inside-edged onto the pad as Philander weathers the lbw shout\\n\\nSukrit Gupta: \"I am really 0t surprised to see that the series has been 0 where close at all. With the departures of Steyne, Amla and ABD, this series kick started the actual transition period for South Africa. To expect them to to go Toe to Toe with this Indian team is frankly quite harsh on them. They are entering the next chapter of their cricketing history just like Australia did after 2007 and India after 2011 WC with the departures of SRT, Dravid, VVS, Sehwag, Zaheer etc. in subsequent years.\" --- Shami will continue. Over the wicket\\nEND OF OVER:44 | 1 Run 1 Wkt | SA: 126/6\\n\\n    Senuran Muthusamy9 (43b)\\n    Ver0n Philander1 (3b)\\n\\n    Ravindra Jadeja12-1-30-2\\n    Mohammed Shami6-2-27-0\\n\\n43.6\\n0\\nJadeja to Muthusamy, 0 run, pushed through and spins in on off from over the stumps, Jadeja can\\'t breach Muthusamy\\'s defences\\n43.5\\n1\\nJadeja to Philander, 1 run, tossed just a shade outside off, guided just wide of point\\n43.4\\n0\\nJadeja to Philander, 0 run, pushed through on off, Philander presses forward and defends\\n43.3\\n0\\nJadeja to Philander, 0 run, flighted just a shade outside off, Philander plants his front foot and drives strongly to short cover\\n\\nIf you\\'re in the US and missed the action from earlier in the day, here are clips of South Africa\\'s first three wickets: Markram bagging a pair, de Bruyn being caught down the leg side, and Saha juggling to catch du Plessis\\n\\nGood after0on, everyone. Cheers, Saurabh. India are four wickets away from wrapping up an innings victory and the series\\n\\nAnd that is also drinks, so here is Deiva to take you through till the end of this session. Will the match last beyond it? We\\'ll see...\\n43.2\\nW\\nJadeja to Bavuma, W runs, Rahane pulls off a stunner at slip forget that review off the previous ball, Bavuma\\'s gone 0w. Tossed up and Bavuma is drawn into the drive, but it drifts and turns, clips his outside edge and goes very fine. Excellent reflexes by Rahane who sticks out his left hand near shoulder height and then the right hand closes around the ball too to ensure it doesn\\'t pop out anywhere - all while diving to his left.\\n\\nT Bavuma c Rahane b Jadeja 38 (63b 4x4 1x6) SR: 60.31\\n43.1\\n0\\nJadeja to Bavuma, 0 run, huge appeal by Jadeja as Bavuma misses the sweep and Kohli reviews. Pitches on off and is turning away, I think Bavuma will be saved by the impact, and that might miss the stumps too. And in fact that\\'s exactly what has happened. That\\'s a poor review. Impact well outside off and turning further away so it\\'s inevitably missing off by a long way too\\n\\nArunabh : \"Also, in the appreciation of Wriddhi\\'s wicket keeping skills lets 0t forget that he is a pretty sound and technical batters who bats with intelligently and with level headed approach. This guy has its own set of followers in my work place. A true unsung hero. \"\\nEND OF OVER:43 | 7 Runs | SA: 125/5\\n\\n    Senuran Muthusamy9 (42b)\\n    Temba Bavuma38 (61b)\\n\\n    Mohammed Shami6-2-27-0\\n    Ravichandran Ashwin16-4-27-2\\n\\n42.6\\n0\\nMohammed Shami to Muthusamy, 0 run, length ball on the stumps, blocked back to the bowler\\n\\nTushar J: \"Bavuma is showing good intent. With the 3 in form batsmen to come in still, he can look to building up his big innings! In the interest of cricket, I want to seriously see a fight back from SA!\"\\n42.5\\n1\\nMohammed Shami to Bavuma, 1 run, a bit too straight, tailing into the pads and tucked through midwicket\\n\\nKiran: \"Bavuma averaged 32.11 after 37 tests with just 1 century... These are very average figures for a specialist batsman... How many more chances will he get?\"\\n42.4\\n0\\nMohammed Shami to Bavuma, 0 run, back of a length on off, defended solidly back to Shami\\n42.3\\n0\\nMohammed Shami to Bavuma, 0 run, fuller outside off, crisp cover drive with a big stride out but can\\'t beat the fielder at cover\\n42.2\\n2\\nMohammed Shami to Bavuma, 2 runs, back of a length and climbing into him, fended awkwardly to square leg off his midriff. The fielder is deep so they sneak a second run\\n42.1\\n4\\nMohammed Shami to Bavuma, 4 runs, length outside off, and he walks into the shot, opens the bat face and controls it well, running it through backward point for a boundary. Well timed\\n\\ncricmaniac: \"This series is being decided in the first 30 overs of the innings. SA losing half their side within those overs almost every time and India playing with utmost caution and saving their best to come afterwards. \"\\nEND OF OVER:42 | 1 Run | SA: 118/5\\n\\n    Senuran Muthusamy9 (41b)\\n    Temba Bavuma31 (56b)\\n\\n    Ravichandran Ashwin16-4-27-2\\n    Mohammed Shami5-2-20-0\\n\\n41.6\\n0\\nAshwin to Muthusamy, 0 run, just loops up over the short leg. Muthusamy wasn\\'t expecting that line perhaps, tossed up on leg and he gets an inside edge onto pad that goes over the fielder and falls safe\\n41.5\\n1\\nAshwin to Bavuma, 1 run, fuller, clipped off his toes to mid-on\\'s right\\n41.4\\n0\\nAshwin to Bavuma, 0 run, tossed up outside off he tucks bat behind pad and lets it go through to the keeper while lunging out\\n41.3\\n0\\nAshwin to Bavuma, 0 run, stayed back this time to a length ball but dealt with it well, tapping it down towards the legside\\n41.2\\n0\\nAshwin to Bavuma, 0 run, fuller outside off, padded away with a big stretch\\n\\nRohit off the field. Hanuma at silly point. Maybe Rohit has to tend to his ankle\\n41.1\\n0\\nAshwin to Bavuma, 0 run, fuller on off, defended on the front foot\\n\\nRoy, Riyadh: \"I hope this Test match reiterates the point that wicket-keeping is a specialist job and you should always have the best skilled wicket-keeper in the country on your team sheet. Everything else comes next. Brilliant stuff by Wriddhi !\"\\n\\nHari: \"This Indian team under Kohli has raised the bar. They have won a series in Australia. With the fast bowling riches they have, a series win in South Africa and England is 0t far - provided their main bowlers stay fit\" - would help Kohli if they won a few tosses too!\\nEND OF OVER:41 | 3 Runs | SA: 117/5\\n\\n    Senuran Muthusamy9 (40b)\\n    Temba Bavuma30 (51b)\\n\\n    Mohammed Shami5-2-20-0\\n    Ravichandran Ashwin15-4-26-2\\n\\n40.6\\n0\\nMohammed Shami to Muthusamy, 0 run, snakes past the outside edge. Beautifully bowled, moving across him on a length, and defeats his forward defensive and just past the edge\\n\\nover the wicket\\n40.5\\n0\\nMohammed Shami to Muthusamy, 0 run, length all angling into him on off stump, Muthusamy stays in his crease and calmly blocks it back to Shami\\n40.4\\n0\\nMohammed Shami to Muthusamy, 0 run, length ball angling into him, patted to mid-on\\n40.3\\n0\\nMohammed Shami to Muthusamy, 0 run, length ball outside off, steered to point\\n\\ntwo slips and a gully stay for the left-hander. Shami around the wicket\\n40.2\\n1\\nMohammed Shami to Bavuma, 1 run, and some shape in the air going inwards, takes the inside edge down to fine leg as he goes half-cock in his forward defensive\\n\\nShami operating with two slips and a gully\\n40.1\\n2\\nMohammed Shami to Bavuma, 2 runs, length ball but on the pads, tucked to deep square leg\\n\\nAditya: \"Looks like payback time for Kingsmead,\\'96. Ashwin on a rampage.\" - ah, that was a proper nightmare for Indian fans. Donald and Pollock on a green track, India 100 all out and 66 all out.\\nEND OF OVER:40 | 2 Runs | SA: 114/5\\n\\n    Senuran Muthusamy9 (36b)\\n    Temba Bavuma27 (49b)\\n\\n    Ravichandran Ashwin15-4-26-2\\n    Ravindra Jadeja11-1-29-1\\n\\n39.6\\n0\\nAshwin to Muthusamy, 0 run, fuller on off, defended to mid-off\\n39.5\\n0\\nAshwin to Muthusamy, 0 run, full toss, slapped straight to mid-off\\n39.4\\n0\\nAshwin to Muthusamy, 0 run, fuller, defended back to the bowler\\n39.3\\n0\\nAshwin to Muthusamy, 0 run, nice take by Rahane at slip off Muthusamy\\'s pad. Length outside off and he was padding it away. Rahane dived to his left and took it\\n39.2\\n0\\nAshwin to Muthusamy, 0 run, given air outside off, defended into the offside on the front foot\\n39.1\\n2\\nAshwin to Muthusamy, 2 runs, drifts too far on the pads and is clipped through square leg\\nEND OF OVER:39 | 8 Runs | SA: 112/5\\n\\n    Temba Bavuma27 (49b)\\n    Senuran Muthusamy7 (30b)\\n\\n    Ravindra Jadeja11-1-29-1\\n    Ravichandran Ashwin14-4-24-2\\n\\n38.6\\n6\\nJadeja to Bavuma, 6 runs, marginally short and Bavuma rocks back to create the space to pull this over midwicket and into the fence. Oh hello, that\\'s actually carried all the way! It\\'s a six\\n38.5\\n0\\nJadeja to Bavuma, 0 run, good length but good forward defensive with a confident stride forward\\n38.4\\n0\\nJadeja to Bavuma, 0 run, goes with the arm that one and hits him on the pad, but the angle would have taken it down leg\\n38.3\\n0\\nJadeja to Bavuma, 0 run, full outside off, comes on the front foot to defend to silly point\\n38.2\\n0\\nJadeja to Bavuma, 0 run, fuller, defended down the pitch\\n38.1\\n2\\nJadeja to Bavuma, 2 runs, tossed up and gets this on the right length, Bavuma is going forward to deend and it gets the edge, but falls just short of Rahane at second slip and goes through him\\nEND OF OVER:38 | 4 Runs | SA: 104/5\\n\\n    Senuran Muthusamy7 (30b)\\n    Temba Bavuma19 (43b)\\n\\n    Ravichandran Ashwin14-4-24-2\\n    Ravindra Jadeja10-1-21-1\\n\\n37.6\\n0\\nAshwin to Muthusamy, 0 run, and that\\'s the bowler\\'s comeback - kicks off a length and spins viciously past his outside edge by a long way, beating him completely\\n37.5\\n4\\nAshwin to Muthusamy, 4 runs, tossed up again inviting the drive, and Muthusamy nails it, smokes it through cover point with a nice big stride and using his hands to go through with the shot while opening the face of the bat a bit\\n37.4\\n0\\nAshwin to Muthusamy, 0 run, went through straight on outside off, but he was 0t interested in playing it anyway\\n37.3\\n0\\nAshwin to Muthusamy, 0 run, length on middle spinning away but he defends solidly\\n37.2\\n0\\nAshwin to Muthusamy, 0 run, and that is a ball you can\\'t do much about, loops up and dips on him, turns e0ugh to take the shoulder of the bat but drops short of the close in fielders\\n37.1\\n0\\nAshwin to Muthusamy, 0 run, fuller, driven to extra cover\\n\\nCeline, Kuwait: \"If Muthu and Maharaj could stretch the innings so far in the 1st innings, why has the top order failed yet again?\" and don\\'t forget Philander\\nEND OF OVER:37 | 5 Runs | SA: 100/5\\n\\n    Temba Bavuma19 (43b)\\n    Senuran Muthusamy3 (24b)\\n\\n    Ravindra Jadeja10-1-21-1\\n    Ravichandran Ashwin13-4-20-2\\n\\n36.6\\n0\\nJadeja to Bavuma, 0 run, fuller outside off, big stride out to defend towards cover-point\\n36.5\\n0\\nJadeja to Bavuma, 0 run, hits the back of length area again from which he\\'s got sharp turn, but this is a little too short and the batsman has e0ugh time to defend\\n36.4\\n4\\nJadeja to Bavuma, 4 runs, tossed up but too full and he unfurls a super looking cover drive, plays it from the crease, gets on one knee and creams it through the offside\\n36.3\\n0\\nJadeja to Bavuma, 0 run, a0ther one hisses past the outside edge. Third time that has happened for Jadeja to Bavuma. Turning sharply from a length\\n36.2\\n1\\nJadeja to Muthusamy, 1 run, fuller outside off, opens the face of the bat to steer to point\\'s left\\n36.1\\n0\\nJadeja to Muthusamy, 0 run, too short and spinning into him, jabbed towards extra cover from the crease\\n\\nAkshat: \"Just feel a little bad for Proteas. This Series was supposed to be one which got them back in the International circuit as a powerhouse. I am sure that a lot of hard work would have gone into the preparation. But things have just 0t gone their way. I hope this experience will help them in forthcoming series.\"\\nEND OF OVER:36 | 6 Runs | SA: 95/5\\n\\n    Temba Bavuma15 (39b)\\n    Senuran Muthusamy2 (22b)\\n\\n    Ravichandran Ashwin13-4-20-2\\n    Ravindra Jadeja9-1-16-1\\n\\n35.6\\n0\\nAshwin to Bavuma, 0 run, wide of the crease again, fuller and angling in on off, he stretches forward and defends\\n35.5\\n2lb\\nAshwin to Bavuma, 2 leg byes, sharp turn 0w, slower and more air, pitches on off and breaks so much that it beats Saha down the legside. The angle also helped, with Ashwin having gone wide of the crease\\n35.4\\n0\\nAshwin to Bavuma, 0 run, quicker one outside off, he comes forward to defend\\n35.3\\n0\\nAshwin to Bavuma, 0 run, tossed up outside off and he goes to sweep, but misses. Hits his pads but impact is outside off\\n35.2\\n0\\nAshwin to Bavuma, 0 run, a little short still and he goes on the back foot to steer to backward point\\n35.1\\n4\\nAshwin to Bavuma, 4 runs, lovely shot. Ashwin errs, 0t done it often, but Temba capitalises. Too short and wide outside off, and cut away beautifully through backward point\\n\\nYashas Sridhara: \"@SkG: dont think so, if you read Bavumas interview of last evening, he was talking about taking the fight to bowlers. They pretty much managed it in first innings in Vizhag. Just poor execution.\"\\nEND OF OVER:35 | 1 Run | SA: 89/5\\n\\n    Senuran Muthusamy2 (22b)\\n    Temba Bavuma11 (33b)\\n\\n    Ravindra Jadeja9-1-16-1\\n    Ravichandran Ashwin12-4-16-2\\n\\n34.6\\n0\\nJadeja to Muthusamy, 0 run, sharp turn inside him from back of a length, he\\'s coming across and wears it on his pads\\n34.5\\n0\\nJadeja to Muthusamy, 0 run, fuller outside off, defended\\n34.4\\n0\\nJadeja to Muthusamy, 0 run, too full outside off and driven firmly but hits the shin pads of silly point - Mayank the man there\\n\\nSouth Africa might be happier with the left-hander facing Jadeja and the right-hander facing Ashwin.\\n34.3\\n1\\nJadeja to Bavuma, 1 run, skips down the track and gets close to the ball to tuck it wide of mid-on\\n34.2\\n0\\nJadeja to Bavuma, 0 run, fuller, patted back to the bowler\\n34.1\\n0\\nJadeja to Bavuma, 0 run, past the outside edge again. Pitches on a length and jags away sharply with good bounce too\\n\\nKarthik R: \"Pleasure watching the way Ash is bowling. Amazing treat indeed.\"\\nEND OF OVER:34 | (maiden) | SA: 88/5\\n\\n    Senuran Muthusamy2 (19b)\\n    Temba Bavuma10 (30b)\\n\\n    Ravichandran Ashwin12-4-16-2\\n    Ravindra Jadeja8-1-15-1\\n\\n33.6\\n0\\nAshwin to Muthusamy, 0 run, tossed up on off, defended to silly point\\n33.5\\n0\\nAshwin to Muthusamy, 0 run, fuller on the stumps, driven to mid-off\\n33.4\\n0\\nAshwin to Muthusamy, 0 run, some bite this time, and outside off, hisses up and Saha collects well above his waist. Muthusamy leaves it alone\\n33.3\\n0\\nAshwin to Muthusamy, 0 run, probing one, flighted on the stumps, but defended on the front foot again\\n33.2\\n0\\nAshwin to Muthusamy, 0 run, and pulls the line marginally straigther, on middle stump 0w but defended solidly just the same\\n33.1\\n0\\nAshwin to Muthusamy, 0 run, gets some drift into him and ends up fullish on leg stump, defended by getting behind it\\n\\nABHISEK DAGA: \"Now that the easier part of dismissing the top order done,here comes the biggest challenge for Indian bowlers to dismiss the lower order...let\\'s c if they can stretch it to day 5...just a thought\"\\n\\nSKG: \"That shot by QDK made me feel that South Africa has just stopped even trying.\"\\nEND OF OVER:33 | (maiden) | SA: 88/5\\n\\n    Temba Bavuma10 (30b)\\n    Senuran Muthusamy2 (13b)\\n\\n    Ravindra Jadeja8-1-15-1\\n    Ravichandran Ashwin11-3-16-2\\n\\n32.6\\n0\\nJadeja to Bavuma, 0 run, too full and he unfurls a nice looking cover drive but can\\'t beat the man at short cover\\n32.5\\n0\\nJadeja to Bavuma, 0 run, and that one spins a bit more and beats his outside edge. Pitched on a length, Bavuma was on the front foot to defend\\n32.4\\n0\\nJadeja to Bavuma, 0 run, good length on off, defended carefully towards cover\\n32.3\\n0\\nJadeja to Bavuma, 0 run, too short and wide outside off, but Bavuma 0t tempted to get bat anywhere near it, just lets it go\\n32.2\\n0\\nJadeja to Bavuma, 0 run, outside off, defended into the offside\\n32.1\\n0\\nJadeja to Bavuma, 0 run, length on off, defended gently\\nEND OF OVER:32 | 3 Runs | SA: 88/5\\n\\n    Senuran Muthusamy2 (13b)\\n    Temba Bavuma10 (24b)\\n\\n    Ravichandran Ashwin11-3-16-2\\n    Ravindra Jadeja7-0-15-1\\n\\n31.6\\n2\\nAshwin to Muthusamy, 2 runs, a0ther one invitingly tossed up around off and he gets on the front foot for a confident drive through cover, along the ground\\n31.5\\n0\\nAshwin to Muthusamy, 0 run, tossed up closer to off stump, he tries to drive it again, but misses it\\n\\nRohit\\'s good to continue.\\n31.4\\n0\\nAshwin to Muthusamy, 0 run, there\\'s the sucker ball for the drive outside off, and he connects with it. pings Rohit Sharma at silly point on his ankle and has him hobbling. Rohit\\'s hurt his left ankle.\\n31.3\\n0\\nAshwin to Muthusamy, 0 run, angling into him, a bit fuller, he stretches out to defend\\n31.2\\n1\\nAshwin to Bavuma, 1 run, fuller on off, punched along the ground on the front foot through cover\\n31.1\\n0\\nAshwin to Bavuma, 0 run, nicely done, tossed up and drawing him forward but it dips well before he can get to the pitch of it and breaks in to rap him on the pads\\n\\nakkivete: \"i have a feeling that this gonna be the Temba Bavuma inning.....lets see\"\\nEND OF OVER:31 | 5 Runs | SA: 85/5\\n\\n    Temba Bavuma9 (22b)\\n    Senuran Muthusamy0 (9b)\\n\\n    Ravindra Jadeja7-0-15-1\\n    Ravichandran Ashwin10-3-13-2\\n\\n30.6\\n1\\nJadeja to Bavuma, 1 run, good length on middle, doesn\\'t spin as much as he though and takes the inside edge of his forward defensive to roll to square leg\\n30.5\\n0\\nJadeja to Bavuma, 0 run, fuller, given air, defended on the front foot\\n30.4\\n4\\nJadeja to Bavuma, 4 runs, gives him the charge and executes perfectly. Gets to the pitch of the ball and hits a sweet shot over mid-off and into the boundary\\n30.3\\n0\\nJadeja to Bavuma, 0 run, good length and gets it to bounce a bit extra, awkwardly fended off his waist towards square leg\\n30.2\\n0\\nJadeja to Bavuma, 0 run, fuller on the stumps, stays in his crease and blocks\\n30.1\\n0\\nJadeja to Bavuma, 0 run, length ball on the stumps, turning away but e0ugh time to get behind it and defend\\n\\nMustafa Moudi: \"Want to compliment the person that scheduled this Test on a Thursday. Maybe he must have predicted that this Test will last exactly 4 days and so the final day will fall on Sunday, making the weekend pleasant !!\"\\nEND OF OVER:30 | 1 Run | SA: 80/5\\n\\n    Senuran Muthusamy0 (9b)\\n    Temba Bavuma4 (16b)\\n\\n    Ravichandran Ashwin10-3-13-2\\n    Ravindra Jadeja6-0-10-1\\n\\n29.6\\n0\\nAshwin to Muthusamy, 0 run, fuller this time on the stumps and those previous balls have made his footwork a bit uncertain but he manages to jam the bat down in time to keep it out\\n29.5\\n0\\nAshwin to Muthusamy, 0 run, a0ther one kicks up from a length and spins past the outside edge\\n29.4\\n0\\nAshwin to Muthusamy, 0 run, and that one spits up after pitching on a length, goes past his outside edge but he\\'s got the bat tucked right beside pad inside the line\\n29.3\\n0\\nAshwin to Muthusamy, 0 run, and there\\'s the ball that tempts him into the drive. Pleasing loop and dip, breaks sharply after pitching. Muthusamy goes for the booming drive, doesn\\'t connect\\n29.2\\n0\\nAshwin to Muthusamy, 0 run, nicely tossed up on off and he comes forward to smother it\\n\\nSreenik: \"I am sure the \"timbre\" of timber rattling would be sweet to the Indians!\"\\n29.1\\n1\\nAshwin to Bavuma, 1 run, length outside off, he stays back and punches to extra cover\\nEND OF OVER:29 | 1 Run 1 Wkt | SA: 79/5\\n\\n    Senuran Muthusamy0 (4b)\\n    Temba Bavuma3 (15b)\\n\\n    Ravindra Jadeja6-0-10-1\\n    Ravichandran Ashwin9-3-12-2\\n\\n28.6\\n0\\nJadeja to Muthusamy, 0 run, again with that forward defence. His back leg splays out well beyond off stump so he looks off balance but he manages to get behind it and block solidly\\n28.5\\n0\\nJadeja to Muthusamy, 0 run, length ball stays in his crease that time and defends\\n28.4\\n0\\nJadeja to Muthusamy, 0 run, length ball, keeps it on off, and Muthusamy is already in a defensive position and blocks it\\n28.3\\n0\\nJadeja to Muthusamy, 0 run, fuller on off, gets behind it and defends\\n\\nElsewhere. Ashique Kuruniyan\\'s willingness to run at opposition defenders has made him an invaluable asset in the Indian football team. Read more here..\\n28.2\\nW\\nJadeja to de Kock, W runs, goes for the big slog-sweep and stumps rattled. Some sharp turn from outside off on a length. Quinton wanted to bash it into oblivion. There is 0 deep midwicket so he thought the shot is on. But he connected only with air, while the ball connects with the stumps.\\n\\nQ de Kock b Jadeja 5 (9b 1x4 0x6) SR: 55.55\\n\\nshort leg, leg slips, slip and silly point\\n28.1\\n1\\nJadeja to Bavuma, 1 run, fuller, drifting on the pads, gets on the front foot and pushes softly to the bowler\\'s right to steal a quick single\\nEND OF OVER:28 | 4 Runs | SA: 78/4\\n\\n    Quinton de Kock5 (8b)\\n    Temba Bavuma2 (14b)\\n\\n    Ravichandran Ashwin9-3-12-2\\n    Ravindra Jadeja5-0-9-0\\n\\n27.6\\n0\\nAshwin to de Kock, 0 run, and the dip and turn almost defeated him there, was 0t pushing forward e0ugh, and gets it off the shoulder of the bat, but played softly e0ugh that it plops down short of the close-in fielders\\n27.5\\n0\\nAshwin to de Kock, 0 run, a bit fuller outside off, steered towards point\\n27.4\\n0\\nAshwin to de Kock, 0 run, nicely tossed up and dipping on middle stump, but he does well to lunge out and get to the pitch to smother the spin\\n\\nAshwin operating with two slips, silly point and short leg by the way\\n27.3\\n4\\nAshwin to de Kock, 4 runs, inviting the drive and he goes for it, gets a thick outside edge which goes wide of second slip.\\n27.2\\n0\\nAshwin to de Kock, 0 run, nice loop, makes him stretch out and defend on off stump\\n27.1\\n0\\nAshwin to de Kock, 0 run, flighted on the stumps, defended on the front foot\\n\\n12.11 pm: All set to restart. Ashwin to de Kock. All fielders inside the circle.\\n\\n12.08 pm: We\\'re a short way away from the second session, and here\\'s an interesting nugget from our resident stats genius Gaurav Sundararaman on Ashwin\\'s bowling this series:\\n\\nv left-hand batsmen - 5 wickets @ 30.20 v right-hand batsmen - 9 wickets @ 12.66\\n\\nQuite a reversal from his career figures, which are 20.23 (LHB) and 30.60 (RHB)\\n\\nKedarKshirsagar: \"I was pleasantly shocked to see India enforcing follow-on today but if this is going to be a usual thing due to Test Championship, bowlers are going to be pushed to their limits. It\\'s a good thing that Indian bowling is seeing its golden era right 0w with all quality bowlers waiting for their turns.\" - I think it\\'s entirely driven by the match situation, opposition and resources available. The Test Championship has at best a peripheral role in the decision.\\n\\nAakash Chopra says the upper crust has crumbled a bit on this pitch but if you put your mind to it, it\\'s still a good pitch to bat on.\\n\\nAt 74 for 4, trailing by 252 still while following on though, the mind plays as many tricks as the pitch does.\\n\\nNitin Gupta: \"After Elgar 0w Ashwin jumped two positions in most test wickets, and he is at 0 23 0w to take most wickets. What an Achievement, applaud \"\\n\\n11.55 am: Lunch-time reading. Revisit this magnificent piece that seamlessly marries cricket analysis with an articular player\\'s thoughts - Karthik Krishnaswamy wrote on R Ashwin in the first Test, when he marked his comeback with seven wickets.\\nEND OF OVER:27 | 2 Runs | SA: 74/4\\n\\n    Temba Bavuma2 (14b)\\n    Quinton de Kock1 (2b)\\n\\n    Ravindra Jadeja5-0-9-0\\n    Ravichandran Ashwin8-3-8-2\\n\\n11.30am So, India are six wickets away from wrapping up an innings victory and the series. SA still need 253 runs to make India bat again. After Kohli enforced the follow-on, South Africa lost Markram again for a duck. Saha then flew parallel to the ground to send back No.3 De Bryun, leaving the visitors at 21 for 2. Faf du Plessis, who bumped him to No.4, and Dean Elgar offered some resistance before Ashwin removed both batsmen to keep India on course. We will be back in 40 minutes for the post-lunch session.\\n\\nIan Chappell weighs in on Rohit\\'s promotion to the top in Test cricket\\n\\nJagZ: \"It\\'s Saha who actually got the wicket of de Bruyn in both innings - Yadav just happened to be the bowler, especially the second innings caught down leg\"\\n\\nPradeep Narayan: \"The last 2 wickets have shown that Wridhi and Umesh have great temperament and on a lighter 0te...gr8 jugglers too ;)...there would be some spl training been provided by the coaching staff for Plans B,C...whenever such juggling situation happens ;)\"\\n26.6\\n0\\nJadeja to Bavuma, 0 run, tossed and outside off, driven to mid-off once again\\n26.5\\n0\\nJadeja to Bavuma, 0 run, fuller and just a shade outside off, jabbed down to mid-off\\n26.4\\n0\\nJadeja to Bavuma, 0 run, slower through the air and drifts at off stump, Bavuma gets behind the line and defends\\n\\nTushar J: \"Last pair which is out of form. After which we have the 3 in form batsmen coming in. Ind have done only 25% of their job so far ;)\"\\n26.3\\n0\\nJadeja to Bavuma, 0 run, tossed on off, played to silly-point with soft hands\\n26.2\\n1\\nJadeja to de Kock, 1 run, tossed up and spins back in, Quinton chips it off the inside half but to the right of Rohit at short leg\\n26.1\\n1\\nJadeja to Bavuma, 1 run,\\nEND OF OVER:26 | 1 Run 1 Wkt | SA: 72/4\\n\\n    Quinton de Kock0 (1b)\\n    Temba Bavuma1 (9b)\\n\\n    Ravichandran Ashwin8-3-8-2\\n    Ravindra Jadeja4-0-7-0\\n\\n25.6\\n0\\nAshwin to de Kock, 0 run, full and dips at off, de Kock keeps it out\\n25.5\\n1\\nAshwin to Bavuma, 1 run, wide of the crease, slider on off, prodded through the covers\\n25.4\\n0\\nAshwin to Bavuma, 0 run, tossed on off, forward and dead-batted\\n25.3\\n0\\nAshwin to Bavuma, 0 run, flatter and drifts outside off, defended off the back foot\\n\\nDe Kock at No.6\\n25.2\\nW\\nAshwin to Elgar, W runs, Ooops, what was that, Elgar? It worked for him in Vizag, here he holes out to mid-off running back. Umesh just about clings onto the catch on the third attempt. Ashwin loops it up on off, dips and turns. Elgar isn\\'t quite close e0ugh to the pitch and winds up slicing the ball as opposed to lofting it. He was aiming to hit it over mid-on, but Umesh grabs it on the rebound from mid-off. Sixth in the game for Ashwin\\n\\nD Elgar c Yadav b Ashwin 48 (72b 8x4 0x6) SR: 66.66\\n25.1\\n0\\nAshwin to Elgar, 0 run, fullish and outside off, driven through the line to short cover\\nEND OF OVER:25 | 1 Run | SA: 71/3\\n\\n    Temba Bavuma0 (6b)\\n    Dean Elgar48 (70b)\\n\\n    Ravindra Jadeja4-0-7-0\\n    Ravichandran Ashwin7-3-7-1\\n\\nManish Kumar: \"The difference between Jaddu & Ashwin\\'s skill sets are quite apparent in this test. Ash is able to take wickets when 0thing much is happening from pitch, while Jaddu is still darting. \"\\n24.6\\n0\\nJadeja to Bavuma, 0 run, much slower through the air on off, Bavuma presses forward in defence\\n\\nKartik Gada: \"Ashwin on par with Lillee 0w (and reached 355 in fewer tests). 355 was also the World Record until 1986. \"\\n24.5\\n0\\nJadeja to Bavuma, 0 run, fuller and just a shade outside off, pushed to cover off the front foot\\n\\nAbhinav: \"Good to see Saha doing well. So many years of waiting, deserves every bit of this right 0w.\"\\n24.4\\n0\\nJadeja to Bavuma, 0 run, round-arm dart from Jadeja, blocked on middle\\n24.3\\n1\\nJadeja to Elgar, 1 run, whipped away with the break to deep square leg\\n\\nSKD: \"All the batting and bowling heroes aside, Saha is having an extraordinary series as well. Pant probably needs to wait for his test caps.\\n24.2\\n0\\nJadeja to Elgar, 0 run, flatter on off, defended\\n24.1\\n0\\nJadeja to Elgar, 0 run, fuller on off, jabbed away to the leg side\\nEND OF OVER:24 | 3 Runs 1 Wkt | SA: 70/3\\n\\n    Temba Bavuma0 (3b)\\n    Dean Elgar47 (67b)\\n\\n    Ravichandran Ashwin7-3-7-1\\n    Ravindra Jadeja3-0-6-0\\n\\n23.6\\n0\\nAshwin to Bavuma, 0 run, Ashwin gives this loads of air, Bavuma gets outside the line, the ball balloons off the pad to silly-point\\n23.5\\n0\\nAshwin to Bavuma, 0 run, slides on outside off, beaten on the outside edge\\n23.4\\n0\\nAshwin to Bavuma, 0 run, on a length and spins in, defended\\n\\nBavuma is the new batsman\\n23.3\\nW\\nAshwin to du Plessis, W runs, Whoa! Has Saha pouched it on the rebound? Faf has been given out caught behind. Ashwin tosses an offbreak, gets it to turn in, Faf inches forward, prods at it and inside-edges it onto the pad. It dies on Saha. One. Two. Three... Saha plunges forward and takes it on the fourth attempt inches from the ground.\\n\\nF du Plessis c †Saha b Ashwin 5 (54b 0x4 0x6) SR: 9.25\\n23.2\\n3\\nAshwin to Elgar, 3 runs, Ashwin lobs it up outside off, Elgar reaches out for the ball and drives through the line. The throw from the outfield is to Ashwin, who swerves away from the ball, instead of grabbing it and hitting the stumps. India end up conceding overthrows\\n23.1\\n0\\nAshwin to Elgar, 0 run, on a length and drifts in on off stump, watchfully defended by Elgar\\nEND OF OVER:23 | 1 Run | SA: 67/2\\n\\n    Faf du Plessis5 (53b)\\n    Dean Elgar44 (65b)\\n\\n    Ravindra Jadeja3-0-6-0\\n    Ravichandran Ashwin6-3-4-0\\n\\nMukesh007: \"@muthu publishing 2 comment in Jadeja\\'s over giving u some edge over other but let me remind u @debayan published 4 comment in one over of Jaddu...He\\'s still leading.\" --- Debayan is a legend\\n22.6\\n0\\nJadeja to du Plessis, 0 run, fuller on the stumps, played back to the bowler\\n22.5\\n0\\nJadeja to du Plessis, 0 run, flatter, back of a length, angling in, then breaks away past the outside edge. Some extra bounce to boot\\n22.4\\n0\\nJadeja to du Plessis, 0 run, Jadeja shifts his lines wider, 0n-turner on a fifth-stump line, blocked\\n22.3\\n1\\nJadeja to Elgar, 1 run, very full, swept from the stumps to long leg\\n22.2\\n0\\nJadeja to Elgar, 0 run, shorter and outside off, extra bounce from the rough, Elgar flaps the ball away to midwicket\\n22.1\\n0\\nJadeja to Elgar, 0 run, Elgar 0w jumps outside the line of off, aims a sweep, but does 0t get it away\\n\\nElsewhere, MC Mary Kom became the most successful boxer in the history of the World Championships. Read more here..\\nEND OF OVER:22 | (maiden) | SA: 66/2\\n\\n    Faf du Plessis5 (50b)\\n    Dean Elgar43 (62b)\\n\\n    Ravichandran Ashwin6-3-4-0\\n    Ravindra Jadeja2-0-5-0\\n\\n21.6\\n0\\nAshwin to du Plessis, 0 run, pushed through and spins in on off, Faf covers up in defence\\n21.5\\n0\\nAshwin to du Plessis, 0 run,\\n21.4\\n0\\nAshwin to du Plessis, 0 run, Faf shuffles outside the line, sweeps flat and hard. Rohit takes evasive action at short leg and cops a blow on the shin\\n21.3\\n0\\nAshwin to du Plessis, 0 run, back of a length and turning in on middle, defended to short leg\\n21.2\\n0\\nAshwin to du Plessis, 0 run, Faf gets forward, gets outside the line, and defends\\n21.1\\n0\\nAshwin to du Plessis, 0 run, fired on off stump, dead-batted away\\nEND OF OVER:21 | 2 Runs | SA: 66/2\\n\\n    Dean Elgar43 (62b)\\n    Faf du Plessis5 (44b)\\n\\n    Ravindra Jadeja2-0-5-0\\n    Ravichandran Ashwin5-2-4-0\\n\\n20.6\\n0\\nJadeja to Elgar, 0 run, Bat-pad catch? Umpire Llong shakes his head. On a length and turns back in from outside off, Elgar is caught on the crease and he wafts at the ball. Off the pad-flap and lobs up. Rahane throws himself to his right from slip and grabs the ball\\n20.5\\n0\\nJadeja to Elgar, 0 run, Elgar gets half-forward and works it with the break to midwicket\\n\\nAnanth: \"Faf already started blockathon. We need to take Elgar early. It will be difficult for faf without Amla and ABD\"\\n20.4\\n1lb\\nJadeja to du Plessis, 1 leg bye, shortish and at the pads, deflected to short fine leg\\n20.3\\n0\\nJadeja to du Plessis, 0 run, much slower on off, poked away to the right of slip\\n\\nDevine : \"Good to see the SA top order showing some fight. Has been missing in their last few innings \"\\n20.2\\n0\\nJadeja to du Plessis, 0 run, sliding in at 92ks, all shoulder in this ball, whisked away to cover\\n20.1\\n1\\nJadeja to Elgar, 1 run, looped up on off, driven down to long-on\\nEND OF OVER:20 | (maiden) | SA: 64/2\\n\\n    Faf du Plessis5 (41b)\\n    Dean Elgar42 (59b)\\n\\n    Ravichandran Ashwin5-2-4-0\\n    Ravindra Jadeja1-0-4-0\\n\\n19.6\\n0\\nAshwin to du Plessis, 0 run, speared on off once again, Faf gets right behind the line and plays it back to Ashwin\\n19.5\\n0\\nAshwin to du Plessis, 0 run, on a length and faster on off, Faf opts to jab it to the off side off the back foot\\n\\nJiten Chandaran: \"With Jadeja bowling the wide line outside off to Elgar trying to hit the tough patch, I think India should have a silly point as well...maybe take out the leg slip\"\\n19.4\\n0\\nAshwin to du Plessis, 0 run, looped up on off, dips, Faf does 0t get close e0ugh to the pitch and inside-edges it onto the pad\\n\\nAby Mathew: \"Elgar playing on a different pitch compared to his fellow mates \"\\n19.3\\n0\\nAshwin to du Plessis, 0 run, flatter and spins in on off, blocked off the front foot\\n19.2\\n0\\nAshwin to du Plessis, 0 run, on a length and drifts away outside off, beating the outside edge\\n19.1\\n0\\nAshwin to du Plessis, 0 run, back of a length and turns in on middle, Faf goes back and tickles it to square leg\\nEND OF OVER:19 | 4 Runs | SA: 64/2\\n\\n    Dean Elgar42 (59b)\\n    Faf du Plessis5 (35b)\\n\\n    Ravindra Jadeja1-0-4-0\\n    Ravichandran Ashwin4-1-4-0\\n\\n18.6\\n0\\nJadeja to Elgar, 0 run, pushed through and breaks back in, blocked to short leg\\n18.5\\n0\\nJadeja to Elgar, 0 run, fuller on off, forward and dead-batted away by Elgar\\n18.4\\n0\\nJadeja to Elgar, 0 run, dragged down outside off, Elgar jumps back and forces the ball to midwicket\\n18.3\\n0\\nJadeja to Elgar, 0 run, slower through the air and spins in at off, Elgar bends forward and defends carefully\\n18.2\\n0\\nJadeja to Elgar, 0 run, tossed outside off, Elgar aims a0ther cover drive but the bat turns in his hands and he sends an inside edge to the leg side\\n18.1\\n4\\nJadeja to Elgar, 4 runs, speared full and attached with width outside off, Elgar doesn\\'t need any second invitations. Creams it away to the right of Ashwin at extra-cover\\n\\nHere comes Jadeja\\nEND OF OVER:18 | 1 Run | SA: 60/2\\n\\n    Faf du Plessis5 (35b)\\n    Dean Elgar38 (53b)\\n\\n    Ravichandran Ashwin4-1-4-0\\n    Mohammed Shami4-2-17-0\\n\\n17.6\\n0\\nAshwin to du Plessis, 0 run, looped up and breaks in at off, Faf deploys a good stride and blocks to the leg side\\n17.5\\n0\\nAshwin to du Plessis, 0 run, defended with the break to the left of short leg\\n17.4\\n0\\nAshwin to du Plessis, 0 run, Ashwin belts out an appeal for lbw, 0t given. Kohli challenges the on-field 0t-out decision. Reckon Faf got outside the line while venturing the sweep. Pushed through fuller and spins back in , Faf does 0t make contact with the sweep. The tracker returns umpire\\'s call on impact. Gaffney\\'s decision is upheld in the end\\n17.3\\n1\\nAshwin to Elgar, 1 run, slower through the air and drifts towards the pads, worked away past the left of mid-on\\n17.2\\n0\\nAshwin to Elgar, 0 run, much fuller and spins away just a shade outside off, Elgar bends forward in defence\\n17.1\\n0\\nAshwin to Elgar, 0 run, pushed through and angling in at off stump, solidly played back to Ashwin\\nEND OF OVER:17 | (maiden) | SA: 59/2\\n\\n    Faf du Plessis5 (32b)\\n    Dean Elgar37 (50b)\\n\\n    Mohammed Shami4-2-17-0\\n    Ravichandran Ashwin3-1-3-0\\n\\n16.6\\n0\\nMohammed Shami to du Plessis, 0 run, banged in short and slanting in at off, Faf gets up on his tippy toes and fends it off\\n16.5\\n0\\nMohammed Shami to du Plessis, 0 run, pitched up and Shami encourages Faf to drive from outside off. The SA captain, though, isn\\'t interested\\n16.4\\n0\\nMohammed Shami to du Plessis, 0 run, on a length and straightens just outside off, 0 shot from Faf\\n16.3\\n0\\nMohammed Shami to du Plessis, 0 run, on a length and seaming in at off stump, can\\'t breach Faf\\'s compact defences\\n16.2\\n0\\nMohammed Shami to du Plessis, 0 run, shorter and Shami hits the deck hard, just a shade outside off, Faf stands up tall and inside-edges the ball to the leg side\\n16.1\\n0\\nMohammed Shami to du Plessis, 0 run, good length and on a fifth-stump line outside off, more confident leave from Faf\\nEND OF OVER:16 | 4 Runs | SA: 59/2\\n\\n    Dean Elgar37 (50b)\\n    Faf du Plessis5 (26b)\\n\\n    Ravichandran Ashwin3-1-3-0\\n    Mohammed Shami3-1-17-0\\n\\n15.6\\n4b\\nAshwin to Elgar, 4 byes, there\\'s the sucker ball from Ashwin. Dangled up outside off, breaks away further, lures Elgar into a big drive away from the body. He can\\'t touch it - beaten by sharp turn - Saha is beaten as well as the ball sneaks away to the boundary. Rahane is beaten to his right at slip too\\n15.5\\n0\\nAshwin to Elgar, 0 run, darted on the pads, Elgar doesn\\'t get e0ugh bat on the flick as the ball dribbles away to short fine leg\\n15.4\\n0\\nAshwin to Elgar, 0 run, back of a length and sliding down leg with the angle from round the stumps\\n15.3\\n0\\nAshwin to Elgar, 0 run, on a length and kicks up outside off, Elgar is wary of the extra bounce and lets it go through to Saha\\n15.2\\n0\\nAshwin to Elgar, 0 run, starts outside off and breaks away, 0 shot from Elgar\\n15.1\\n0\\nAshwin to Elgar, 0 run, slower and flatter outside off, cracked straight to short cover\\nEND OF OVER:15 | (maiden) | SA: 55/2\\n\\n    Faf du Plessis5 (26b)\\n    Dean Elgar37 (44b)\\n\\n    Mohammed Shami3-1-17-0\\n    Ravichandran Ashwin2-0-3-0\\n\\nAditya: \"Du Plessis has really improved a lot from his past experiences in India\"\\n14.6\\n0\\nMohammed Shami to du Plessis, 0 run, Shami closes out the over with a ripper! On a length, he brings it back in towards off, the angle tricks Faf but Shami gets it to straighten it away past the outside edge. Faf did well 0t to reach so far out for the ball in the channel\\n14.5\\n0\\nMohammed Shami to du Plessis, 0 run, much fuller and Shami brings this back in, 0t too far away from off stump, fairly tight leave from Faf. It barely carries to Saha behind the stumps, but he gets his body behind the ball and stops it\\n14.4\\n0\\nMohammed Shami to du Plessis, 0 run, back of a length and on a sixth-stump line outside off, Faf shoulders arms once again\\n\\nDee: \"If Elgar can transform into VVS & Fab into Dravid, we can relive Eden Gardens 2001. Needs magic for that and cricket is a magical game.\"\\n14.3\\n0\\nMohammed Shami to du Plessis, 0 run, full and hung up wide of off, Faf does 0t bite\\n14.2\\n0\\nMohammed Shami to du Plessis, 0 run, on a length and angling in at off, Faf gets right behind the line and defends\\n14.1\\n0\\nMohammed Shami to du Plessis, 0 run, banged in short and slanting in at the top of off, fended back towards Shami off the back foot\\nEND OF OVER:14 | 1 Run | SA: 55/2\\n\\n    Dean Elgar37 (44b)\\n    Faf du Plessis5 (20b)\\n\\n    Ravichandran Ashwin2-0-3-0\\n    Mohammed Shami2-0-17-0\\n\\n13.6\\n0\\nAshwin to Elgar, 0 run, skids on outside off, jabbed back to the bowler\\n13.5\\n1\\nAshwin to du Plessis, 1 run, eased down to long-off\\n13.4\\n0\\nAshwin to du Plessis, 0 run, stock ball from Ashwin, dips and drifts, takes the leading edge and rolls towards cover\\n13.3\\n0\\nAshwin to du Plessis, 0 run, quicker and flatter on off, pushed back to the bowler\\n\\nRohit: \"Kohli chirping after the appeal - \"Nice batting boys, following on. Look at that.\" Cheeky ;)\"\\n13.2\\n0\\nAshwin to du Plessis, 0 run, much slower and drops on off stump, blocked to short leg with soft hands\\n13.1\\n0\\nAshwin to du Plessis, 0 run, tossed up liberally and turns in at off, presses forward and defends\\n\\nPrashant: \"Looking at your fears of prospect Ashwin- jaddu combo....I am reminded of my nightmares regarding semester exams... absolute honkers they were\"\\nEND OF OVER:13 | 5 Runs | SA: 54/2\\n\\n    Dean Elgar37 (43b)\\n    Faf du Plessis4 (15b)\\n\\n    Mohammed Shami2-0-17-0\\n    Ravichandran Ashwin1-0-2-0\\n\\n12.6\\n0\\nMohammed Shami to Elgar, 0 run, full and attacking the stumps, driven back to Shami\\n12.5\\n0\\nMohammed Shami to Elgar, 0 run, back of a length and just a shade outside off, 139ks, Elgar stabs an inside edge to leg side\\n12.4\\n0\\nMohammed Shami to Elgar, 0 run, much fuller, angling away, seaming away past the outside edge in the channel\\n12.3\\n0\\nMohammed Shami to Elgar, 0 run, muffled appeal for caught behind from Saha and Shami, umpire Llong shakes his head. Back of a length and angling across off, a crease-bound Elgar swishes...and does 0t make contact. No bat involved\\n12.3\\n1w\\nMohammed Shami to Elgar, 1 wide, a0ther nasty bouncer, explodes off the pitch, top take from Saha once again. Wide called\\n12.2\\n0\\nMohammed Shami to Elgar, 0 run, Shami follows it with a bouncer on middle, Elgar ducks out of the way\\n\\nJaggu: \"@muthu do u guys also protect new commentators from Jaddu\\'s overs similar to the way an established batsmen protects the tailenders. :) \" --- Haha, 0t really. I get everyone to experience the same misery\\n12.1\\n4\\nMohammed Shami to Elgar, 4 runs, full and slanting away outside off, Elgar carefully opens the face and glides it away behind point, to the right of the man square on the off side\\n\\nMorning, everyone. How about insurances for our poor little fingers? Jadeja is an absolute nightmare. Here comes Shami, over the wicket\\nEND OF OVER:12 | 2 Runs | SA: 49/2\\n\\n    Faf du Plessis4 (15b)\\n    Dean Elgar33 (37b)\\n\\n    Ravichandran Ashwin1-0-2-0\\n    Mohammed Shami1-0-12-0\\n\\nThat\\'s drinks and my cue to rub hands in glee and hand it over to Deiva Muthu who\\'ll be typing furiously to deal with Ashwin and Jadeja, whenever he comes on.\\n11.6\\n0\\nAshwin to du Plessis, 0 run, loop, dip and turn, defeats his forward defensive and hits him on the pad. Loud appeal but maybe that ball was doing too much\\n11.5\\n0\\nAshwin to du Plessis, 0 run, that\\'s pinged short leg Rohit Sharma the man there. Too short and he goes for the hard sweep, nails it too, but that\\'s hit Rohit who was turning and taking evasive action. No damage done\\n11.4\\n0\\nAshwin to du Plessis, 0 run, fuller, lunges out and defends\\n11.3\\n0\\nAshwin to du Plessis, 0 run, tossed up on a length, gets nicely behind it and goes deep in his crease to defend with the full face\\n11.2\\n1\\nAshwin to Elgar, 1 run, fuller on the stumps, worked backward of square\\n11.1\\n1\\nAshwin to du Plessis, 1 run, tossed up on off, he pushes forward and the ball runs past leg slip off the inside half of his bat\\n\\nSudipt: \"When was the last time India bowled 10 overs of pace without going the a spinner at home in the 3rd inning?\" - and there\\'s Ashwin 0w Sudipt. With slip, short leg and leg slip\\nEND OF OVER:11 | 12 Runs | SA: 47/2\\n\\n    Dean Elgar32 (36b)\\n    Faf du Plessis3 (10b)\\n\\n    Mohammed Shami1-0-12-0\\n    Umesh Yadav5-2-14-1\\n\\n10.6\\n0\\nMohammed Shami to Elgar, 0 run, closer to the stumps this time and he pushes it back past Shami to mid-off\\n10.5\\n4\\nMohammed Shami to Elgar, 4 runs, and third one for the over. Nice confident stride out to this one outside off and he leans forward, opens the face while driving and sends it racing through point\\n\\nOne of the slips has come out to cover. Not sure that\\'s needed with such a huge lead...\\n10.4\\n0\\nMohammed Shami to Elgar, 0 run, back of a length outside off, defended to cover\\n10.3\\n4\\nMohammed Shami to Elgar, 4 runs, lovely shot, half-volley outside off and he leans into the cover drive in elegant fashion\\n10.2\\n4\\nMohammed Shami to Elgar, 4 runs, good response by the batsman, given room outside off and he carves it off the backfoot through backward point\\n10.1\\n0\\nMohammed Shami to Elgar, 0 run, oh that\\'s a nasty short ball. It reared up from back of a length and he was going for the pull but then decided to 0t go for it a little too late. Bangs into his bat and almost pings him on the grille. Popped up and dropped near him\\n\\nKeith: \"I\\'m an old, grumpy traditionalist who hates such things as the numbers on the backs of the shirts, but I think KT\\'s suggestion about changing the follow on rule is quite reasonable. \"\\nEND OF OVER:10 | 2 Runs | SA: 35/2\\n\\n    Faf du Plessis3 (10b)\\n    Dean Elgar20 (30b)\\n\\n    Umesh Yadav5-2-14-1\\n    Ishant Sharma5-2-17-1\\n\\n9.6\\n0\\nYadav to du Plessis, 0 run, back of a length outside off, left alone\\n9.5\\n1\\nYadav to Elgar, 1 run, strays down leg again and is flicked to fine leg\\n9.4\\n0\\nYadav to Elgar, 0 run, fuller but well outside off, left alone\\n\\nSenthil: \"SA are almost going at 4rpo. So end of the day they will lead by around 50 runs, then quick fire 150 in first session and give target for India 200 in 2 sessions and 5th day pitch bundle them under 100 runs and bobs ur uncle. Easy peasy\"\\n9.3\\n0\\nYadav to Elgar, 0 run, length ball angling into him, punched to cover\\n\\nRound the wicket to Elgar\\n9.2\\n1\\nYadav to du Plessis, 1 run, length ball but angling into his pads and he clips it through backward square leg\\n\\nSai Teja: \"Team India\\'s selection this series has been spot on. Right from bringing in Rohit as an opener to realising that Ashwin is still your 0.1 test spinner. Also, purely as a wicket keeper, Saha fits in better than Pant. And the decision of playing an extra seamer in Pune is proving crucial.\"\\n9.1\\n0\\nYadav to du Plessis, 0 run, too far down leg and he can\\'t get near it while trying to glance\\n\\nKT: \"I am of the view, the follow on can be in case team has scored less than 50% or 60% of runs scored by team batting first. The lead of 200 is very old rule and should be changed. \" - that\\'s an interesting idea.\\nEND OF OVER:9 | 4 Runs | SA: 33/2\\n\\n    Dean Elgar19 (27b)\\n    Faf du Plessis2 (7b)\\n\\n    Ishant Sharma5-2-17-1\\n    Umesh Yadav4-2-12-1\\n\\n8.6\\n0\\nI Sharma to Elgar, 0 run, fuller and on middle stump, defended back to the bowler with a straight bat\\n8.5\\n0\\nI Sharma to Elgar, 0 run, length ball angling into him, tucked to square leg\\n8.4\\n0\\nI Sharma to Elgar, 0 run, strays on the pads again, flicked to square leg\\'s right but Ashwin does well to dive to his right and save it\\n\\nRitesh: \"I think SA should try out Rassie Van der Dussen in Tests also. He has over 7000 FC runs and averages 44. He also looked very good in whatever we have seen of him in limited overs cricket\"\\n8.3\\n0\\nI Sharma to Elgar, 0 run, good length in the channel, left alone\\n\\nAyush: \"Clearly South African fast bowlers lacked the ability to threaten the pads and stumps. I think that is a direct result of playing on extreme home pitches.\"\\n8.2\\n4\\nI Sharma to Elgar, 4 runs, strays on the pads and nicely timed by Elgar, who tucks it off his pads to the midwicket boundary\\n\\nSiddhesh: \"We should have a cricinfo poll on whether Faf kept an eye on the cricinfo poll.\" - And we just need Christopher Nolan to conduct it, so we can call it Cricinfo-ception\\n8.1\\n0\\nI Sharma to Elgar, 0 run, fuller outside off, steered to point\\'s left but he moves quickly to cut it off\\nEND OF OVER:8 | 3 Runs | SA: 29/2\\n\\n    Faf du Plessis2 (7b)\\n    Dean Elgar15 (21b)\\n\\n    Umesh Yadav4-2-12-1\\n    Ishant Sharma4-2-13-1\\n\\n7.6\\n0\\nYadav to du Plessis, 0 run, length outside off, left alone\\n7.5\\n1\\nYadav to Elgar, 1 run, length but on the pads, tucked through midwicket\\n7.4\\n0\\nYadav to Elgar, 0 run, oh that reared up from a length outside off and surprised Faf. Well dealt with, quick reflexes to bring his bat up and fend it straight down\\n7.3\\n0\\nYadav to Elgar, 0 run, length on the stumps, pushed to mid-off. Jadeja is a bit wide but he swoops in like a hawk, and collects in one smooth motion\\n7.2\\n0\\nYadav to Elgar, 0 run, length on the stumps, defended down the pitch\\n7.1\\n2\\nYadav to Elgar, 2 runs, sweet timing but pulled inside the point boundary by Agarwal. Wide of off stump and very full, he reaches for it with his hands and pings it past point. Wasn\\'t exactly safe since it hung in the air a bit\\n\\nKapil Baldawa: \"Both those wickets were absolute gifts to India, of course one by a blinder by Saha. But question is, why do you need to play at that? It\\'s 0t on stumps, so leave them alone\" - well some of the credit for the batsman playing at that must go to the bowlers. Umesh had kept him on a tight leash with his line and when he saw an opportunity to score he went for it.\\n\\nAshraf: \"I think Faf kept an eye on cricinfo poll. \" - well of course, who wouldn\\'t?\\nEND OF OVER:7 | 5 Runs | SA: 26/2\\n\\n    Faf du Plessis2 (6b)\\n    Dean Elgar12 (16b)\\n\\n    Ishant Sharma4-2-13-1\\n    Umesh Yadav3-2-9-1\\n\\n6.6\\n0\\nI Sharma to du Plessis, 0 run, fuller on off, defended solidly to cover\\n6.5\\n0\\nI Sharma to du Plessis, 0 run, swinging into him again, he plays it late. Has he reduced his backlift to account for late swing? Perhaps he has. Ends up nudging it towards square leg\\n6.4\\n2\\nI Sharma to du Plessis, 2 runs, fuller on off, he stayed still in his crease and played it late, accounting for the swing. Just taps it down to fine leg using wrists and bottom hand, with minimal backlift or flourish\\n6.3\\n0\\nI Sharma to du Plessis, 0 run, that moved in sharply. And good carry from a length too, outside off. Can safely leave it because it\\'s well over the stumps\\n6.2\\n1\\nI Sharma to Elgar, 1 run, length outside off, steered to point\\'s left\\n\\nDeep: \"Yahi hai right choice baby - Saha!\" - hello Deep, fellow 90s kid who watched that ad!\\n6.1\\n2\\nI Sharma to Elgar, 2 runs, takes on the short ball, fetching the pull form over his shoulder outside off and gets only a toe-end on it. It\\'s safe though, and clears midwicket\\n\\nThere has been some debate about Faf\\'s ideal batting position. He\\'s finally come in at 4 0w, with his team sorely needing him.\\nEND OF OVER:6 | (wicket maiden) | SA: 21/2\\n\\n    Faf du Plessis0 (2b)\\n    Dean Elgar9 (14b)\\n\\n    Umesh Yadav3-2-9-1\\n    Ishant Sharma3-2-8-1\\n\\n5.6\\n0\\nYadav to du Plessis, 0 run, length ball in the channel, left alone\\n\\nAnd it\\'s Faf du Plessis at No.4, 0t Temba Bavuma.\\n5.5\\n0\\nYadav to du Plessis, 0 run, way down legside and the batsman is 0t going to get anywhere near that\\n\\nOttawaRocks: \"India will rue enforcing follow on once its their turn to bat on the last day. Even a 100 run deficit will look like 500 runs then.\" - there\\'s the small matter of South Africa needing to put up 426 to make India chase 100 though!\\n5.4\\nW\\nYadav to de Bruyn, W runs, superman take from Saha flying to his left. De Bruyn will be filthy with himself. Umesh had strayed down leg and he tried to glance him fine. You just don\\'t do that when it\\'s Wriddhiman Saha behind the stumps. He has flown - there is 0 other word to accurately describe it - yards to his left and plucked that ball out. Whew.\\n\\nTB de Bruyn c †Saha b Yadav 8 (18b 2x4 0x6) SR: 44.44\\n5.3\\n0\\nYadav to de Bruyn, 0 run, shaping it away from the batsman nicely 0w Umesh, but de Bruyn\\'s equal to it and defends to point\\n5.2\\n0\\nYadav to de Bruyn, 0 run, swinging away from him but a touch fuller and he\\'s able to defend it on off stump towards cover\\n5.1\\n0\\nYadav to de Bruyn, 0 run, significant movement away from him in the channel, left alone\\n\\nVishal: \"@Arpit...Virat has also taken some absolute blinders in the slip cordon...there will be an odd drop here and there.\"\\nEND OF OVER:5 | 8 Runs | SA: 21/1\\n\\n    Dean Elgar9 (14b)\\n    Theunis de Bruyn8 (14b)\\n\\n    Ishant Sharma3-2-8-1\\n    Umesh Yadav2-1-9-0\\n\\n4.6\\n0\\nI Sharma to Elgar, 0 run, and he bowls the one that goes with the angle after having taken them away from Elgar all over, but the batsman deals with it well e0ugh, nudges it towards mid-on with bat in front of pad and weight on the front foot\\n4.5\\n4\\nI Sharma to Elgar, 4 runs, stretches out for this one outside off and steers it between point and gully - but wasn\\'t fully in control of that because it hung in the air. Runs are coming for South Africa but fairly riskily\\n4.4\\n0\\nI Sharma to Elgar, 0 run, dropped short of third slip. A0ther edge, with the ball straightening from outside off. Elgar going on a forward defensive and it takes the edge but clearly short of Kohli\\n4.3\\n0\\nI Sharma to Elgar, 0 run, length on off, steered to point\\n4.2\\n4\\nI Sharma to Elgar, 4 runs, between gully and third slip.That has been South Africa\\'s most productive area this morning. But he was more in control of this one, presses forward with an angled bat and runs it down. Half edge, half steered\\n\\nRithvik Ramesh: \"Apart from wickets and maidens, bowlers need a column for opportunities created, which should reflect the edges, dropped sitters like what we just saw. Just wickets 0t at all indicative of the bowlers precision . \"\\n4.1\\n0\\nI Sharma to Elgar, 0 run, length outside off, moving away. Elgar almost had a flash at it, but pulls out of the shot\\n\\nElsewhere, UP Yoddha were unstoppable in their home leg in the Pro Kabaddi League. Find out who starred for them in ESPN\\'s weekly Power Rankings..\\nEND OF OVER:4 | 4 Runs | SA: 13/1\\n\\n    Theunis de Bruyn8 (14b)\\n    Dean Elgar1 (8b)\\n\\n    Umesh Yadav2-1-9-0\\n    Ishant Sharma2-2-0-1\\n\\n3.6\\n0\\nYadav to de Bruyn, 0 run, back to nibbling at that off stump on a length, moving away a touch and de Bruyn defends solidly from the crease\\n3.5\\n4b\\nYadav to de Bruyn, 4 byes, lost his radar there after four excellent balls, or perhaps he was looking to set him up with an inswinger after all those balls going away. But it\\'s too far down leg for even Saha to collect and runs down fine\\n\\nFour slips and a gully 0w. Almost like five slips actually\\n3.4\\n0\\nYadav to de Bruyn, 0 run, length on off, defended to point\\n3.3\\n0\\nYadav to de Bruyn, 0 run, nice carry for Umesh, and he\\'s keeping in that corridor outside off. The batsman\\'s leaving it alone alright but is forced to watch it carefully\\n3.2\\n0\\nYadav to de Bruyn, 0 run, good length in the channel again, and he lets it go\\n3.1\\n0\\nYadav to de Bruyn, 0 run, that\\'s a beautiful line, right in the channel, and he gets it to carry nicely to Saha from a length, moving slightly away from the batsman\\n\\nArpit: \"I am still 0t convinced about Kohli the slip fielder. He is an excellent fielder but somehow always drops a catch or two in the slips\"\\n\\nSeba: \"This is the advantage of playing with 5 proper bowlers. India couldn\\'t have thought of enforcing follow on with only 4 bowlers in the playing 11\"\\nEND OF OVER:3 | (maiden) | SA: 9/1\\n\\n    Dean Elgar1 (8b)\\n    Theunis de Bruyn8 (8b)\\n\\n    Ishant Sharma2-2-0-1\\n    Umesh Yadav1-0-9-0\\n\\n2.6\\n0\\nI Sharma to Elgar, 0 run, fuller on the fifth stump, pushed towards mid-off on the front foot\\n2.5\\n0\\nI Sharma to Elgar, 0 run, length outside off again\\n2.4\\n0\\nI Sharma to Elgar, 0 run, 0w gets it on the stumps and a bit fuller, Elgar defends it and it rolls towards mid-off from the outside half of the bat\\n\\nThose of you in the US, watch day four live on ESPN+. Sign up here\\n2.3\\n0\\nI Sharma to Elgar, 0 run, extravagant movement away again, but well outside off and going further away\\n\\nIshant has been bowling around the wicket by the way, since the start of the over.\\n2.2\\n0\\nI Sharma to Elgar, 0 run, back of a length outside off, left alone\\n2.1\\n0\\nI Sharma to Elgar, 0 run, movement away from Elgar, but well outside off so he doesn\\'t need to play at that\\n\\nEventful first two overs. South Africa have had a batsman out who should have reviewed. A run out opportunity. A catch dropped. Markram will be feeling the pinch of 0t reviewing. Elgar will be feeling the burden of 0t having asked his partner to review. De Bruyn is likely playing for his place. And India\\'s bowlers are breathing fire.\\nEND OF OVER:2 | 9 Runs | SA: 9/1\\n\\n    Theunis de Bruyn8 (8b)\\n    Dean Elgar1 (2b)\\n\\n    Umesh Yadav1-0-9-0\\n    Ishant Sharma1-1-0-1\\n\\n1.6\\n4\\nYadav to de Bruyn, 4 runs, swinging into him again, and runs to the third man boundary off a0ther outside edge as it straightens off the pitch and runs between third slip and gully\\n1.5\\n0\\nYadav to de Bruyn, 0 run, length on the fifth stump line, and he thinks about playing it but pulls his bat out of the way well in time\\n1.4\\n0\\nYadav to de Bruyn, 0 run, length outside off, lets it go\\n1.3\\n4\\nYadav to de Bruyn, 4 runs, edged through the slips. South Africa really need to gather themselves. And that is a drop by Virat Kohli at third slip. Was dipping on him after straightening on a length and drawing the edge, but Kohli lets it go through his fingers\\n1.2\\n1\\nYadav to Elgar, 1 run, risky run. Length in the channel, he pushed it to point and took off for a run. If the fielder - Agarwal - had hit the stumps, de Bruyn was a goner. Scrambled minds from South Africa\\n1.1\\n0\\nYadav to Elgar, 0 run, length ball going across him and ends up in the channel, bunted back to the bowler\\nEND OF OVER:1 | (wicket maiden) | SA: 0/1\\n\\n    Theunis de Bruyn0 (4b)\\n    Dean Elgar0 (0b)\\n\\n    Ishant Sharma1-1-0-1\\n\\n0.6\\n0\\nI Sharma to de Bruyn, 0 run, sharp movement into him again, defended into the legside. Was a bit off balance while getting on the front foot for that. South Africa have begun very tentatively\\n0.5\\n0\\nI Sharma to de Bruyn, 0 run, back of a length outside off, left alone\\n0.4\\n0\\nI Sharma to de Bruyn, 0 run, length in the channel, left alone\\n\\nAnd replays show that ball would have missed leg stump, so Markram should have reviewed it! He\\'s going to be filthy watching the replays on that...\\n0.3\\n0\\nI Sharma to de Bruyn, 0 run, a0ther one jagging in sharply on a length, but de Bruyn gets well behind it and defends with a full face\\n\\nVishal: \"Time and again Virat and this Indian team has taken the \\'0t so safe\\' option in order to keep the game moving forward and going for the win. Full marks to captain Kohli!!\"\\n0.2\\nW\\nI Sharma to Markram, W runs, Markram has a pair. What a start for India and Ishant. Markram is out almost the same way he was in the first innings, but to a different bowler. This one bent in sharply once again, but Ishant bowled it more full and straight than the first ball and Markram is struck on the pads. Was it going down? The umpire raises his finger after a loud appeal. They think about reviewing, but I suspect that would have been umpire\\'s call on review.\\n\\nAK Markram lbw b I Sharma 0 (2b 0x4 0x6) SR: 0.00\\n0.1\\n0\\nI Sharma to Markram, 0 run, oh my, that one came back in a long way. But safe e0ugh to leave because it was going over the stumps. Not great for your mindset as a batsman when the first ball does that\\n\\n9.29 am: Right, the teams are out in the middle. Three slips and a gully with Markram facing. Elgar at the 0n-striker\\'s end. Ishant has the ball. He wasn\\'t at his best in the first innings, and his problems were compounded by being warned twice for treading on the danger area. But he\\'s been superb in general, so he\\'ll be looking to make amends.\\n'"
      ]
     },
     "execution_count": 3,
     "metadata": {},
     "output_type": "execute_result"
    }
   ],
   "source": [
    "f1=f.read().replace('no','0')\n",
    "f2=f1.replace('FOUR','4')\n",
    "f3=f2.replace('SIX','6')\n",
    "f4=f3.replace('OUT', 'W runs')\n",
    "#f1\n",
    "f4"
   ]
  },
  {
   "cell_type": "code",
   "execution_count": 4,
   "metadata": {},
   "outputs": [],
   "source": [
    "## clean = re.findall(r'[\\w]+\\s*to\\s*[\\w]+,\\s*[\\d]*\\s*run', f.read())\n",
    "\n",
    "clean = re.findall(r'[\\w]+\\s*to\\s*[\\w]+,\\s*[\\d|[W]]*\\s*run', f4)\n",
    "\n",
    "##clean = re.findall(r'[\\w]+\\s*to\\s*[\\w]+,\\s*[\\d]*\\s*', f3)"
   ]
  },
  {
   "cell_type": "raw",
   "metadata": {},
   "source": [
    "Modify the above RegEx to include the key words 'no', 'FOUR','SIX', 'OUT'"
   ]
  },
  {
   "cell_type": "code",
   "execution_count": 5,
   "metadata": {},
   "outputs": [
    {
     "data": {
      "text/plain": [
       "['Jadeja to Maharaj, W run',\n",
       " 'Jadeja to Maharaj, 0 run',\n",
       " 'Yadav to Rabada, W run',\n",
       " 'Yadav to Rabada, 4 run',\n",
       " 'Yadav to Rabada, 0 run',\n",
       " 'Yadav to Rabada, 0 run',\n",
       " 'Yadav to Rabada, 0 run',\n",
       " 'Yadav to Philander, W run',\n",
       " 'Jadeja to Maharaj, 0 run',\n",
       " 'Jadeja to Philander, 1 run',\n",
       " 'Jadeja to Philander, 0 run',\n",
       " 'Jadeja to Philander, 0 run',\n",
       " 'Jadeja to Philander, 0 run',\n",
       " 'Jadeja to Philander, 0 run',\n",
       " 'Yadav to Maharaj, 0 run',\n",
       " 'Yadav to Maharaj, 0 run',\n",
       " 'Yadav to Maharaj, 0 run',\n",
       " 'Yadav to Maharaj, 0 run',\n",
       " 'Yadav to Maharaj, 0 run',\n",
       " 'Yadav to Maharaj, 0 run',\n",
       " 'Jadeja to Philander, 0 run',\n",
       " 'Jadeja to Philander, 2 run',\n",
       " 'Jadeja to Philander, 0 run',\n",
       " 'Jadeja to Maharaj, 1 run',\n",
       " 'Jadeja to Philander, 1 run',\n",
       " 'Jadeja to Philander, 0 run',\n",
       " 'Yadav to Maharaj, 4 run',\n",
       " 'Yadav to Maharaj, 0 run',\n",
       " 'Yadav to Maharaj, 0 run',\n",
       " 'Yadav to Maharaj, 0 run',\n",
       " 'Yadav to Maharaj, 0 run',\n",
       " 'Yadav to Maharaj, 0 run',\n",
       " 'Kohli to Philander, 0 run',\n",
       " 'Kohli to Philander, 0 run',\n",
       " 'Kohli to Philander, 0 run',\n",
       " 'Kohli to Philander, 4 run',\n",
       " 'Kohli to Philander, 0 run',\n",
       " 'Kohli to Philander, 0 run',\n",
       " 'Jadeja to Maharaj, 0 run',\n",
       " 'Jadeja to Maharaj, 0 run',\n",
       " 'Jadeja to Maharaj, 0 run',\n",
       " 'Jadeja to Maharaj, 0 run',\n",
       " 'Jadeja to Maharaj, 0 run',\n",
       " 'Jadeja to Maharaj, 0 run',\n",
       " 'Ashwin to Philander, 0 run',\n",
       " 'Ashwin to Philander, 0 run',\n",
       " 'Ashwin to Philander, 0 run',\n",
       " 'Ashwin to Philander, 4 run',\n",
       " 'Ashwin to Philander, 0 run',\n",
       " 'Ashwin to Philander, 0 run',\n",
       " 'Sharma to Philander, 1 run',\n",
       " 'Sharma to Philander, 0 run',\n",
       " 'Sharma to Philander, 0 run',\n",
       " 'Sharma to Philander, 0 run',\n",
       " 'Sharma to Philander, 0 run',\n",
       " 'Sharma to Maharaj, 1 run',\n",
       " 'Ashwin to Philander, 0 run',\n",
       " 'Ashwin to Philander, 2 run',\n",
       " 'Ashwin to Philander, 0 run',\n",
       " 'Ashwin to Philander, 0 run',\n",
       " 'Ashwin to Philander, 0 run',\n",
       " 'Ashwin to Maharaj, 3 run',\n",
       " 'Sharma to Philander, 0 run',\n",
       " 'Sharma to Maharaj, 1 run',\n",
       " 'Sharma to Maharaj, 0 run',\n",
       " 'Sharma to Maharaj, 0 run',\n",
       " 'Sharma to Philander, 1 run',\n",
       " 'Sharma to Philander, 0 run',\n",
       " 'Jadeja to Philander, 1 run',\n",
       " 'Jadeja to Philander, 0 run',\n",
       " 'Jadeja to Philander, 0 run',\n",
       " 'Jadeja to Philander, 0 run',\n",
       " 'Jadeja to Philander, 0 run',\n",
       " 'Jadeja to Philander, 0 run',\n",
       " 'Ashwin to Maharaj, 0 run',\n",
       " 'Ashwin to Maharaj, 0 run',\n",
       " 'Ashwin to Maharaj, 0 run',\n",
       " 'Ashwin to Maharaj, 0 run',\n",
       " 'Ashwin to Maharaj, 0 run',\n",
       " 'Ashwin to Maharaj, 0 run',\n",
       " 'Jadeja to Philander, 0 run',\n",
       " 'Jadeja to Philander, 0 run',\n",
       " 'Jadeja to Maharaj, 1 run',\n",
       " 'Jadeja to Philander, 1 run',\n",
       " 'Jadeja to Philander, 0 run',\n",
       " 'Jadeja to Philander, 0 run',\n",
       " 'Ashwin to Maharaj, 0 run',\n",
       " 'Ashwin to Maharaj, 4 run',\n",
       " 'Ashwin to Maharaj, 0 run',\n",
       " 'Ashwin to Maharaj, 0 run',\n",
       " 'Ashwin to Maharaj, 4 run',\n",
       " 'Ashwin to Philander, 1 run',\n",
       " 'Jadeja to Maharaj, 0 run',\n",
       " 'Jadeja to Maharaj, 0 run',\n",
       " 'Jadeja to Maharaj, 0 run',\n",
       " 'Jadeja to Maharaj, 0 run',\n",
       " 'Jadeja to Maharaj, 0 run',\n",
       " 'Jadeja to Maharaj, 0 run',\n",
       " 'Ashwin to Philander, 0 run',\n",
       " 'Ashwin to Philander, 0 run',\n",
       " 'Ashwin to Philander, 0 run',\n",
       " 'Ashwin to Philander, 0 run',\n",
       " 'Ashwin to Philander, 0 run',\n",
       " 'Ashwin to Philander, 0 run',\n",
       " 'Jadeja to Maharaj, 0 run',\n",
       " 'Jadeja to Maharaj, 0 run',\n",
       " 'Jadeja to Maharaj, 0 run',\n",
       " 'Jadeja to Maharaj, 0 run',\n",
       " 'Jadeja to Maharaj, 0 run',\n",
       " 'Jadeja to Maharaj, 0 run',\n",
       " 'Shami to Maharaj, 1 run',\n",
       " 'Shami to Maharaj, 0 run',\n",
       " 'Shami to Maharaj, 0 run',\n",
       " 'Shami to Maharaj, 0 run',\n",
       " 'Shami to Maharaj, 0 run',\n",
       " 'Shami to Maharaj, 0 run',\n",
       " 'Jadeja to Philander, 0 run',\n",
       " 'Jadeja to Philander, 0 run',\n",
       " 'Jadeja to Philander, 0 run',\n",
       " 'Jadeja to Philander, 0 run',\n",
       " 'Jadeja to Maharaj, 1 run',\n",
       " 'Jadeja to Maharaj, 0 run',\n",
       " 'Shami to Maharaj, 1 run',\n",
       " 'Shami to Maharaj, 0 run',\n",
       " 'Shami to Maharaj, 0 run',\n",
       " 'Shami to Maharaj, 0 run',\n",
       " 'Shami to Maharaj, 0 run',\n",
       " 'Shami to Philander, 1 run',\n",
       " 'Jadeja to Philander, 1 run',\n",
       " 'Jadeja to Philander, 0 run',\n",
       " 'Jadeja to Philander, 0 run',\n",
       " 'Jadeja to Philander, 6 run',\n",
       " 'Jadeja to Philander, 6 run',\n",
       " 'Jadeja to Philander, 0 run',\n",
       " 'Shami to Muthusamy, W run',\n",
       " 'Shami to Philander, 3 run',\n",
       " 'Shami to Philander, 0 run',\n",
       " 'Shami to Philander, 0 run',\n",
       " 'Shami to Philander, 0 run',\n",
       " 'Jadeja to Muthusamy, 0 run',\n",
       " 'Jadeja to Philander, 1 run',\n",
       " 'Jadeja to Philander, 0 run',\n",
       " 'Jadeja to Philander, 0 run',\n",
       " 'Jadeja to Bavuma, W run',\n",
       " 'Jadeja to Bavuma, 0 run',\n",
       " 'Shami to Muthusamy, 0 run',\n",
       " 'Shami to Bavuma, 1 run',\n",
       " 'Shami to Bavuma, 0 run',\n",
       " 'Shami to Bavuma, 0 run',\n",
       " 'Shami to Bavuma, 2 run',\n",
       " 'Shami to Bavuma, 4 run',\n",
       " 'Ashwin to Muthusamy, 0 run',\n",
       " 'Ashwin to Bavuma, 1 run',\n",
       " 'Ashwin to Bavuma, 0 run',\n",
       " 'Ashwin to Bavuma, 0 run',\n",
       " 'Ashwin to Bavuma, 0 run',\n",
       " 'Ashwin to Bavuma, 0 run',\n",
       " 'Shami to Muthusamy, 0 run',\n",
       " 'Shami to Muthusamy, 0 run',\n",
       " 'Shami to Muthusamy, 0 run',\n",
       " 'Shami to Muthusamy, 0 run',\n",
       " 'Shami to Bavuma, 1 run',\n",
       " 'Shami to Bavuma, 2 run',\n",
       " 'Ashwin to Muthusamy, 0 run',\n",
       " 'Ashwin to Muthusamy, 0 run',\n",
       " 'Ashwin to Muthusamy, 0 run',\n",
       " 'Ashwin to Muthusamy, 0 run',\n",
       " 'Ashwin to Muthusamy, 0 run',\n",
       " 'Ashwin to Muthusamy, 2 run',\n",
       " 'Jadeja to Bavuma, 6 run',\n",
       " 'Jadeja to Bavuma, 0 run',\n",
       " 'Jadeja to Bavuma, 0 run',\n",
       " 'Jadeja to Bavuma, 0 run',\n",
       " 'Jadeja to Bavuma, 0 run',\n",
       " 'Jadeja to Bavuma, 2 run',\n",
       " 'Ashwin to Muthusamy, 0 run',\n",
       " 'Ashwin to Muthusamy, 4 run',\n",
       " 'Ashwin to Muthusamy, 0 run',\n",
       " 'Ashwin to Muthusamy, 0 run',\n",
       " 'Ashwin to Muthusamy, 0 run',\n",
       " 'Ashwin to Muthusamy, 0 run',\n",
       " 'Jadeja to Bavuma, 0 run',\n",
       " 'Jadeja to Bavuma, 0 run',\n",
       " 'Jadeja to Bavuma, 4 run',\n",
       " 'Jadeja to Bavuma, 0 run',\n",
       " 'Jadeja to Muthusamy, 1 run',\n",
       " 'Jadeja to Muthusamy, 0 run',\n",
       " 'Ashwin to Bavuma, 0 run',\n",
       " 'Ashwin to Bavuma, 0 run',\n",
       " 'Ashwin to Bavuma, 0 run',\n",
       " 'Ashwin to Bavuma, 0 run',\n",
       " 'Ashwin to Bavuma, 4 run',\n",
       " 'Jadeja to Muthusamy, 0 run',\n",
       " 'Jadeja to Muthusamy, 0 run',\n",
       " 'Jadeja to Muthusamy, 0 run',\n",
       " 'Jadeja to Bavuma, 1 run',\n",
       " 'Jadeja to Bavuma, 0 run',\n",
       " 'Jadeja to Bavuma, 0 run',\n",
       " 'Ashwin to Muthusamy, 0 run',\n",
       " 'Ashwin to Muthusamy, 0 run',\n",
       " 'Ashwin to Muthusamy, 0 run',\n",
       " 'Ashwin to Muthusamy, 0 run',\n",
       " 'Ashwin to Muthusamy, 0 run',\n",
       " 'Ashwin to Muthusamy, 0 run',\n",
       " 'Jadeja to Bavuma, 0 run',\n",
       " 'Jadeja to Bavuma, 0 run',\n",
       " 'Jadeja to Bavuma, 0 run',\n",
       " 'Jadeja to Bavuma, 0 run',\n",
       " 'Jadeja to Bavuma, 0 run',\n",
       " 'Jadeja to Bavuma, 0 run',\n",
       " 'Ashwin to Muthusamy, 2 run',\n",
       " 'Ashwin to Muthusamy, 0 run',\n",
       " 'Ashwin to Muthusamy, 0 run',\n",
       " 'Ashwin to Muthusamy, 0 run',\n",
       " 'Ashwin to Bavuma, 1 run',\n",
       " 'Ashwin to Bavuma, 0 run',\n",
       " 'Jadeja to Bavuma, 1 run',\n",
       " 'Jadeja to Bavuma, 0 run',\n",
       " 'Jadeja to Bavuma, 4 run',\n",
       " 'Jadeja to Bavuma, 0 run',\n",
       " 'Jadeja to Bavuma, 0 run',\n",
       " 'Jadeja to Bavuma, 0 run',\n",
       " 'Ashwin to Muthusamy, 0 run',\n",
       " 'Ashwin to Muthusamy, 0 run',\n",
       " 'Ashwin to Muthusamy, 0 run',\n",
       " 'Ashwin to Muthusamy, 0 run',\n",
       " 'Ashwin to Muthusamy, 0 run',\n",
       " 'Ashwin to Bavuma, 1 run',\n",
       " 'Jadeja to Muthusamy, 0 run',\n",
       " 'Jadeja to Muthusamy, 0 run',\n",
       " 'Jadeja to Muthusamy, 0 run',\n",
       " 'Jadeja to Muthusamy, 0 run',\n",
       " 'Jadeja to Bavuma, 1 run',\n",
       " 'Jadeja to Bavuma, 0 run',\n",
       " 'Jadeja to Bavuma, 0 run',\n",
       " 'Jadeja to Bavuma, 0 run',\n",
       " 'Jadeja to Bavuma, 0 run',\n",
       " 'Jadeja to Bavuma, 1 run',\n",
       " 'Ashwin to Bavuma, 1 run',\n",
       " 'Ashwin to Bavuma, 0 run',\n",
       " 'Ashwin to Bavuma, 0 run',\n",
       " 'Ashwin to Elgar, W run',\n",
       " 'Ashwin to Elgar, 0 run',\n",
       " 'Jadeja to Bavuma, 0 run',\n",
       " 'Jadeja to Bavuma, 0 run',\n",
       " 'Jadeja to Bavuma, 0 run',\n",
       " 'Jadeja to Elgar, 1 run',\n",
       " 'Jadeja to Elgar, 0 run',\n",
       " 'Jadeja to Elgar, 0 run',\n",
       " 'Ashwin to Bavuma, 0 run',\n",
       " 'Ashwin to Bavuma, 0 run',\n",
       " 'Ashwin to Bavuma, 0 run',\n",
       " 'Ashwin to Elgar, 3 run',\n",
       " 'Ashwin to Elgar, 0 run',\n",
       " 'Jadeja to Elgar, 1 run',\n",
       " 'Jadeja to Elgar, 0 run',\n",
       " 'Jadeja to Elgar, 0 run',\n",
       " 'Jadeja to Elgar, 0 run',\n",
       " 'Jadeja to Elgar, 0 run',\n",
       " 'Jadeja to Elgar, 1 run',\n",
       " 'Jadeja to Elgar, 0 run',\n",
       " 'Jadeja to Elgar, 0 run',\n",
       " 'Jadeja to Elgar, 0 run',\n",
       " 'Jadeja to Elgar, 0 run',\n",
       " 'Jadeja to Elgar, 0 run',\n",
       " 'Jadeja to Elgar, 4 run',\n",
       " 'Ashwin to Elgar, 1 run',\n",
       " 'Ashwin to Elgar, 0 run',\n",
       " 'Ashwin to Elgar, 0 run',\n",
       " 'Ashwin to Elgar, 0 run',\n",
       " 'Ashwin to Elgar, 0 run',\n",
       " 'Ashwin to Elgar, 0 run',\n",
       " 'Ashwin to Elgar, 0 run',\n",
       " 'Ashwin to Elgar, 0 run',\n",
       " 'Ashwin to Elgar, 0 run',\n",
       " 'Shami to Elgar, 0 run',\n",
       " 'Shami to Elgar, 0 run',\n",
       " 'Shami to Elgar, 0 run',\n",
       " 'Shami to Elgar, 0 run',\n",
       " 'Shami to Elgar, 0 run',\n",
       " 'Shami to Elgar, 4 run',\n",
       " 'Ashwin to Elgar, 1 run',\n",
       " 'Shami to Elgar, 0 run',\n",
       " 'Shami to Elgar, 4 run',\n",
       " 'Shami to Elgar, 0 run',\n",
       " 'Shami to Elgar, 4 run',\n",
       " 'Shami to Elgar, 4 run',\n",
       " 'Shami to Elgar, 0 run',\n",
       " 'Yadav to Elgar, 1 run',\n",
       " 'Yadav to Elgar, 0 run',\n",
       " 'Yadav to Elgar, 0 run',\n",
       " 'Sharma to Elgar, 0 run',\n",
       " 'Sharma to Elgar, 0 run',\n",
       " 'Sharma to Elgar, 0 run',\n",
       " 'Sharma to Elgar, 0 run',\n",
       " 'Sharma to Elgar, 4 run',\n",
       " 'Sharma to Elgar, 0 run',\n",
       " 'Yadav to Elgar, 1 run',\n",
       " 'Yadav to Elgar, 0 run',\n",
       " 'Yadav to Elgar, 0 run',\n",
       " 'Yadav to Elgar, 0 run',\n",
       " 'Yadav to Elgar, 2 run',\n",
       " 'Sharma to Elgar, 1 run',\n",
       " 'Sharma to Elgar, 2 run',\n",
       " 'Sharma to Elgar, 0 run',\n",
       " 'Sharma to Elgar, 4 run',\n",
       " 'Sharma to Elgar, 0 run',\n",
       " 'Sharma to Elgar, 0 run',\n",
       " 'Sharma to Elgar, 4 run',\n",
       " 'Sharma to Elgar, 0 run',\n",
       " 'Sharma to Elgar, 0 run',\n",
       " 'Sharma to Elgar, 0 run',\n",
       " 'Sharma to Elgar, 0 run',\n",
       " 'Sharma to Elgar, 0 run',\n",
       " 'Sharma to Elgar, 0 run',\n",
       " 'Sharma to Elgar, 0 run',\n",
       " 'Yadav to Elgar, 1 run',\n",
       " 'Yadav to Elgar, 0 run',\n",
       " 'Sharma to Markram, W run',\n",
       " 'Sharma to Markram, 0 run']"
      ]
     },
     "execution_count": 5,
     "metadata": {},
     "output_type": "execute_result"
    }
   ],
   "source": [
    "clean"
   ]
  },
  {
   "cell_type": "code",
   "execution_count": 6,
   "metadata": {},
   "outputs": [],
   "source": [
    "clean1 = ','.join(str(e) for e in clean)"
   ]
  },
  {
   "cell_type": "code",
   "execution_count": 7,
   "metadata": {},
   "outputs": [
    {
     "data": {
      "text/plain": [
       "'Jadeja to Maharaj, W run,Jadeja to Maharaj, 0 run,Yadav to Rabada, W run,Yadav to Rabada, 4 run,Yadav to Rabada, 0 run,Yadav to Rabada, 0 run,Yadav to Rabada, 0 run,Yadav to Philander, W run,Jadeja to Maharaj, 0 run,Jadeja to Philander, 1 run,Jadeja to Philander, 0 run,Jadeja to Philander, 0 run,Jadeja to Philander, 0 run,Jadeja to Philander, 0 run,Yadav to Maharaj, 0 run,Yadav to Maharaj, 0 run,Yadav to Maharaj, 0 run,Yadav to Maharaj, 0 run,Yadav to Maharaj, 0 run,Yadav to Maharaj, 0 run,Jadeja to Philander, 0 run,Jadeja to Philander, 2 run,Jadeja to Philander, 0 run,Jadeja to Maharaj, 1 run,Jadeja to Philander, 1 run,Jadeja to Philander, 0 run,Yadav to Maharaj, 4 run,Yadav to Maharaj, 0 run,Yadav to Maharaj, 0 run,Yadav to Maharaj, 0 run,Yadav to Maharaj, 0 run,Yadav to Maharaj, 0 run,Kohli to Philander, 0 run,Kohli to Philander, 0 run,Kohli to Philander, 0 run,Kohli to Philander, 4 run,Kohli to Philander, 0 run,Kohli to Philander, 0 run,Jadeja to Maharaj, 0 run,Jadeja to Maharaj, 0 run,Jadeja to Maharaj, 0 run,Jadeja to Maharaj, 0 run,Jadeja to Maharaj, 0 run,Jadeja to Maharaj, 0 run,Ashwin to Philander, 0 run,Ashwin to Philander, 0 run,Ashwin to Philander, 0 run,Ashwin to Philander, 4 run,Ashwin to Philander, 0 run,Ashwin to Philander, 0 run,Sharma to Philander, 1 run,Sharma to Philander, 0 run,Sharma to Philander, 0 run,Sharma to Philander, 0 run,Sharma to Philander, 0 run,Sharma to Maharaj, 1 run,Ashwin to Philander, 0 run,Ashwin to Philander, 2 run,Ashwin to Philander, 0 run,Ashwin to Philander, 0 run,Ashwin to Philander, 0 run,Ashwin to Maharaj, 3 run,Sharma to Philander, 0 run,Sharma to Maharaj, 1 run,Sharma to Maharaj, 0 run,Sharma to Maharaj, 0 run,Sharma to Philander, 1 run,Sharma to Philander, 0 run,Jadeja to Philander, 1 run,Jadeja to Philander, 0 run,Jadeja to Philander, 0 run,Jadeja to Philander, 0 run,Jadeja to Philander, 0 run,Jadeja to Philander, 0 run,Ashwin to Maharaj, 0 run,Ashwin to Maharaj, 0 run,Ashwin to Maharaj, 0 run,Ashwin to Maharaj, 0 run,Ashwin to Maharaj, 0 run,Ashwin to Maharaj, 0 run,Jadeja to Philander, 0 run,Jadeja to Philander, 0 run,Jadeja to Maharaj, 1 run,Jadeja to Philander, 1 run,Jadeja to Philander, 0 run,Jadeja to Philander, 0 run,Ashwin to Maharaj, 0 run,Ashwin to Maharaj, 4 run,Ashwin to Maharaj, 0 run,Ashwin to Maharaj, 0 run,Ashwin to Maharaj, 4 run,Ashwin to Philander, 1 run,Jadeja to Maharaj, 0 run,Jadeja to Maharaj, 0 run,Jadeja to Maharaj, 0 run,Jadeja to Maharaj, 0 run,Jadeja to Maharaj, 0 run,Jadeja to Maharaj, 0 run,Ashwin to Philander, 0 run,Ashwin to Philander, 0 run,Ashwin to Philander, 0 run,Ashwin to Philander, 0 run,Ashwin to Philander, 0 run,Ashwin to Philander, 0 run,Jadeja to Maharaj, 0 run,Jadeja to Maharaj, 0 run,Jadeja to Maharaj, 0 run,Jadeja to Maharaj, 0 run,Jadeja to Maharaj, 0 run,Jadeja to Maharaj, 0 run,Shami to Maharaj, 1 run,Shami to Maharaj, 0 run,Shami to Maharaj, 0 run,Shami to Maharaj, 0 run,Shami to Maharaj, 0 run,Shami to Maharaj, 0 run,Jadeja to Philander, 0 run,Jadeja to Philander, 0 run,Jadeja to Philander, 0 run,Jadeja to Philander, 0 run,Jadeja to Maharaj, 1 run,Jadeja to Maharaj, 0 run,Shami to Maharaj, 1 run,Shami to Maharaj, 0 run,Shami to Maharaj, 0 run,Shami to Maharaj, 0 run,Shami to Maharaj, 0 run,Shami to Philander, 1 run,Jadeja to Philander, 1 run,Jadeja to Philander, 0 run,Jadeja to Philander, 0 run,Jadeja to Philander, 6 run,Jadeja to Philander, 6 run,Jadeja to Philander, 0 run,Shami to Muthusamy, W run,Shami to Philander, 3 run,Shami to Philander, 0 run,Shami to Philander, 0 run,Shami to Philander, 0 run,Jadeja to Muthusamy, 0 run,Jadeja to Philander, 1 run,Jadeja to Philander, 0 run,Jadeja to Philander, 0 run,Jadeja to Bavuma, W run,Jadeja to Bavuma, 0 run,Shami to Muthusamy, 0 run,Shami to Bavuma, 1 run,Shami to Bavuma, 0 run,Shami to Bavuma, 0 run,Shami to Bavuma, 2 run,Shami to Bavuma, 4 run,Ashwin to Muthusamy, 0 run,Ashwin to Bavuma, 1 run,Ashwin to Bavuma, 0 run,Ashwin to Bavuma, 0 run,Ashwin to Bavuma, 0 run,Ashwin to Bavuma, 0 run,Shami to Muthusamy, 0 run,Shami to Muthusamy, 0 run,Shami to Muthusamy, 0 run,Shami to Muthusamy, 0 run,Shami to Bavuma, 1 run,Shami to Bavuma, 2 run,Ashwin to Muthusamy, 0 run,Ashwin to Muthusamy, 0 run,Ashwin to Muthusamy, 0 run,Ashwin to Muthusamy, 0 run,Ashwin to Muthusamy, 0 run,Ashwin to Muthusamy, 2 run,Jadeja to Bavuma, 6 run,Jadeja to Bavuma, 0 run,Jadeja to Bavuma, 0 run,Jadeja to Bavuma, 0 run,Jadeja to Bavuma, 0 run,Jadeja to Bavuma, 2 run,Ashwin to Muthusamy, 0 run,Ashwin to Muthusamy, 4 run,Ashwin to Muthusamy, 0 run,Ashwin to Muthusamy, 0 run,Ashwin to Muthusamy, 0 run,Ashwin to Muthusamy, 0 run,Jadeja to Bavuma, 0 run,Jadeja to Bavuma, 0 run,Jadeja to Bavuma, 4 run,Jadeja to Bavuma, 0 run,Jadeja to Muthusamy, 1 run,Jadeja to Muthusamy, 0 run,Ashwin to Bavuma, 0 run,Ashwin to Bavuma, 0 run,Ashwin to Bavuma, 0 run,Ashwin to Bavuma, 0 run,Ashwin to Bavuma, 4 run,Jadeja to Muthusamy, 0 run,Jadeja to Muthusamy, 0 run,Jadeja to Muthusamy, 0 run,Jadeja to Bavuma, 1 run,Jadeja to Bavuma, 0 run,Jadeja to Bavuma, 0 run,Ashwin to Muthusamy, 0 run,Ashwin to Muthusamy, 0 run,Ashwin to Muthusamy, 0 run,Ashwin to Muthusamy, 0 run,Ashwin to Muthusamy, 0 run,Ashwin to Muthusamy, 0 run,Jadeja to Bavuma, 0 run,Jadeja to Bavuma, 0 run,Jadeja to Bavuma, 0 run,Jadeja to Bavuma, 0 run,Jadeja to Bavuma, 0 run,Jadeja to Bavuma, 0 run,Ashwin to Muthusamy, 2 run,Ashwin to Muthusamy, 0 run,Ashwin to Muthusamy, 0 run,Ashwin to Muthusamy, 0 run,Ashwin to Bavuma, 1 run,Ashwin to Bavuma, 0 run,Jadeja to Bavuma, 1 run,Jadeja to Bavuma, 0 run,Jadeja to Bavuma, 4 run,Jadeja to Bavuma, 0 run,Jadeja to Bavuma, 0 run,Jadeja to Bavuma, 0 run,Ashwin to Muthusamy, 0 run,Ashwin to Muthusamy, 0 run,Ashwin to Muthusamy, 0 run,Ashwin to Muthusamy, 0 run,Ashwin to Muthusamy, 0 run,Ashwin to Bavuma, 1 run,Jadeja to Muthusamy, 0 run,Jadeja to Muthusamy, 0 run,Jadeja to Muthusamy, 0 run,Jadeja to Muthusamy, 0 run,Jadeja to Bavuma, 1 run,Jadeja to Bavuma, 0 run,Jadeja to Bavuma, 0 run,Jadeja to Bavuma, 0 run,Jadeja to Bavuma, 0 run,Jadeja to Bavuma, 1 run,Ashwin to Bavuma, 1 run,Ashwin to Bavuma, 0 run,Ashwin to Bavuma, 0 run,Ashwin to Elgar, W run,Ashwin to Elgar, 0 run,Jadeja to Bavuma, 0 run,Jadeja to Bavuma, 0 run,Jadeja to Bavuma, 0 run,Jadeja to Elgar, 1 run,Jadeja to Elgar, 0 run,Jadeja to Elgar, 0 run,Ashwin to Bavuma, 0 run,Ashwin to Bavuma, 0 run,Ashwin to Bavuma, 0 run,Ashwin to Elgar, 3 run,Ashwin to Elgar, 0 run,Jadeja to Elgar, 1 run,Jadeja to Elgar, 0 run,Jadeja to Elgar, 0 run,Jadeja to Elgar, 0 run,Jadeja to Elgar, 0 run,Jadeja to Elgar, 1 run,Jadeja to Elgar, 0 run,Jadeja to Elgar, 0 run,Jadeja to Elgar, 0 run,Jadeja to Elgar, 0 run,Jadeja to Elgar, 0 run,Jadeja to Elgar, 4 run,Ashwin to Elgar, 1 run,Ashwin to Elgar, 0 run,Ashwin to Elgar, 0 run,Ashwin to Elgar, 0 run,Ashwin to Elgar, 0 run,Ashwin to Elgar, 0 run,Ashwin to Elgar, 0 run,Ashwin to Elgar, 0 run,Ashwin to Elgar, 0 run,Shami to Elgar, 0 run,Shami to Elgar, 0 run,Shami to Elgar, 0 run,Shami to Elgar, 0 run,Shami to Elgar, 0 run,Shami to Elgar, 4 run,Ashwin to Elgar, 1 run,Shami to Elgar, 0 run,Shami to Elgar, 4 run,Shami to Elgar, 0 run,Shami to Elgar, 4 run,Shami to Elgar, 4 run,Shami to Elgar, 0 run,Yadav to Elgar, 1 run,Yadav to Elgar, 0 run,Yadav to Elgar, 0 run,Sharma to Elgar, 0 run,Sharma to Elgar, 0 run,Sharma to Elgar, 0 run,Sharma to Elgar, 0 run,Sharma to Elgar, 4 run,Sharma to Elgar, 0 run,Yadav to Elgar, 1 run,Yadav to Elgar, 0 run,Yadav to Elgar, 0 run,Yadav to Elgar, 0 run,Yadav to Elgar, 2 run,Sharma to Elgar, 1 run,Sharma to Elgar, 2 run,Sharma to Elgar, 0 run,Sharma to Elgar, 4 run,Sharma to Elgar, 0 run,Sharma to Elgar, 0 run,Sharma to Elgar, 4 run,Sharma to Elgar, 0 run,Sharma to Elgar, 0 run,Sharma to Elgar, 0 run,Sharma to Elgar, 0 run,Sharma to Elgar, 0 run,Sharma to Elgar, 0 run,Sharma to Elgar, 0 run,Yadav to Elgar, 1 run,Yadav to Elgar, 0 run,Sharma to Markram, W run,Sharma to Markram, 0 run'"
      ]
     },
     "execution_count": 7,
     "metadata": {},
     "output_type": "execute_result"
    }
   ],
   "source": [
    "clean1"
   ]
  },
  {
   "cell_type": "code",
   "execution_count": 8,
   "metadata": {},
   "outputs": [
    {
     "data": {
      "text/plain": [
       "'Jadeja , Maharaj, W run,Jadeja , Maharaj, 0 run,Yadav , Rabada, W run,Yadav , Rabada, 4 run,Yadav , Rabada, 0 run,Yadav , Rabada, 0 run,Yadav , Rabada, 0 run,Yadav , Philander, W run,Jadeja , Maharaj, 0 run,Jadeja , Philander, 1 run,Jadeja , Philander, 0 run,Jadeja , Philander, 0 run,Jadeja , Philander, 0 run,Jadeja , Philander, 0 run,Yadav , Maharaj, 0 run,Yadav , Maharaj, 0 run,Yadav , Maharaj, 0 run,Yadav , Maharaj, 0 run,Yadav , Maharaj, 0 run,Yadav , Maharaj, 0 run,Jadeja , Philander, 0 run,Jadeja , Philander, 2 run,Jadeja , Philander, 0 run,Jadeja , Maharaj, 1 run,Jadeja , Philander, 1 run,Jadeja , Philander, 0 run,Yadav , Maharaj, 4 run,Yadav , Maharaj, 0 run,Yadav , Maharaj, 0 run,Yadav , Maharaj, 0 run,Yadav , Maharaj, 0 run,Yadav , Maharaj, 0 run,Kohli , Philander, 0 run,Kohli , Philander, 0 run,Kohli , Philander, 0 run,Kohli , Philander, 4 run,Kohli , Philander, 0 run,Kohli , Philander, 0 run,Jadeja , Maharaj, 0 run,Jadeja , Maharaj, 0 run,Jadeja , Maharaj, 0 run,Jadeja , Maharaj, 0 run,Jadeja , Maharaj, 0 run,Jadeja , Maharaj, 0 run,Ashwin , Philander, 0 run,Ashwin , Philander, 0 run,Ashwin , Philander, 0 run,Ashwin , Philander, 4 run,Ashwin , Philander, 0 run,Ashwin , Philander, 0 run,Sharma , Philander, 1 run,Sharma , Philander, 0 run,Sharma , Philander, 0 run,Sharma , Philander, 0 run,Sharma , Philander, 0 run,Sharma , Maharaj, 1 run,Ashwin , Philander, 0 run,Ashwin , Philander, 2 run,Ashwin , Philander, 0 run,Ashwin , Philander, 0 run,Ashwin , Philander, 0 run,Ashwin , Maharaj, 3 run,Sharma , Philander, 0 run,Sharma , Maharaj, 1 run,Sharma , Maharaj, 0 run,Sharma , Maharaj, 0 run,Sharma , Philander, 1 run,Sharma , Philander, 0 run,Jadeja , Philander, 1 run,Jadeja , Philander, 0 run,Jadeja , Philander, 0 run,Jadeja , Philander, 0 run,Jadeja , Philander, 0 run,Jadeja , Philander, 0 run,Ashwin , Maharaj, 0 run,Ashwin , Maharaj, 0 run,Ashwin , Maharaj, 0 run,Ashwin , Maharaj, 0 run,Ashwin , Maharaj, 0 run,Ashwin , Maharaj, 0 run,Jadeja , Philander, 0 run,Jadeja , Philander, 0 run,Jadeja , Maharaj, 1 run,Jadeja , Philander, 1 run,Jadeja , Philander, 0 run,Jadeja , Philander, 0 run,Ashwin , Maharaj, 0 run,Ashwin , Maharaj, 4 run,Ashwin , Maharaj, 0 run,Ashwin , Maharaj, 0 run,Ashwin , Maharaj, 4 run,Ashwin , Philander, 1 run,Jadeja , Maharaj, 0 run,Jadeja , Maharaj, 0 run,Jadeja , Maharaj, 0 run,Jadeja , Maharaj, 0 run,Jadeja , Maharaj, 0 run,Jadeja , Maharaj, 0 run,Ashwin , Philander, 0 run,Ashwin , Philander, 0 run,Ashwin , Philander, 0 run,Ashwin , Philander, 0 run,Ashwin , Philander, 0 run,Ashwin , Philander, 0 run,Jadeja , Maharaj, 0 run,Jadeja , Maharaj, 0 run,Jadeja , Maharaj, 0 run,Jadeja , Maharaj, 0 run,Jadeja , Maharaj, 0 run,Jadeja , Maharaj, 0 run,Shami , Maharaj, 1 run,Shami , Maharaj, 0 run,Shami , Maharaj, 0 run,Shami , Maharaj, 0 run,Shami , Maharaj, 0 run,Shami , Maharaj, 0 run,Jadeja , Philander, 0 run,Jadeja , Philander, 0 run,Jadeja , Philander, 0 run,Jadeja , Philander, 0 run,Jadeja , Maharaj, 1 run,Jadeja , Maharaj, 0 run,Shami , Maharaj, 1 run,Shami , Maharaj, 0 run,Shami , Maharaj, 0 run,Shami , Maharaj, 0 run,Shami , Maharaj, 0 run,Shami , Philander, 1 run,Jadeja , Philander, 1 run,Jadeja , Philander, 0 run,Jadeja , Philander, 0 run,Jadeja , Philander, 6 run,Jadeja , Philander, 6 run,Jadeja , Philander, 0 run,Shami , Muthusamy, W run,Shami , Philander, 3 run,Shami , Philander, 0 run,Shami , Philander, 0 run,Shami , Philander, 0 run,Jadeja , Muthusamy, 0 run,Jadeja , Philander, 1 run,Jadeja , Philander, 0 run,Jadeja , Philander, 0 run,Jadeja , Bavuma, W run,Jadeja , Bavuma, 0 run,Shami , Muthusamy, 0 run,Shami , Bavuma, 1 run,Shami , Bavuma, 0 run,Shami , Bavuma, 0 run,Shami , Bavuma, 2 run,Shami , Bavuma, 4 run,Ashwin , Muthusamy, 0 run,Ashwin , Bavuma, 1 run,Ashwin , Bavuma, 0 run,Ashwin , Bavuma, 0 run,Ashwin , Bavuma, 0 run,Ashwin , Bavuma, 0 run,Shami , Muthusamy, 0 run,Shami , Muthusamy, 0 run,Shami , Muthusamy, 0 run,Shami , Muthusamy, 0 run,Shami , Bavuma, 1 run,Shami , Bavuma, 2 run,Ashwin , Muthusamy, 0 run,Ashwin , Muthusamy, 0 run,Ashwin , Muthusamy, 0 run,Ashwin , Muthusamy, 0 run,Ashwin , Muthusamy, 0 run,Ashwin , Muthusamy, 2 run,Jadeja , Bavuma, 6 run,Jadeja , Bavuma, 0 run,Jadeja , Bavuma, 0 run,Jadeja , Bavuma, 0 run,Jadeja , Bavuma, 0 run,Jadeja , Bavuma, 2 run,Ashwin , Muthusamy, 0 run,Ashwin , Muthusamy, 4 run,Ashwin , Muthusamy, 0 run,Ashwin , Muthusamy, 0 run,Ashwin , Muthusamy, 0 run,Ashwin , Muthusamy, 0 run,Jadeja , Bavuma, 0 run,Jadeja , Bavuma, 0 run,Jadeja , Bavuma, 4 run,Jadeja , Bavuma, 0 run,Jadeja , Muthusamy, 1 run,Jadeja , Muthusamy, 0 run,Ashwin , Bavuma, 0 run,Ashwin , Bavuma, 0 run,Ashwin , Bavuma, 0 run,Ashwin , Bavuma, 0 run,Ashwin , Bavuma, 4 run,Jadeja , Muthusamy, 0 run,Jadeja , Muthusamy, 0 run,Jadeja , Muthusamy, 0 run,Jadeja , Bavuma, 1 run,Jadeja , Bavuma, 0 run,Jadeja , Bavuma, 0 run,Ashwin , Muthusamy, 0 run,Ashwin , Muthusamy, 0 run,Ashwin , Muthusamy, 0 run,Ashwin , Muthusamy, 0 run,Ashwin , Muthusamy, 0 run,Ashwin , Muthusamy, 0 run,Jadeja , Bavuma, 0 run,Jadeja , Bavuma, 0 run,Jadeja , Bavuma, 0 run,Jadeja , Bavuma, 0 run,Jadeja , Bavuma, 0 run,Jadeja , Bavuma, 0 run,Ashwin , Muthusamy, 2 run,Ashwin , Muthusamy, 0 run,Ashwin , Muthusamy, 0 run,Ashwin , Muthusamy, 0 run,Ashwin , Bavuma, 1 run,Ashwin , Bavuma, 0 run,Jadeja , Bavuma, 1 run,Jadeja , Bavuma, 0 run,Jadeja , Bavuma, 4 run,Jadeja , Bavuma, 0 run,Jadeja , Bavuma, 0 run,Jadeja , Bavuma, 0 run,Ashwin , Muthusamy, 0 run,Ashwin , Muthusamy, 0 run,Ashwin , Muthusamy, 0 run,Ashwin , Muthusamy, 0 run,Ashwin , Muthusamy, 0 run,Ashwin , Bavuma, 1 run,Jadeja , Muthusamy, 0 run,Jadeja , Muthusamy, 0 run,Jadeja , Muthusamy, 0 run,Jadeja , Muthusamy, 0 run,Jadeja , Bavuma, 1 run,Jadeja , Bavuma, 0 run,Jadeja , Bavuma, 0 run,Jadeja , Bavuma, 0 run,Jadeja , Bavuma, 0 run,Jadeja , Bavuma, 1 run,Ashwin , Bavuma, 1 run,Ashwin , Bavuma, 0 run,Ashwin , Bavuma, 0 run,Ashwin , Elgar, W run,Ashwin , Elgar, 0 run,Jadeja , Bavuma, 0 run,Jadeja , Bavuma, 0 run,Jadeja , Bavuma, 0 run,Jadeja , Elgar, 1 run,Jadeja , Elgar, 0 run,Jadeja , Elgar, 0 run,Ashwin , Bavuma, 0 run,Ashwin , Bavuma, 0 run,Ashwin , Bavuma, 0 run,Ashwin , Elgar, 3 run,Ashwin , Elgar, 0 run,Jadeja , Elgar, 1 run,Jadeja , Elgar, 0 run,Jadeja , Elgar, 0 run,Jadeja , Elgar, 0 run,Jadeja , Elgar, 0 run,Jadeja , Elgar, 1 run,Jadeja , Elgar, 0 run,Jadeja , Elgar, 0 run,Jadeja , Elgar, 0 run,Jadeja , Elgar, 0 run,Jadeja , Elgar, 0 run,Jadeja , Elgar, 4 run,Ashwin , Elgar, 1 run,Ashwin , Elgar, 0 run,Ashwin , Elgar, 0 run,Ashwin , Elgar, 0 run,Ashwin , Elgar, 0 run,Ashwin , Elgar, 0 run,Ashwin , Elgar, 0 run,Ashwin , Elgar, 0 run,Ashwin , Elgar, 0 run,Shami , Elgar, 0 run,Shami , Elgar, 0 run,Shami , Elgar, 0 run,Shami , Elgar, 0 run,Shami , Elgar, 0 run,Shami , Elgar, 4 run,Ashwin , Elgar, 1 run,Shami , Elgar, 0 run,Shami , Elgar, 4 run,Shami , Elgar, 0 run,Shami , Elgar, 4 run,Shami , Elgar, 4 run,Shami , Elgar, 0 run,Yadav , Elgar, 1 run,Yadav , Elgar, 0 run,Yadav , Elgar, 0 run,Sharma , Elgar, 0 run,Sharma , Elgar, 0 run,Sharma , Elgar, 0 run,Sharma , Elgar, 0 run,Sharma , Elgar, 4 run,Sharma , Elgar, 0 run,Yadav , Elgar, 1 run,Yadav , Elgar, 0 run,Yadav , Elgar, 0 run,Yadav , Elgar, 0 run,Yadav , Elgar, 2 run,Sharma , Elgar, 1 run,Sharma , Elgar, 2 run,Sharma , Elgar, 0 run,Sharma , Elgar, 4 run,Sharma , Elgar, 0 run,Sharma , Elgar, 0 run,Sharma , Elgar, 4 run,Sharma , Elgar, 0 run,Sharma , Elgar, 0 run,Sharma , Elgar, 0 run,Sharma , Elgar, 0 run,Sharma , Elgar, 0 run,Sharma , Elgar, 0 run,Sharma , Elgar, 0 run,Yadav , Elgar, 1 run,Yadav , Elgar, 0 run,Sharma , Markram, W run,Sharma , Markram, 0 run'"
      ]
     },
     "execution_count": 8,
     "metadata": {},
     "output_type": "execute_result"
    }
   ],
   "source": [
    "clean1 = clean1.replace('to', ',')\n",
    "clean1"
   ]
  },
  {
   "cell_type": "code",
   "execution_count": 9,
   "metadata": {},
   "outputs": [],
   "source": [
    "# clean1.replace('run', ', \\r\\n')"
   ]
  },
  {
   "cell_type": "code",
   "execution_count": 10,
   "metadata": {},
   "outputs": [
    {
     "data": {
      "text/plain": [
       "'Jadeja , Maharaj, W \\nJadeja , Maharaj, 0 \\nYadav , Rabada, W \\nYadav , Rabada, 4 \\nYadav , Rabada, 0 \\nYadav , Rabada, 0 \\nYadav , Rabada, 0 \\nYadav , Philander, W \\nJadeja , Maharaj, 0 \\nJadeja , Philander, 1 \\nJadeja , Philander, 0 \\nJadeja , Philander, 0 \\nJadeja , Philander, 0 \\nJadeja , Philander, 0 \\nYadav , Maharaj, 0 \\nYadav , Maharaj, 0 \\nYadav , Maharaj, 0 \\nYadav , Maharaj, 0 \\nYadav , Maharaj, 0 \\nYadav , Maharaj, 0 \\nJadeja , Philander, 0 \\nJadeja , Philander, 2 \\nJadeja , Philander, 0 \\nJadeja , Maharaj, 1 \\nJadeja , Philander, 1 \\nJadeja , Philander, 0 \\nYadav , Maharaj, 4 \\nYadav , Maharaj, 0 \\nYadav , Maharaj, 0 \\nYadav , Maharaj, 0 \\nYadav , Maharaj, 0 \\nYadav , Maharaj, 0 \\nKohli , Philander, 0 \\nKohli , Philander, 0 \\nKohli , Philander, 0 \\nKohli , Philander, 4 \\nKohli , Philander, 0 \\nKohli , Philander, 0 \\nJadeja , Maharaj, 0 \\nJadeja , Maharaj, 0 \\nJadeja , Maharaj, 0 \\nJadeja , Maharaj, 0 \\nJadeja , Maharaj, 0 \\nJadeja , Maharaj, 0 \\nAshwin , Philander, 0 \\nAshwin , Philander, 0 \\nAshwin , Philander, 0 \\nAshwin , Philander, 4 \\nAshwin , Philander, 0 \\nAshwin , Philander, 0 \\nSharma , Philander, 1 \\nSharma , Philander, 0 \\nSharma , Philander, 0 \\nSharma , Philander, 0 \\nSharma , Philander, 0 \\nSharma , Maharaj, 1 \\nAshwin , Philander, 0 \\nAshwin , Philander, 2 \\nAshwin , Philander, 0 \\nAshwin , Philander, 0 \\nAshwin , Philander, 0 \\nAshwin , Maharaj, 3 \\nSharma , Philander, 0 \\nSharma , Maharaj, 1 \\nSharma , Maharaj, 0 \\nSharma , Maharaj, 0 \\nSharma , Philander, 1 \\nSharma , Philander, 0 \\nJadeja , Philander, 1 \\nJadeja , Philander, 0 \\nJadeja , Philander, 0 \\nJadeja , Philander, 0 \\nJadeja , Philander, 0 \\nJadeja , Philander, 0 \\nAshwin , Maharaj, 0 \\nAshwin , Maharaj, 0 \\nAshwin , Maharaj, 0 \\nAshwin , Maharaj, 0 \\nAshwin , Maharaj, 0 \\nAshwin , Maharaj, 0 \\nJadeja , Philander, 0 \\nJadeja , Philander, 0 \\nJadeja , Maharaj, 1 \\nJadeja , Philander, 1 \\nJadeja , Philander, 0 \\nJadeja , Philander, 0 \\nAshwin , Maharaj, 0 \\nAshwin , Maharaj, 4 \\nAshwin , Maharaj, 0 \\nAshwin , Maharaj, 0 \\nAshwin , Maharaj, 4 \\nAshwin , Philander, 1 \\nJadeja , Maharaj, 0 \\nJadeja , Maharaj, 0 \\nJadeja , Maharaj, 0 \\nJadeja , Maharaj, 0 \\nJadeja , Maharaj, 0 \\nJadeja , Maharaj, 0 \\nAshwin , Philander, 0 \\nAshwin , Philander, 0 \\nAshwin , Philander, 0 \\nAshwin , Philander, 0 \\nAshwin , Philander, 0 \\nAshwin , Philander, 0 \\nJadeja , Maharaj, 0 \\nJadeja , Maharaj, 0 \\nJadeja , Maharaj, 0 \\nJadeja , Maharaj, 0 \\nJadeja , Maharaj, 0 \\nJadeja , Maharaj, 0 \\nShami , Maharaj, 1 \\nShami , Maharaj, 0 \\nShami , Maharaj, 0 \\nShami , Maharaj, 0 \\nShami , Maharaj, 0 \\nShami , Maharaj, 0 \\nJadeja , Philander, 0 \\nJadeja , Philander, 0 \\nJadeja , Philander, 0 \\nJadeja , Philander, 0 \\nJadeja , Maharaj, 1 \\nJadeja , Maharaj, 0 \\nShami , Maharaj, 1 \\nShami , Maharaj, 0 \\nShami , Maharaj, 0 \\nShami , Maharaj, 0 \\nShami , Maharaj, 0 \\nShami , Philander, 1 \\nJadeja , Philander, 1 \\nJadeja , Philander, 0 \\nJadeja , Philander, 0 \\nJadeja , Philander, 6 \\nJadeja , Philander, 6 \\nJadeja , Philander, 0 \\nShami , Muthusamy, W \\nShami , Philander, 3 \\nShami , Philander, 0 \\nShami , Philander, 0 \\nShami , Philander, 0 \\nJadeja , Muthusamy, 0 \\nJadeja , Philander, 1 \\nJadeja , Philander, 0 \\nJadeja , Philander, 0 \\nJadeja , Bavuma, W \\nJadeja , Bavuma, 0 \\nShami , Muthusamy, 0 \\nShami , Bavuma, 1 \\nShami , Bavuma, 0 \\nShami , Bavuma, 0 \\nShami , Bavuma, 2 \\nShami , Bavuma, 4 \\nAshwin , Muthusamy, 0 \\nAshwin , Bavuma, 1 \\nAshwin , Bavuma, 0 \\nAshwin , Bavuma, 0 \\nAshwin , Bavuma, 0 \\nAshwin , Bavuma, 0 \\nShami , Muthusamy, 0 \\nShami , Muthusamy, 0 \\nShami , Muthusamy, 0 \\nShami , Muthusamy, 0 \\nShami , Bavuma, 1 \\nShami , Bavuma, 2 \\nAshwin , Muthusamy, 0 \\nAshwin , Muthusamy, 0 \\nAshwin , Muthusamy, 0 \\nAshwin , Muthusamy, 0 \\nAshwin , Muthusamy, 0 \\nAshwin , Muthusamy, 2 \\nJadeja , Bavuma, 6 \\nJadeja , Bavuma, 0 \\nJadeja , Bavuma, 0 \\nJadeja , Bavuma, 0 \\nJadeja , Bavuma, 0 \\nJadeja , Bavuma, 2 \\nAshwin , Muthusamy, 0 \\nAshwin , Muthusamy, 4 \\nAshwin , Muthusamy, 0 \\nAshwin , Muthusamy, 0 \\nAshwin , Muthusamy, 0 \\nAshwin , Muthusamy, 0 \\nJadeja , Bavuma, 0 \\nJadeja , Bavuma, 0 \\nJadeja , Bavuma, 4 \\nJadeja , Bavuma, 0 \\nJadeja , Muthusamy, 1 \\nJadeja , Muthusamy, 0 \\nAshwin , Bavuma, 0 \\nAshwin , Bavuma, 0 \\nAshwin , Bavuma, 0 \\nAshwin , Bavuma, 0 \\nAshwin , Bavuma, 4 \\nJadeja , Muthusamy, 0 \\nJadeja , Muthusamy, 0 \\nJadeja , Muthusamy, 0 \\nJadeja , Bavuma, 1 \\nJadeja , Bavuma, 0 \\nJadeja , Bavuma, 0 \\nAshwin , Muthusamy, 0 \\nAshwin , Muthusamy, 0 \\nAshwin , Muthusamy, 0 \\nAshwin , Muthusamy, 0 \\nAshwin , Muthusamy, 0 \\nAshwin , Muthusamy, 0 \\nJadeja , Bavuma, 0 \\nJadeja , Bavuma, 0 \\nJadeja , Bavuma, 0 \\nJadeja , Bavuma, 0 \\nJadeja , Bavuma, 0 \\nJadeja , Bavuma, 0 \\nAshwin , Muthusamy, 2 \\nAshwin , Muthusamy, 0 \\nAshwin , Muthusamy, 0 \\nAshwin , Muthusamy, 0 \\nAshwin , Bavuma, 1 \\nAshwin , Bavuma, 0 \\nJadeja , Bavuma, 1 \\nJadeja , Bavuma, 0 \\nJadeja , Bavuma, 4 \\nJadeja , Bavuma, 0 \\nJadeja , Bavuma, 0 \\nJadeja , Bavuma, 0 \\nAshwin , Muthusamy, 0 \\nAshwin , Muthusamy, 0 \\nAshwin , Muthusamy, 0 \\nAshwin , Muthusamy, 0 \\nAshwin , Muthusamy, 0 \\nAshwin , Bavuma, 1 \\nJadeja , Muthusamy, 0 \\nJadeja , Muthusamy, 0 \\nJadeja , Muthusamy, 0 \\nJadeja , Muthusamy, 0 \\nJadeja , Bavuma, 1 \\nJadeja , Bavuma, 0 \\nJadeja , Bavuma, 0 \\nJadeja , Bavuma, 0 \\nJadeja , Bavuma, 0 \\nJadeja , Bavuma, 1 \\nAshwin , Bavuma, 1 \\nAshwin , Bavuma, 0 \\nAshwin , Bavuma, 0 \\nAshwin , Elgar, W \\nAshwin , Elgar, 0 \\nJadeja , Bavuma, 0 \\nJadeja , Bavuma, 0 \\nJadeja , Bavuma, 0 \\nJadeja , Elgar, 1 \\nJadeja , Elgar, 0 \\nJadeja , Elgar, 0 \\nAshwin , Bavuma, 0 \\nAshwin , Bavuma, 0 \\nAshwin , Bavuma, 0 \\nAshwin , Elgar, 3 \\nAshwin , Elgar, 0 \\nJadeja , Elgar, 1 \\nJadeja , Elgar, 0 \\nJadeja , Elgar, 0 \\nJadeja , Elgar, 0 \\nJadeja , Elgar, 0 \\nJadeja , Elgar, 1 \\nJadeja , Elgar, 0 \\nJadeja , Elgar, 0 \\nJadeja , Elgar, 0 \\nJadeja , Elgar, 0 \\nJadeja , Elgar, 0 \\nJadeja , Elgar, 4 \\nAshwin , Elgar, 1 \\nAshwin , Elgar, 0 \\nAshwin , Elgar, 0 \\nAshwin , Elgar, 0 \\nAshwin , Elgar, 0 \\nAshwin , Elgar, 0 \\nAshwin , Elgar, 0 \\nAshwin , Elgar, 0 \\nAshwin , Elgar, 0 \\nShami , Elgar, 0 \\nShami , Elgar, 0 \\nShami , Elgar, 0 \\nShami , Elgar, 0 \\nShami , Elgar, 0 \\nShami , Elgar, 4 \\nAshwin , Elgar, 1 \\nShami , Elgar, 0 \\nShami , Elgar, 4 \\nShami , Elgar, 0 \\nShami , Elgar, 4 \\nShami , Elgar, 4 \\nShami , Elgar, 0 \\nYadav , Elgar, 1 \\nYadav , Elgar, 0 \\nYadav , Elgar, 0 \\nSharma , Elgar, 0 \\nSharma , Elgar, 0 \\nSharma , Elgar, 0 \\nSharma , Elgar, 0 \\nSharma , Elgar, 4 \\nSharma , Elgar, 0 \\nYadav , Elgar, 1 \\nYadav , Elgar, 0 \\nYadav , Elgar, 0 \\nYadav , Elgar, 0 \\nYadav , Elgar, 2 \\nSharma , Elgar, 1 \\nSharma , Elgar, 2 \\nSharma , Elgar, 0 \\nSharma , Elgar, 4 \\nSharma , Elgar, 0 \\nSharma , Elgar, 0 \\nSharma , Elgar, 4 \\nSharma , Elgar, 0 \\nSharma , Elgar, 0 \\nSharma , Elgar, 0 \\nSharma , Elgar, 0 \\nSharma , Elgar, 0 \\nSharma , Elgar, 0 \\nSharma , Elgar, 0 \\nYadav , Elgar, 1 \\nYadav , Elgar, 0 \\nSharma , Markram, W \\nSharma , Markram, 0 run'"
      ]
     },
     "execution_count": 10,
     "metadata": {},
     "output_type": "execute_result"
    }
   ],
   "source": [
    "clean2 = re.sub(r\"run,\", \"\\n\", clean1)\n",
    "clean2"
   ]
  },
  {
   "cell_type": "code",
   "execution_count": 11,
   "metadata": {},
   "outputs": [],
   "source": [
    "clean2 = re.sub(r\"run\",\"\", clean2)"
   ]
  },
  {
   "cell_type": "code",
   "execution_count": 12,
   "metadata": {},
   "outputs": [],
   "source": [
    "fclean2 = open(\"fclean2.txt\", 'w')"
   ]
  },
  {
   "cell_type": "code",
   "execution_count": 13,
   "metadata": {},
   "outputs": [],
   "source": [
    "fclean2.write(clean2)\n",
    "fclean2.close()"
   ]
  },
  {
   "cell_type": "code",
   "execution_count": 14,
   "metadata": {},
   "outputs": [],
   "source": [
    "import pandas as pd"
   ]
  },
  {
   "cell_type": "code",
   "execution_count": 15,
   "metadata": {},
   "outputs": [],
   "source": [
    "df = pd.read_csv('fclean2.txt',  names = ['Bowler', 'Batsmen', 'Runs'])"
   ]
  },
  {
   "cell_type": "code",
   "execution_count": 16,
   "metadata": {},
   "outputs": [
    {
     "data": {
      "text/html": [
       "<div>\n",
       "<style scoped>\n",
       "    .dataframe tbody tr th:only-of-type {\n",
       "        vertical-align: middle;\n",
       "    }\n",
       "\n",
       "    .dataframe tbody tr th {\n",
       "        vertical-align: top;\n",
       "    }\n",
       "\n",
       "    .dataframe thead th {\n",
       "        text-align: right;\n",
       "    }\n",
       "</style>\n",
       "<table border=\"1\" class=\"dataframe\">\n",
       "  <thead>\n",
       "    <tr style=\"text-align: right;\">\n",
       "      <th></th>\n",
       "      <th>Bowler</th>\n",
       "      <th>Batsmen</th>\n",
       "      <th>Runs</th>\n",
       "    </tr>\n",
       "  </thead>\n",
       "  <tbody>\n",
       "    <tr>\n",
       "      <th>0</th>\n",
       "      <td>Jadeja</td>\n",
       "      <td>Maharaj</td>\n",
       "      <td>W</td>\n",
       "    </tr>\n",
       "    <tr>\n",
       "      <th>1</th>\n",
       "      <td>Jadeja</td>\n",
       "      <td>Maharaj</td>\n",
       "      <td>0</td>\n",
       "    </tr>\n",
       "    <tr>\n",
       "      <th>2</th>\n",
       "      <td>Yadav</td>\n",
       "      <td>Rabada</td>\n",
       "      <td>W</td>\n",
       "    </tr>\n",
       "    <tr>\n",
       "      <th>3</th>\n",
       "      <td>Yadav</td>\n",
       "      <td>Rabada</td>\n",
       "      <td>4</td>\n",
       "    </tr>\n",
       "    <tr>\n",
       "      <th>4</th>\n",
       "      <td>Yadav</td>\n",
       "      <td>Rabada</td>\n",
       "      <td>0</td>\n",
       "    </tr>\n",
       "  </tbody>\n",
       "</table>\n",
       "</div>"
      ],
      "text/plain": [
       "    Bowler   Batsmen Runs\n",
       "0  Jadeja    Maharaj   W \n",
       "1  Jadeja    Maharaj   0 \n",
       "2   Yadav     Rabada   W \n",
       "3   Yadav     Rabada   4 \n",
       "4   Yadav     Rabada   0 "
      ]
     },
     "execution_count": 16,
     "metadata": {},
     "output_type": "execute_result"
    }
   ],
   "source": [
    "df.head()"
   ]
  },
  {
   "cell_type": "code",
   "execution_count": 17,
   "metadata": {},
   "outputs": [],
   "source": [
    "dfBat = df.drop(['Bowler'],axis=1)"
   ]
  },
  {
   "cell_type": "code",
   "execution_count": 18,
   "metadata": {},
   "outputs": [
    {
     "data": {
      "text/html": [
       "<div>\n",
       "<style scoped>\n",
       "    .dataframe tbody tr th:only-of-type {\n",
       "        vertical-align: middle;\n",
       "    }\n",
       "\n",
       "    .dataframe tbody tr th {\n",
       "        vertical-align: top;\n",
       "    }\n",
       "\n",
       "    .dataframe thead th {\n",
       "        text-align: right;\n",
       "    }\n",
       "</style>\n",
       "<table border=\"1\" class=\"dataframe\">\n",
       "  <thead>\n",
       "    <tr style=\"text-align: right;\">\n",
       "      <th></th>\n",
       "      <th>Batsmen</th>\n",
       "      <th>Runs</th>\n",
       "    </tr>\n",
       "  </thead>\n",
       "  <tbody>\n",
       "    <tr>\n",
       "      <th>0</th>\n",
       "      <td>Maharaj</td>\n",
       "      <td>W</td>\n",
       "    </tr>\n",
       "    <tr>\n",
       "      <th>1</th>\n",
       "      <td>Maharaj</td>\n",
       "      <td>0</td>\n",
       "    </tr>\n",
       "    <tr>\n",
       "      <th>2</th>\n",
       "      <td>Rabada</td>\n",
       "      <td>W</td>\n",
       "    </tr>\n",
       "    <tr>\n",
       "      <th>3</th>\n",
       "      <td>Rabada</td>\n",
       "      <td>4</td>\n",
       "    </tr>\n",
       "    <tr>\n",
       "      <th>4</th>\n",
       "      <td>Rabada</td>\n",
       "      <td>0</td>\n",
       "    </tr>\n",
       "    <tr>\n",
       "      <th>5</th>\n",
       "      <td>Rabada</td>\n",
       "      <td>0</td>\n",
       "    </tr>\n",
       "    <tr>\n",
       "      <th>6</th>\n",
       "      <td>Rabada</td>\n",
       "      <td>0</td>\n",
       "    </tr>\n",
       "    <tr>\n",
       "      <th>7</th>\n",
       "      <td>Philander</td>\n",
       "      <td>W</td>\n",
       "    </tr>\n",
       "    <tr>\n",
       "      <th>8</th>\n",
       "      <td>Maharaj</td>\n",
       "      <td>0</td>\n",
       "    </tr>\n",
       "    <tr>\n",
       "      <th>9</th>\n",
       "      <td>Philander</td>\n",
       "      <td>1</td>\n",
       "    </tr>\n",
       "  </tbody>\n",
       "</table>\n",
       "</div>"
      ],
      "text/plain": [
       "      Batsmen Runs\n",
       "0     Maharaj   W \n",
       "1     Maharaj   0 \n",
       "2      Rabada   W \n",
       "3      Rabada   4 \n",
       "4      Rabada   0 \n",
       "5      Rabada   0 \n",
       "6      Rabada   0 \n",
       "7   Philander   W \n",
       "8     Maharaj   0 \n",
       "9   Philander   1 "
      ]
     },
     "execution_count": 18,
     "metadata": {},
     "output_type": "execute_result"
    }
   ],
   "source": [
    "dfBat.head(10)"
   ]
  },
  {
   "cell_type": "code",
   "execution_count": 19,
   "metadata": {},
   "outputs": [],
   "source": [
    "dfBowl = df.drop(['Batsmen'], axis = 1)"
   ]
  },
  {
   "cell_type": "code",
   "execution_count": 20,
   "metadata": {},
   "outputs": [
    {
     "data": {
      "text/html": [
       "<div>\n",
       "<style scoped>\n",
       "    .dataframe tbody tr th:only-of-type {\n",
       "        vertical-align: middle;\n",
       "    }\n",
       "\n",
       "    .dataframe tbody tr th {\n",
       "        vertical-align: top;\n",
       "    }\n",
       "\n",
       "    .dataframe thead th {\n",
       "        text-align: right;\n",
       "    }\n",
       "</style>\n",
       "<table border=\"1\" class=\"dataframe\">\n",
       "  <thead>\n",
       "    <tr style=\"text-align: right;\">\n",
       "      <th></th>\n",
       "      <th>Bowler</th>\n",
       "      <th>Runs</th>\n",
       "    </tr>\n",
       "  </thead>\n",
       "  <tbody>\n",
       "    <tr>\n",
       "      <th>0</th>\n",
       "      <td>Jadeja</td>\n",
       "      <td>W</td>\n",
       "    </tr>\n",
       "    <tr>\n",
       "      <th>1</th>\n",
       "      <td>Jadeja</td>\n",
       "      <td>0</td>\n",
       "    </tr>\n",
       "    <tr>\n",
       "      <th>2</th>\n",
       "      <td>Yadav</td>\n",
       "      <td>W</td>\n",
       "    </tr>\n",
       "    <tr>\n",
       "      <th>3</th>\n",
       "      <td>Yadav</td>\n",
       "      <td>4</td>\n",
       "    </tr>\n",
       "    <tr>\n",
       "      <th>4</th>\n",
       "      <td>Yadav</td>\n",
       "      <td>0</td>\n",
       "    </tr>\n",
       "  </tbody>\n",
       "</table>\n",
       "</div>"
      ],
      "text/plain": [
       "    Bowler Runs\n",
       "0  Jadeja    W \n",
       "1  Jadeja    0 \n",
       "2   Yadav    W \n",
       "3   Yadav    4 \n",
       "4   Yadav    0 "
      ]
     },
     "execution_count": 20,
     "metadata": {},
     "output_type": "execute_result"
    }
   ],
   "source": [
    "dfBowl.head()"
   ]
  },
  {
   "cell_type": "code",
   "execution_count": 21,
   "metadata": {},
   "outputs": [
    {
     "data": {
      "text/html": [
       "<div>\n",
       "<style scoped>\n",
       "    .dataframe tbody tr th:only-of-type {\n",
       "        vertical-align: middle;\n",
       "    }\n",
       "\n",
       "    .dataframe tbody tr th {\n",
       "        vertical-align: top;\n",
       "    }\n",
       "\n",
       "    .dataframe thead th {\n",
       "        text-align: right;\n",
       "    }\n",
       "</style>\n",
       "<table border=\"1\" class=\"dataframe\">\n",
       "  <thead>\n",
       "    <tr style=\"text-align: right;\">\n",
       "      <th></th>\n",
       "      <th>Bowler</th>\n",
       "      <th>Runs</th>\n",
       "    </tr>\n",
       "  </thead>\n",
       "  <tbody>\n",
       "    <tr>\n",
       "      <th>0</th>\n",
       "      <td>Jadeja</td>\n",
       "      <td>W</td>\n",
       "    </tr>\n",
       "    <tr>\n",
       "      <th>1</th>\n",
       "      <td>Jadeja</td>\n",
       "      <td>0</td>\n",
       "    </tr>\n",
       "    <tr>\n",
       "      <th>2</th>\n",
       "      <td>Yadav</td>\n",
       "      <td>W</td>\n",
       "    </tr>\n",
       "    <tr>\n",
       "      <th>3</th>\n",
       "      <td>Yadav</td>\n",
       "      <td>4</td>\n",
       "    </tr>\n",
       "    <tr>\n",
       "      <th>4</th>\n",
       "      <td>Yadav</td>\n",
       "      <td>0</td>\n",
       "    </tr>\n",
       "    <tr>\n",
       "      <th>5</th>\n",
       "      <td>Yadav</td>\n",
       "      <td>0</td>\n",
       "    </tr>\n",
       "    <tr>\n",
       "      <th>6</th>\n",
       "      <td>Yadav</td>\n",
       "      <td>0</td>\n",
       "    </tr>\n",
       "    <tr>\n",
       "      <th>7</th>\n",
       "      <td>Yadav</td>\n",
       "      <td>W</td>\n",
       "    </tr>\n",
       "    <tr>\n",
       "      <th>8</th>\n",
       "      <td>Jadeja</td>\n",
       "      <td>0</td>\n",
       "    </tr>\n",
       "    <tr>\n",
       "      <th>9</th>\n",
       "      <td>Jadeja</td>\n",
       "      <td>1</td>\n",
       "    </tr>\n",
       "  </tbody>\n",
       "</table>\n",
       "</div>"
      ],
      "text/plain": [
       "   Bowler Runs\n",
       "0  Jadeja   W \n",
       "1  Jadeja   0 \n",
       "2   Yadav   W \n",
       "3   Yadav   4 \n",
       "4   Yadav   0 \n",
       "5   Yadav   0 \n",
       "6   Yadav   0 \n",
       "7   Yadav   W \n",
       "8  Jadeja   0 \n",
       "9  Jadeja   1 "
      ]
     },
     "execution_count": 21,
     "metadata": {},
     "output_type": "execute_result"
    }
   ],
   "source": [
    "# Removing whitespaces from the Bowler column obects of the dfBowl dataframe:\n",
    "dfBowl['Bowler'] = dfBowl['Bowler'].str.strip(' ')\n",
    "dfBowl.head(10)"
   ]
  },
  {
   "cell_type": "code",
   "execution_count": 22,
   "metadata": {},
   "outputs": [
    {
     "data": {
      "text/html": [
       "<div>\n",
       "<style scoped>\n",
       "    .dataframe tbody tr th:only-of-type {\n",
       "        vertical-align: middle;\n",
       "    }\n",
       "\n",
       "    .dataframe tbody tr th {\n",
       "        vertical-align: top;\n",
       "    }\n",
       "\n",
       "    .dataframe thead th {\n",
       "        text-align: right;\n",
       "    }\n",
       "</style>\n",
       "<table border=\"1\" class=\"dataframe\">\n",
       "  <thead>\n",
       "    <tr style=\"text-align: right;\">\n",
       "      <th></th>\n",
       "      <th>Bowler</th>\n",
       "      <th>Runs</th>\n",
       "    </tr>\n",
       "  </thead>\n",
       "  <tbody>\n",
       "    <tr>\n",
       "      <th>0</th>\n",
       "      <td>Jadeja</td>\n",
       "      <td>W</td>\n",
       "    </tr>\n",
       "    <tr>\n",
       "      <th>1</th>\n",
       "      <td>Jadeja</td>\n",
       "      <td>0</td>\n",
       "    </tr>\n",
       "    <tr>\n",
       "      <th>2</th>\n",
       "      <td>Yadav</td>\n",
       "      <td>W</td>\n",
       "    </tr>\n",
       "    <tr>\n",
       "      <th>3</th>\n",
       "      <td>Yadav</td>\n",
       "      <td>4</td>\n",
       "    </tr>\n",
       "    <tr>\n",
       "      <th>4</th>\n",
       "      <td>Yadav</td>\n",
       "      <td>0</td>\n",
       "    </tr>\n",
       "    <tr>\n",
       "      <th>5</th>\n",
       "      <td>Yadav</td>\n",
       "      <td>0</td>\n",
       "    </tr>\n",
       "    <tr>\n",
       "      <th>6</th>\n",
       "      <td>Yadav</td>\n",
       "      <td>0</td>\n",
       "    </tr>\n",
       "    <tr>\n",
       "      <th>7</th>\n",
       "      <td>Yadav</td>\n",
       "      <td>W</td>\n",
       "    </tr>\n",
       "    <tr>\n",
       "      <th>8</th>\n",
       "      <td>Jadeja</td>\n",
       "      <td>0</td>\n",
       "    </tr>\n",
       "    <tr>\n",
       "      <th>9</th>\n",
       "      <td>Jadeja</td>\n",
       "      <td>1</td>\n",
       "    </tr>\n",
       "  </tbody>\n",
       "</table>\n",
       "</div>"
      ],
      "text/plain": [
       "   Bowler Runs\n",
       "0  Jadeja    W\n",
       "1  Jadeja    0\n",
       "2   Yadav    W\n",
       "3   Yadav    4\n",
       "4   Yadav    0\n",
       "5   Yadav    0\n",
       "6   Yadav    0\n",
       "7   Yadav    W\n",
       "8  Jadeja    0\n",
       "9  Jadeja    1"
      ]
     },
     "execution_count": 22,
     "metadata": {},
     "output_type": "execute_result"
    }
   ],
   "source": [
    "# Removing whitespaces from the Runs column obects of the dfBowl dataframe:\n",
    "dfBowl['Runs'] = dfBowl['Runs'].str.strip(' ')\n",
    "dfBowl.head(10)"
   ]
  },
  {
   "cell_type": "code",
   "execution_count": 23,
   "metadata": {},
   "outputs": [
    {
     "data": {
      "text/plain": [
       "{'Ashwin', 'Jadeja', 'Kohli', 'Shami', 'Sharma', 'Yadav'}"
      ]
     },
     "execution_count": 23,
     "metadata": {},
     "output_type": "execute_result"
    }
   ],
   "source": [
    "#Converting the DF to a list:\n",
    "BowlerList = dfBowl['Bowler'].tolist()\n",
    "\n",
    "#Getting only unique values\n",
    "BowlerList = set(BowlerList)\n",
    "BowlerList"
   ]
  },
  {
   "cell_type": "code",
   "execution_count": 24,
   "metadata": {},
   "outputs": [
    {
     "data": {
      "text/plain": [
       "['Jadeja', 'Ashwin', 'Sharma', 'Kohli', 'Yadav', 'Shami']"
      ]
     },
     "execution_count": 24,
     "metadata": {},
     "output_type": "execute_result"
    }
   ],
   "source": [
    "#Removing WhiteSpaces from the list objects:\n",
    "BowlerList = [x.strip(' ') for x in BowlerList]\n",
    "BowlerList\n",
    "\n",
    "## Not needed now, as done above with the dataframe itself!"
   ]
  },
  {
   "cell_type": "code",
   "execution_count": 25,
   "metadata": {},
   "outputs": [
    {
     "data": {
      "text/plain": [
       "{'Jadeja': 0, 'Ashwin': 0, 'Sharma': 0, 'Kohli': 0, 'Yadav': 0, 'Shami': 0}"
      ]
     },
     "execution_count": 25,
     "metadata": {},
     "output_type": "execute_result"
    }
   ],
   "source": [
    "#Creating Dictionary from BowlerList and initializing with 0\n",
    "BowlDict = {i : 0 for i in BowlerList}\n",
    "BowlDict"
   ]
  },
  {
   "cell_type": "code",
   "execution_count": 26,
   "metadata": {},
   "outputs": [
    {
     "data": {
      "text/plain": [
       "0"
      ]
     },
     "execution_count": 26,
     "metadata": {},
     "output_type": "execute_result"
    }
   ],
   "source": [
    "BowlDict['Ashwin'] "
   ]
  },
  {
   "cell_type": "code",
   "execution_count": 27,
   "metadata": {},
   "outputs": [
    {
     "data": {
      "text/plain": [
       "0"
      ]
     },
     "execution_count": 27,
     "metadata": {},
     "output_type": "execute_result"
    }
   ],
   "source": [
    "BowlDict[dfBowl.loc[3,'Bowler']]"
   ]
  },
  {
   "cell_type": "code",
   "execution_count": 28,
   "metadata": {},
   "outputs": [
    {
     "data": {
      "text/plain": [
       "'W'"
      ]
     },
     "execution_count": 28,
     "metadata": {},
     "output_type": "execute_result"
    }
   ],
   "source": [
    "dfBowl.loc[2,\"Runs\"]"
   ]
  },
  {
   "cell_type": "code",
   "execution_count": 29,
   "metadata": {},
   "outputs": [],
   "source": [
    "WicketDict = {}\n",
    "\n",
    "## my_dict[key] = my_dict.get(key, 0) + num\n",
    "for j in range(len(dfBowl)):\n",
    "    if (dfBowl.loc[j,\"Runs\"] == 'W'):\n",
    "        BowlDict[dfBowl.loc[j,\"Bowler\"]] = BowlDict.get(dfBowl.loc[j,\"Bowler\"],0)+1\n",
    "        \n",
    "        \n",
    "\n",
    "#BowlerWkts = "
   ]
  },
  {
   "cell_type": "code",
   "execution_count": 30,
   "metadata": {},
   "outputs": [
    {
     "data": {
      "text/plain": [
       "{'Jadeja': 2, 'Ashwin': 1, 'Sharma': 1, 'Kohli': 0, 'Yadav': 2, 'Shami': 1}"
      ]
     },
     "execution_count": 30,
     "metadata": {},
     "output_type": "execute_result"
    }
   ],
   "source": [
    "BowlDict"
   ]
  },
  {
   "cell_type": "code",
   "execution_count": 31,
   "metadata": {},
   "outputs": [
    {
     "data": {
      "text/plain": [
       "{'Jadeja': 2, 'Ashwin': 1, 'Sharma': 1, 'Kohli': 0, 'Yadav': 2, 'Shami': 1}"
      ]
     },
     "execution_count": 31,
     "metadata": {},
     "output_type": "execute_result"
    }
   ],
   "source": [
    "WicketDict = BowlDict\n",
    "WicketDict"
   ]
  },
  {
   "cell_type": "code",
   "execution_count": 32,
   "metadata": {},
   "outputs": [],
   "source": [
    "# Removing nonnumeric (that is, 'W') rows\n",
    "# df[pd.to_numeric(df['id'], errors='coerce').notnull()]\n",
    "\n",
    "dfBat = dfBat[pd.to_numeric(df['Runs'], errors = 'coerce').notnull()]\n",
    "dfBowl = dfBowl[pd.to_numeric(df['Runs'], errors = 'coerce').notnull()]"
   ]
  },
  {
   "cell_type": "code",
   "execution_count": 33,
   "metadata": {},
   "outputs": [
    {
     "data": {
      "text/html": [
       "<div>\n",
       "<style scoped>\n",
       "    .dataframe tbody tr th:only-of-type {\n",
       "        vertical-align: middle;\n",
       "    }\n",
       "\n",
       "    .dataframe tbody tr th {\n",
       "        vertical-align: top;\n",
       "    }\n",
       "\n",
       "    .dataframe thead th {\n",
       "        text-align: right;\n",
       "    }\n",
       "</style>\n",
       "<table border=\"1\" class=\"dataframe\">\n",
       "  <thead>\n",
       "    <tr style=\"text-align: right;\">\n",
       "      <th></th>\n",
       "      <th>Batsmen</th>\n",
       "      <th>Runs</th>\n",
       "    </tr>\n",
       "  </thead>\n",
       "  <tbody>\n",
       "    <tr>\n",
       "      <th>1</th>\n",
       "      <td>Maharaj</td>\n",
       "      <td>0</td>\n",
       "    </tr>\n",
       "    <tr>\n",
       "      <th>3</th>\n",
       "      <td>Rabada</td>\n",
       "      <td>4</td>\n",
       "    </tr>\n",
       "    <tr>\n",
       "      <th>4</th>\n",
       "      <td>Rabada</td>\n",
       "      <td>0</td>\n",
       "    </tr>\n",
       "    <tr>\n",
       "      <th>5</th>\n",
       "      <td>Rabada</td>\n",
       "      <td>0</td>\n",
       "    </tr>\n",
       "    <tr>\n",
       "      <th>6</th>\n",
       "      <td>Rabada</td>\n",
       "      <td>0</td>\n",
       "    </tr>\n",
       "  </tbody>\n",
       "</table>\n",
       "</div>"
      ],
      "text/plain": [
       "    Batsmen Runs\n",
       "1   Maharaj   0 \n",
       "3    Rabada   4 \n",
       "4    Rabada   0 \n",
       "5    Rabada   0 \n",
       "6    Rabada   0 "
      ]
     },
     "execution_count": 33,
     "metadata": {},
     "output_type": "execute_result"
    }
   ],
   "source": [
    "dfBat.head()"
   ]
  },
  {
   "cell_type": "code",
   "execution_count": 34,
   "metadata": {},
   "outputs": [
    {
     "data": {
      "text/plain": [
       "Batsmen    object\n",
       "Runs       object\n",
       "dtype: object"
      ]
     },
     "execution_count": 34,
     "metadata": {},
     "output_type": "execute_result"
    }
   ],
   "source": [
    "dfBat.dtypes"
   ]
  },
  {
   "cell_type": "code",
   "execution_count": 35,
   "metadata": {},
   "outputs": [
    {
     "data": {
      "text/html": [
       "<div>\n",
       "<style scoped>\n",
       "    .dataframe tbody tr th:only-of-type {\n",
       "        vertical-align: middle;\n",
       "    }\n",
       "\n",
       "    .dataframe tbody tr th {\n",
       "        vertical-align: top;\n",
       "    }\n",
       "\n",
       "    .dataframe thead th {\n",
       "        text-align: right;\n",
       "    }\n",
       "</style>\n",
       "<table border=\"1\" class=\"dataframe\">\n",
       "  <thead>\n",
       "    <tr style=\"text-align: right;\">\n",
       "      <th></th>\n",
       "      <th>Bowler</th>\n",
       "      <th>Runs</th>\n",
       "    </tr>\n",
       "  </thead>\n",
       "  <tbody>\n",
       "    <tr>\n",
       "      <th>1</th>\n",
       "      <td>Jadeja</td>\n",
       "      <td>0</td>\n",
       "    </tr>\n",
       "    <tr>\n",
       "      <th>3</th>\n",
       "      <td>Yadav</td>\n",
       "      <td>4</td>\n",
       "    </tr>\n",
       "    <tr>\n",
       "      <th>4</th>\n",
       "      <td>Yadav</td>\n",
       "      <td>0</td>\n",
       "    </tr>\n",
       "    <tr>\n",
       "      <th>5</th>\n",
       "      <td>Yadav</td>\n",
       "      <td>0</td>\n",
       "    </tr>\n",
       "    <tr>\n",
       "      <th>6</th>\n",
       "      <td>Yadav</td>\n",
       "      <td>0</td>\n",
       "    </tr>\n",
       "  </tbody>\n",
       "</table>\n",
       "</div>"
      ],
      "text/plain": [
       "   Bowler Runs\n",
       "1  Jadeja    0\n",
       "3   Yadav    4\n",
       "4   Yadav    0\n",
       "5   Yadav    0\n",
       "6   Yadav    0"
      ]
     },
     "execution_count": 35,
     "metadata": {},
     "output_type": "execute_result"
    }
   ],
   "source": [
    "dfBowl.head()"
   ]
  },
  {
   "cell_type": "code",
   "execution_count": 36,
   "metadata": {},
   "outputs": [
    {
     "data": {
      "text/plain": [
       "Bowler    object\n",
       "Runs      object\n",
       "dtype: object"
      ]
     },
     "execution_count": 36,
     "metadata": {},
     "output_type": "execute_result"
    }
   ],
   "source": [
    "dfBowl.dtypes"
   ]
  },
  {
   "cell_type": "code",
   "execution_count": 48,
   "metadata": {},
   "outputs": [
    {
     "data": {
      "text/plain": [
       "Batsmen    object\n",
       "Runs        int64\n",
       "dtype: object"
      ]
     },
     "execution_count": 48,
     "metadata": {},
     "output_type": "execute_result"
    }
   ],
   "source": [
    "## Numeric conversion from object:\n",
    "## df[\"2nd\"] = pd.to_numeric(df[\"2nd\"])\n",
    "\n",
    "dfBat['Runs'] = pd.to_numeric(dfBat['Runs'])\n",
    "dfBat.dtypes"
   ]
  },
  {
   "cell_type": "code",
   "execution_count": 38,
   "metadata": {},
   "outputs": [
    {
     "data": {
      "text/plain": [
       "Bowler    object\n",
       "Runs       int64\n",
       "dtype: object"
      ]
     },
     "execution_count": 38,
     "metadata": {},
     "output_type": "execute_result"
    }
   ],
   "source": [
    "dfBowl['Runs'] = pd.to_numeric(dfBowl['Runs'])\n",
    "dfBowl.dtypes"
   ]
  },
  {
   "cell_type": "code",
   "execution_count": 39,
   "metadata": {},
   "outputs": [
    {
     "data": {
      "text/html": [
       "<div>\n",
       "<style scoped>\n",
       "    .dataframe tbody tr th:only-of-type {\n",
       "        vertical-align: middle;\n",
       "    }\n",
       "\n",
       "    .dataframe tbody tr th {\n",
       "        vertical-align: top;\n",
       "    }\n",
       "\n",
       "    .dataframe thead th {\n",
       "        text-align: right;\n",
       "    }\n",
       "</style>\n",
       "<table border=\"1\" class=\"dataframe\">\n",
       "  <thead>\n",
       "    <tr style=\"text-align: right;\">\n",
       "      <th></th>\n",
       "      <th>Runs</th>\n",
       "    </tr>\n",
       "    <tr>\n",
       "      <th>Batsmen</th>\n",
       "      <th></th>\n",
       "    </tr>\n",
       "  </thead>\n",
       "  <tbody>\n",
       "    <tr>\n",
       "      <th>Bavuma</th>\n",
       "      <td>38</td>\n",
       "    </tr>\n",
       "    <tr>\n",
       "      <th>Elgar</th>\n",
       "      <td>48</td>\n",
       "    </tr>\n",
       "    <tr>\n",
       "      <th>Maharaj</th>\n",
       "      <td>22</td>\n",
       "    </tr>\n",
       "    <tr>\n",
       "      <th>Markram</th>\n",
       "      <td>0</td>\n",
       "    </tr>\n",
       "    <tr>\n",
       "      <th>Muthusamy</th>\n",
       "      <td>9</td>\n",
       "    </tr>\n",
       "    <tr>\n",
       "      <th>Philander</th>\n",
       "      <td>37</td>\n",
       "    </tr>\n",
       "    <tr>\n",
       "      <th>Rabada</th>\n",
       "      <td>4</td>\n",
       "    </tr>\n",
       "  </tbody>\n",
       "</table>\n",
       "</div>"
      ],
      "text/plain": [
       "            Runs\n",
       "Batsmen         \n",
       " Bavuma       38\n",
       " Elgar        48\n",
       " Maharaj      22\n",
       " Markram       0\n",
       " Muthusamy     9\n",
       " Philander    37\n",
       " Rabada        4"
      ]
     },
     "execution_count": 39,
     "metadata": {},
     "output_type": "execute_result"
    }
   ],
   "source": [
    "BatTotal = dfBat.groupby(['Batsmen']).sum()\n",
    "BatTotal"
   ]
  },
  {
   "cell_type": "code",
   "execution_count": 40,
   "metadata": {},
   "outputs": [
    {
     "data": {
      "text/html": [
       "<div>\n",
       "<style scoped>\n",
       "    .dataframe tbody tr th:only-of-type {\n",
       "        vertical-align: middle;\n",
       "    }\n",
       "\n",
       "    .dataframe tbody tr th {\n",
       "        vertical-align: top;\n",
       "    }\n",
       "\n",
       "    .dataframe thead th {\n",
       "        text-align: right;\n",
       "    }\n",
       "</style>\n",
       "<table border=\"1\" class=\"dataframe\">\n",
       "  <thead>\n",
       "    <tr style=\"text-align: right;\">\n",
       "      <th></th>\n",
       "      <th>Runs</th>\n",
       "    </tr>\n",
       "    <tr>\n",
       "      <th>Bowler</th>\n",
       "      <th></th>\n",
       "    </tr>\n",
       "  </thead>\n",
       "  <tbody>\n",
       "    <tr>\n",
       "      <th>Ashwin</th>\n",
       "      <td>39</td>\n",
       "    </tr>\n",
       "    <tr>\n",
       "      <th>Jadeja</th>\n",
       "      <td>51</td>\n",
       "    </tr>\n",
       "    <tr>\n",
       "      <th>Kohli</th>\n",
       "      <td>4</td>\n",
       "    </tr>\n",
       "    <tr>\n",
       "      <th>Shami</th>\n",
       "      <td>32</td>\n",
       "    </tr>\n",
       "    <tr>\n",
       "      <th>Sharma</th>\n",
       "      <td>19</td>\n",
       "    </tr>\n",
       "    <tr>\n",
       "      <th>Yadav</th>\n",
       "      <td>13</td>\n",
       "    </tr>\n",
       "  </tbody>\n",
       "</table>\n",
       "</div>"
      ],
      "text/plain": [
       "        Runs\n",
       "Bowler      \n",
       "Ashwin    39\n",
       "Jadeja    51\n",
       "Kohli      4\n",
       "Shami     32\n",
       "Sharma    19\n",
       "Yadav     13"
      ]
     },
     "execution_count": 40,
     "metadata": {},
     "output_type": "execute_result"
    }
   ],
   "source": [
    "BowlTotal = dfBowl.groupby(['Bowler']).sum()\n",
    "BowlTotal"
   ]
  },
  {
   "cell_type": "raw",
   "metadata": {},
   "source": [
    "The above DF is a groupby DF which can't be converted to a dictionary, it throws error. So reset the indices by using reset_index()"
   ]
  },
  {
   "cell_type": "code",
   "execution_count": 41,
   "metadata": {},
   "outputs": [
    {
     "data": {
      "text/html": [
       "<div>\n",
       "<style scoped>\n",
       "    .dataframe tbody tr th:only-of-type {\n",
       "        vertical-align: middle;\n",
       "    }\n",
       "\n",
       "    .dataframe tbody tr th {\n",
       "        vertical-align: top;\n",
       "    }\n",
       "\n",
       "    .dataframe thead th {\n",
       "        text-align: right;\n",
       "    }\n",
       "</style>\n",
       "<table border=\"1\" class=\"dataframe\">\n",
       "  <thead>\n",
       "    <tr style=\"text-align: right;\">\n",
       "      <th></th>\n",
       "      <th>Batsmen</th>\n",
       "      <th>Runs</th>\n",
       "    </tr>\n",
       "  </thead>\n",
       "  <tbody>\n",
       "    <tr>\n",
       "      <th>0</th>\n",
       "      <td>Bavuma</td>\n",
       "      <td>38</td>\n",
       "    </tr>\n",
       "    <tr>\n",
       "      <th>1</th>\n",
       "      <td>Elgar</td>\n",
       "      <td>48</td>\n",
       "    </tr>\n",
       "    <tr>\n",
       "      <th>2</th>\n",
       "      <td>Maharaj</td>\n",
       "      <td>22</td>\n",
       "    </tr>\n",
       "    <tr>\n",
       "      <th>3</th>\n",
       "      <td>Markram</td>\n",
       "      <td>0</td>\n",
       "    </tr>\n",
       "    <tr>\n",
       "      <th>4</th>\n",
       "      <td>Muthusamy</td>\n",
       "      <td>9</td>\n",
       "    </tr>\n",
       "    <tr>\n",
       "      <th>5</th>\n",
       "      <td>Philander</td>\n",
       "      <td>37</td>\n",
       "    </tr>\n",
       "    <tr>\n",
       "      <th>6</th>\n",
       "      <td>Rabada</td>\n",
       "      <td>4</td>\n",
       "    </tr>\n",
       "  </tbody>\n",
       "</table>\n",
       "</div>"
      ],
      "text/plain": [
       "      Batsmen  Runs\n",
       "0      Bavuma    38\n",
       "1       Elgar    48\n",
       "2     Maharaj    22\n",
       "3     Markram     0\n",
       "4   Muthusamy     9\n",
       "5   Philander    37\n",
       "6      Rabada     4"
      ]
     },
     "execution_count": 41,
     "metadata": {},
     "output_type": "execute_result"
    }
   ],
   "source": [
    "BatTotali = BatTotal.reset_index()\n",
    "BatTotali"
   ]
  },
  {
   "cell_type": "code",
   "execution_count": 42,
   "metadata": {},
   "outputs": [
    {
     "data": {
      "text/html": [
       "<div>\n",
       "<style scoped>\n",
       "    .dataframe tbody tr th:only-of-type {\n",
       "        vertical-align: middle;\n",
       "    }\n",
       "\n",
       "    .dataframe tbody tr th {\n",
       "        vertical-align: top;\n",
       "    }\n",
       "\n",
       "    .dataframe thead th {\n",
       "        text-align: right;\n",
       "    }\n",
       "</style>\n",
       "<table border=\"1\" class=\"dataframe\">\n",
       "  <thead>\n",
       "    <tr style=\"text-align: right;\">\n",
       "      <th></th>\n",
       "      <th>Bowler</th>\n",
       "      <th>Runs</th>\n",
       "    </tr>\n",
       "  </thead>\n",
       "  <tbody>\n",
       "    <tr>\n",
       "      <th>0</th>\n",
       "      <td>Ashwin</td>\n",
       "      <td>39</td>\n",
       "    </tr>\n",
       "    <tr>\n",
       "      <th>1</th>\n",
       "      <td>Jadeja</td>\n",
       "      <td>51</td>\n",
       "    </tr>\n",
       "    <tr>\n",
       "      <th>2</th>\n",
       "      <td>Kohli</td>\n",
       "      <td>4</td>\n",
       "    </tr>\n",
       "    <tr>\n",
       "      <th>3</th>\n",
       "      <td>Shami</td>\n",
       "      <td>32</td>\n",
       "    </tr>\n",
       "    <tr>\n",
       "      <th>4</th>\n",
       "      <td>Sharma</td>\n",
       "      <td>19</td>\n",
       "    </tr>\n",
       "    <tr>\n",
       "      <th>5</th>\n",
       "      <td>Yadav</td>\n",
       "      <td>13</td>\n",
       "    </tr>\n",
       "  </tbody>\n",
       "</table>\n",
       "</div>"
      ],
      "text/plain": [
       "   Bowler  Runs\n",
       "0  Ashwin    39\n",
       "1  Jadeja    51\n",
       "2   Kohli     4\n",
       "3   Shami    32\n",
       "4  Sharma    19\n",
       "5   Yadav    13"
      ]
     },
     "execution_count": 42,
     "metadata": {},
     "output_type": "execute_result"
    }
   ],
   "source": [
    "BowlTotali = BowlTotal.reset_index()\n",
    "BowlTotali"
   ]
  },
  {
   "cell_type": "code",
   "execution_count": 43,
   "metadata": {},
   "outputs": [
    {
     "data": {
      "text/plain": [
       "{' Bavuma': 38,\n",
       " ' Elgar': 48,\n",
       " ' Maharaj': 22,\n",
       " ' Markram': 0,\n",
       " ' Muthusamy': 9,\n",
       " ' Philander': 37,\n",
       " ' Rabada': 4}"
      ]
     },
     "execution_count": 43,
     "metadata": {},
     "output_type": "execute_result"
    }
   ],
   "source": [
    "BatDict = dict(zip(BatTotali.Batsmen,BatTotali.Runs))\n",
    "BatDict"
   ]
  },
  {
   "cell_type": "code",
   "execution_count": 44,
   "metadata": {},
   "outputs": [
    {
     "data": {
      "text/plain": [
       "{'Ashwin': 39,\n",
       " 'Jadeja': 51,\n",
       " 'Kohli': 4,\n",
       " 'Shami': 32,\n",
       " 'Sharma': 19,\n",
       " 'Yadav': 13}"
      ]
     },
     "execution_count": 44,
     "metadata": {},
     "output_type": "execute_result"
    }
   ],
   "source": [
    "BowlDict = dict(zip(BowlTotali.Bowler,BowlTotali.Runs))\n",
    "BowlDict"
   ]
  },
  {
   "cell_type": "markdown",
   "metadata": {},
   "source": [
    "## Stats: ##"
   ]
  },
  {
   "cell_type": "raw",
   "metadata": {},
   "source": [
    "\n",
    "# Python3 code to iterate through all key, value  \n",
    "# pairs in a dictionary \n",
    "  \n",
    "statesAndCapitals = { \n",
    "                     'Gujarat' : 'Gandhinagar', \n",
    "                     'Maharashtra' : 'Mumbai', \n",
    "                     'Rajasthan' : 'Jaipur', \n",
    "                     'Bihar' : 'Patna'\n",
    "                    } \n",
    "                      \n",
    "print('List Of given states and their capitals:\\n') \n",
    "  \n",
    "# Iterating over values \n",
    "for state, capital in statesAndCapitals.items(): \n",
    "    print(state, \":\", capital) \n"
   ]
  },
  {
   "cell_type": "code",
   "execution_count": 45,
   "metadata": {},
   "outputs": [
    {
     "name": "stdout",
     "output_type": "stream",
     "text": [
      "Runs scored by batsmen:\n",
      " Bavuma : 38\n",
      " Elgar : 48\n",
      " Maharaj : 22\n",
      " Markram : 0\n",
      " Muthusamy : 9\n",
      " Philander : 37\n",
      " Rabada : 4\n"
     ]
    }
   ],
   "source": [
    "print('Runs scored by batsmen:')\n",
    "for batsman, runs in BatDict.items():\n",
    "    print(batsman, ':', runs)"
   ]
  },
  {
   "cell_type": "code",
   "execution_count": 46,
   "metadata": {},
   "outputs": [
    {
     "name": "stdout",
     "output_type": "stream",
     "text": [
      "Runs conceded by bowlers:\n",
      "Ashwin : 39\n",
      "Jadeja : 51\n",
      "Kohli : 4\n",
      "Shami : 32\n",
      "Sharma : 19\n",
      "Yadav : 13\n"
     ]
    }
   ],
   "source": [
    "print('Runs conceded by bowlers:')\n",
    "for bowler, runs in BowlDict.items():\n",
    "    print(bowler, ':', runs)"
   ]
  },
  {
   "cell_type": "code",
   "execution_count": 47,
   "metadata": {},
   "outputs": [
    {
     "name": "stdout",
     "output_type": "stream",
     "text": [
      "Wickets taken by bowlers:\n",
      "Jadeja : 2\n",
      "Ashwin : 1\n",
      "Sharma : 1\n",
      "Kohli : 0\n",
      "Yadav : 2\n",
      "Shami : 1\n"
     ]
    }
   ],
   "source": [
    "print('Wickets taken by bowlers:')\n",
    "for bowler, wickets in WicketDict.items():\n",
    "    print(bowler, ':', wickets)"
   ]
  },
  {
   "cell_type": "code",
   "execution_count": null,
   "metadata": {},
   "outputs": [],
   "source": []
  }
 ],
 "metadata": {
  "kernelspec": {
   "display_name": "Python 3",
   "language": "python",
   "name": "python3"
  },
  "language_info": {
   "codemirror_mode": {
    "name": "ipython",
    "version": 3
   },
   "file_extension": ".py",
   "mimetype": "text/x-python",
   "name": "python",
   "nbconvert_exporter": "python",
   "pygments_lexer": "ipython3",
   "version": "3.7.3"
  }
 },
 "nbformat": 4,
 "nbformat_minor": 2
}
