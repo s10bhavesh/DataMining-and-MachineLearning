{
 "cells": [
  {
   "cell_type": "code",
   "execution_count": 1,
   "metadata": {},
   "outputs": [],
   "source": [
    "import re"
   ]
  },
  {
   "cell_type": "code",
   "execution_count": 2,
   "metadata": {},
   "outputs": [],
   "source": [
    "xx = \"guru99,education is fun\""
   ]
  },
  {
   "cell_type": "raw",
   "metadata": {},
   "source": [
    "    \"^\": This expression matches the start of a string\n",
    "    \"w+\": This expression matches the alphanumeric character in the string"
   ]
  },
  {
   "cell_type": "markdown",
   "metadata": {},
   "source": [
    "## Example of w+ and ^ Expression ##"
   ]
  },
  {
   "cell_type": "code",
   "execution_count": 3,
   "metadata": {},
   "outputs": [],
   "source": [
    "r1 = re.findall(r\"^\\w+\",xx)"
   ]
  },
  {
   "cell_type": "code",
   "execution_count": 5,
   "metadata": {},
   "outputs": [
    {
     "data": {
      "text/plain": [
       "['guru99']"
      ]
     },
     "execution_count": 5,
     "metadata": {},
     "output_type": "execute_result"
    }
   ],
   "source": [
    "r1"
   ]
  },
  {
   "cell_type": "raw",
   "metadata": {},
   "source": [
    "Remember, if you remove +sign from the w+, the output will change, and it will only give the first character of the first letter, i.e., [g] "
   ]
  },
  {
   "cell_type": "code",
   "execution_count": 6,
   "metadata": {},
   "outputs": [],
   "source": [
    "r2 = re.findall(r\"^\\w\",xx)"
   ]
  },
  {
   "cell_type": "code",
   "execution_count": 7,
   "metadata": {},
   "outputs": [
    {
     "data": {
      "text/plain": [
       "['g']"
      ]
     },
     "execution_count": 7,
     "metadata": {},
     "output_type": "execute_result"
    }
   ],
   "source": [
    "r2"
   ]
  },
  {
   "cell_type": "markdown",
   "metadata": {},
   "source": [
    "## Example of \\s expression in re.split function ##\n",
    "\n",
    "\n",
    "\n",
    "    \"s\": This expression is used for creating a space in the string\n",
    "\n",
    "To understand how this regular expression works in Python, we begin with a simple example of a split function. In the example, we have split each word using the \"re.split\" function and at the same time we have used expression \\s that allows to parse each word in the string separately.\n",
    "\n",
    "Python Regex Tutorial: re.match(),re.search(), re.findall(), Flags\n",
    "\n",
    "When you execute this code it will give you the output ['we', 'are', 'splitting', 'the', 'words'].\n",
    "\n",
    "Now, let see what happens if you remove \"\\\" from s. There is no 's' alphabet in the output, this is because we have removed '\\' from the string, and it evaluates \"s\" as a regular character and thus split the words wherever it finds \"s\" in the string. "
   ]
  },
  {
   "cell_type": "code",
   "execution_count": 8,
   "metadata": {},
   "outputs": [
    {
     "name": "stdout",
     "output_type": "stream",
     "text": [
      "['We', 'are', 'splitting', 'the', 'words']\n"
     ]
    }
   ],
   "source": [
    "print((re.split(r'\\s','We are splitting the words')))"
   ]
  },
  {
   "cell_type": "code",
   "execution_count": 9,
   "metadata": {},
   "outputs": [
    {
     "name": "stdout",
     "output_type": "stream",
     "text": [
      "['Let', ' ', 'plit hte word', '']\n"
     ]
    }
   ],
   "source": [
    "print((re.split(r's','Lets split hte words')))"
   ]
  },
  {
   "cell_type": "markdown",
   "metadata": {},
   "source": [
    "## Using regular expression methods ##\n",
    "\n",
    "    re.match()\n",
    "    re.search()\n",
    "    re.findall()\n",
    "\n",
    "Note: Based on the regular expressions, Python offers two different primitive operations. The match method checks for a match only at the beginning of the string while search checks for a match anywhere in the string.\n",
    "\n",
    "\n",
    "### Using re.match() ###\n",
    "\n",
    "The match function is used to match the RE pattern to string with optional flags. In this method, the expression \"w+\" and \"\\W\" will match the words starting with letter 'g' and thereafter, anything which is not started with 'g' is not identified. To check match for each element in the list or string, we run the forloop. "
   ]
  },
  {
   "cell_type": "code",
   "execution_count": 11,
   "metadata": {},
   "outputs": [
    {
     "name": "stdout",
     "output_type": "stream",
     "text": [
      "('guru99', 'get')\n",
      "('guru99', 'give')\n"
     ]
    }
   ],
   "source": [
    "list = [\"guru99 get\", \"guru99 give\", \"guru Selenium\"]\n",
    "\n",
    "for element in list:\n",
    "    z = re.match(\"(g\\w+)\\W(g\\w+)\", element)\n",
    "    \n",
    "    if z:\n",
    "        print((z.groups()))"
   ]
  },
  {
   "cell_type": "code",
   "execution_count": 17,
   "metadata": {},
   "outputs": [
    {
     "name": "stdout",
     "output_type": "stream",
     "text": [
      "('guru99', 'ge')\n",
      "('guru99', 'gi')\n"
     ]
    }
   ],
   "source": [
    "list2 = [\"guru99 get\", \"guru99 give\", \"guru Selenium\"]\n",
    "\n",
    "for element in list2:\n",
    "    z1 = re.match(\"(g\\w+)\\W(g\\w)\", element)\n",
    "    \n",
    "    if z1:\n",
    "        print((z1.groups()))"
   ]
  },
  {
   "cell_type": "markdown",
   "metadata": {},
   "source": [
    "### Finding Pattern in Text (re.search()) ###\n",
    "\n",
    "A regular expression is commonly used to search for a pattern in a text. This method takes a regular expression pattern and a string and searches for that pattern with the string.\n",
    "\n",
    "In order to use search() function, you need to import re first and then execute the code. The search() function takes the \"pattern\" and \"text\" to scan from our main string and returns a match object when the pattern is found or else not match if the pattern is not found. "
   ]
  },
  {
   "cell_type": "markdown",
   "metadata": {},
   "source": [
    "### Using re.findall for text ###\n",
    "\n",
    "Re.findall() module is used when you want to iterate over the lines of the file, it will return a list of all the matches in a single step. For example, here we have a list of e-mail addresses, and we want all the e-mail addresses to be fetched out from the list, we use the re.findall method. It will find all the e-mail addresses from the list. "
   ]
  },
  {
   "cell_type": "code",
   "execution_count": 29,
   "metadata": {},
   "outputs": [
    {
     "name": "stdout",
     "output_type": "stream",
     "text": [
      "Looking for 'software testing' in 'software testing ==== is fun?' -> found a match!\n",
      "Looking for 'guru99' in 'software testing ==== is fun?' -> No match found\n",
      "guru99@google.com\n",
      "careerguru99@hotmail.com\n",
      "users@yahoomail.com\n"
     ]
    }
   ],
   "source": [
    "patterns = ['software testing', 'guru99']\n",
    "text = 'software testing ==== is fun?'\n",
    "\n",
    "for pat in patterns:\n",
    "    print(\"Looking for \\'%s\\' in \\'%s\\' ->\" % (pat,text), end=' ')\n",
    "    if re.search(pat,text):\n",
    "        print('found a match!')\n",
    "    else:\n",
    "        print('No match found')\n",
    "        \n",
    "abc = 'guru99@google.com, careerguru99@hotmail.com, users@yahoomail.com'\n",
    "\n",
    "emails = re.findall(r'[\\w\\.-]+@[\\w\\.-]+', abc)\n",
    "\n",
    "for email in emails:\n",
    "    print(email)"
   ]
  },
  {
   "cell_type": "code",
   "execution_count": null,
   "metadata": {},
   "outputs": [],
   "source": []
  }
 ],
 "metadata": {
  "kernelspec": {
   "display_name": "Python 3",
   "language": "python",
   "name": "python3"
  },
  "language_info": {
   "codemirror_mode": {
    "name": "ipython",
    "version": 3
   },
   "file_extension": ".py",
   "mimetype": "text/x-python",
   "name": "python",
   "nbconvert_exporter": "python",
   "pygments_lexer": "ipython3",
   "version": "3.7.3"
  }
 },
 "nbformat": 4,
 "nbformat_minor": 2
}
