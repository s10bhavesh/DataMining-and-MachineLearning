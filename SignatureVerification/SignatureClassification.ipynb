{
 "cells": [
  {
   "cell_type": "code",
   "execution_count": 104,
   "metadata": {},
   "outputs": [],
   "source": [
    "import pandas as pd\n",
    "import numpy as np\n",
    "import matplotlib.pyplot as plt\n",
    "from scipy import stats\n",
    "import dtw\n"
   ]
  },
  {
   "cell_type": "code",
   "execution_count": 105,
   "metadata": {},
   "outputs": [
    {
     "name": "stdout",
     "output_type": "stream",
     "text": [
      "Pls enter the username:1\n"
     ]
    }
   ],
   "source": [
    "userId = input(\"Pls enter the username:\")\n",
    "\n",
    "colnames = ['X','Y','Time','ButnSts','Azimuth','Altitude','Pressure']\n",
    "\n",
    "for i in range(1,6):\n",
    "    globals()['SignDf%s' %i] = pd.read_csv(f'/home/bhavesh/DMML/Task2/U{userId}S{i}.TXT', names=colnames, delim_whitespace = True, skiprows=1, usecols=['X','Y'])\n",
    "   \n",
    "\n",
    "for j in range(21,26):\n",
    "    globals()['SignDf%s' %j] = pd.read_csv(f'/home/bhavesh/DMML/Task2/U{userId}S{i}.TXT', names=colnames, delim_whitespace = True, skiprows=1, usecols=['X','Y'])\n",
    "  "
   ]
  },
  {
   "cell_type": "code",
   "execution_count": 106,
   "metadata": {},
   "outputs": [],
   "source": [
    "for i in range(1,6):\n",
    "    globals()['NormGen%s' %i] = stats.zscore(eval('SignDf'+str(i)))\n",
    "    globals()['DelGen%s' %i] = np.diff(eval('NormGen'+str(i)), n=1)\n",
    "    \n",
    "for j in range(21,26):\n",
    "    globals()['NormForg%s' %j] = stats.zscore(eval('SignDf'+str(j)))\n",
    "    globals()['DelForg%s' %j] = np.diff(eval('NormForg'+str(j)), n=1)"
   ]
  },
  {
   "cell_type": "code",
   "execution_count": 107,
   "metadata": {},
   "outputs": [
    {
     "data": {
      "text/plain": [
       "array([-1.28533922, -1.31179021, -1.36998238, -1.37829555, -1.32992803,\n",
       "       -1.24452913, -1.1213431 , -0.94298787, -0.72760125, -0.52052781,\n",
       "       -0.35728743, -0.22427675, -0.94827807, -1.05408202, -1.07524281,\n",
       "       -1.10622825, -1.07751003, -0.94978955, -0.75707521, -0.57569701,\n",
       "       -0.44193059, -0.34066109, -0.70568472, -0.72608977, -0.76841135,\n",
       "       -0.79410659, -0.8084657 , -0.82660352, -0.8439856 , -0.8636349 ,\n",
       "       -0.87572678, -0.88252847, -0.89839906, -0.93694193, -1.14174815,\n",
       "       -1.30045407, -1.36998238, -1.3987006 , -1.4039908 , -1.37753981,\n",
       "       -1.24906358, -1.05257053, -0.8137559 , -0.61046117, -0.43135019,\n",
       "        0.49065566,  0.60477278,  0.557161  ,  0.52919853,  0.51332794,\n",
       "        0.51332794,  0.50879348,  0.50879348,  0.50879348,  0.50879348,\n",
       "        0.51483942,  0.51483942,  0.40147805,  0.67581258,  0.82847256,\n",
       "        0.95997176,  1.13757125,  1.24488668,  1.30610183,  1.36580548,\n",
       "        1.3945237 ,  1.40283687,  1.40283687,  1.40283687,  1.40737132,\n",
       "        1.41568449,  1.41568449,  1.40283687,  1.37336291,  1.2985444 ,\n",
       "        0.1339452 , -0.00964587, -0.04894448, -0.08446438,  0.02965274,\n",
       "        0.28584944,  0.63651397,  1.01060651,  1.32801836,  1.60839883,\n",
       "        1.73007337,  1.77617366,  1.18367154,  1.05066086,  0.92671909,\n",
       "        0.86399246,  0.84283167,  0.84661038])"
      ]
     },
     "execution_count": 107,
     "metadata": {},
     "output_type": "execute_result"
    }
   ],
   "source": [
    "NormForg21[:,0]"
   ]
  },
  {
   "cell_type": "code",
   "execution_count": 108,
   "metadata": {},
   "outputs": [
    {
     "name": "stdout",
     "output_type": "stream",
     "text": [
      "93\n",
      "(93, 2)\n"
     ]
    }
   ],
   "source": [
    "print(np.size(DelForg21))\n",
    "print(np.shape(NormForg21))"
   ]
  },
  {
   "cell_type": "code",
   "execution_count": 109,
   "metadata": {},
   "outputs": [],
   "source": [
    "import math\n",
    "#euclidean_norm = lambda x, y: np.abs(x - y)\n",
    "#euclidean_norm = lambda S1,S2: math.sqrt((S1[0]-S2[0])**2 + (S1[1]-S2[1])**2 + (S1[2]-S2[2])**2) \n",
    "euclidean_norm = lambda x, y: math.sqrt(x**2 - y**2)"
   ]
  },
  {
   "cell_type": "code",
   "execution_count": 110,
   "metadata": {},
   "outputs": [
    {
     "ename": "ValueError",
     "evalue": "math domain error",
     "output_type": "error",
     "traceback": [
      "\u001b[0;31m---------------------------------------------------------------------------\u001b[0m",
      "\u001b[0;31mValueError\u001b[0m                                Traceback (most recent call last)",
      "\u001b[0;32m<ipython-input-110-7624a794cc11>\u001b[0m in \u001b[0;36m<module>\u001b[0;34m\u001b[0m\n\u001b[1;32m      2\u001b[0m \u001b[0;32mfor\u001b[0m \u001b[0mi\u001b[0m \u001b[0;32min\u001b[0m \u001b[0mrange\u001b[0m\u001b[0;34m(\u001b[0m\u001b[0;36m1\u001b[0m\u001b[0;34m,\u001b[0m\u001b[0;36m6\u001b[0m\u001b[0;34m)\u001b[0m\u001b[0;34m:\u001b[0m\u001b[0;34m\u001b[0m\u001b[0;34m\u001b[0m\u001b[0m\n\u001b[1;32m      3\u001b[0m \u001b[0;34m\u001b[0m\u001b[0m\n\u001b[0;32m----> 4\u001b[0;31m     \u001b[0mdGen\u001b[0m\u001b[0;34m,\u001b[0m \u001b[0mcost_matrix\u001b[0m\u001b[0;34m,\u001b[0m \u001b[0macc_cost_matrix\u001b[0m\u001b[0;34m,\u001b[0m \u001b[0mpath\u001b[0m \u001b[0;34m=\u001b[0m \u001b[0mdtw\u001b[0m\u001b[0;34m.\u001b[0m\u001b[0mdtw\u001b[0m\u001b[0;34m(\u001b[0m\u001b[0meval\u001b[0m\u001b[0;34m(\u001b[0m\u001b[0;34m'NormGen'\u001b[0m\u001b[0;34m+\u001b[0m\u001b[0mstr\u001b[0m\u001b[0;34m(\u001b[0m\u001b[0mi\u001b[0m\u001b[0;34m)\u001b[0m\u001b[0;34m)\u001b[0m\u001b[0;34m[\u001b[0m\u001b[0;34m:\u001b[0m\u001b[0;34m,\u001b[0m\u001b[0;36m0\u001b[0m\u001b[0;34m]\u001b[0m\u001b[0;34m,\u001b[0m \u001b[0meval\u001b[0m\u001b[0;34m(\u001b[0m\u001b[0;34m'NormGen'\u001b[0m\u001b[0;34m+\u001b[0m\u001b[0mstr\u001b[0m\u001b[0;34m(\u001b[0m\u001b[0mi\u001b[0m\u001b[0;34m)\u001b[0m\u001b[0;34m)\u001b[0m\u001b[0;34m[\u001b[0m\u001b[0;34m:\u001b[0m\u001b[0;34m,\u001b[0m\u001b[0;36m1\u001b[0m\u001b[0;34m]\u001b[0m\u001b[0;34m,\u001b[0m \u001b[0mdist\u001b[0m\u001b[0;34m=\u001b[0m\u001b[0meuclidean_norm\u001b[0m\u001b[0;34m)\u001b[0m\u001b[0;34m\u001b[0m\u001b[0;34m\u001b[0m\u001b[0m\n\u001b[0m\u001b[1;32m      5\u001b[0m     \u001b[0mGenDist\u001b[0m \u001b[0;34m=\u001b[0m \u001b[0mGenDist\u001b[0m \u001b[0;34m+\u001b[0m \u001b[0mdGen\u001b[0m\u001b[0;34m\u001b[0m\u001b[0;34m\u001b[0m\u001b[0m\n\u001b[1;32m      6\u001b[0m \u001b[0mAvgDistGen\u001b[0m \u001b[0;34m=\u001b[0m \u001b[0mGenDist\u001b[0m\u001b[0;34m/\u001b[0m\u001b[0;36m5\u001b[0m\u001b[0;34m\u001b[0m\u001b[0;34m\u001b[0m\u001b[0m\n",
      "\u001b[0;32m~/anaconda3/lib/python3.7/site-packages/dtw/dtw.py\u001b[0m in \u001b[0;36mdtw\u001b[0;34m(x, y, dist, warp, w, s)\u001b[0m\n\u001b[1;32m     34\u001b[0m         \u001b[0;32mfor\u001b[0m \u001b[0mj\u001b[0m \u001b[0;32min\u001b[0m \u001b[0mrange\u001b[0m\u001b[0;34m(\u001b[0m\u001b[0mc\u001b[0m\u001b[0;34m)\u001b[0m\u001b[0;34m:\u001b[0m\u001b[0;34m\u001b[0m\u001b[0;34m\u001b[0m\u001b[0m\n\u001b[1;32m     35\u001b[0m             \u001b[0;32mif\u001b[0m \u001b[0;34m(\u001b[0m\u001b[0misinf\u001b[0m\u001b[0;34m(\u001b[0m\u001b[0mw\u001b[0m\u001b[0;34m)\u001b[0m \u001b[0;32mor\u001b[0m \u001b[0;34m(\u001b[0m\u001b[0mmax\u001b[0m\u001b[0;34m(\u001b[0m\u001b[0;36m0\u001b[0m\u001b[0;34m,\u001b[0m \u001b[0mi\u001b[0m \u001b[0;34m-\u001b[0m \u001b[0mw\u001b[0m\u001b[0;34m)\u001b[0m \u001b[0;34m<=\u001b[0m \u001b[0mj\u001b[0m \u001b[0;34m<=\u001b[0m \u001b[0mmin\u001b[0m\u001b[0;34m(\u001b[0m\u001b[0mc\u001b[0m\u001b[0;34m,\u001b[0m \u001b[0mi\u001b[0m \u001b[0;34m+\u001b[0m \u001b[0mw\u001b[0m\u001b[0;34m)\u001b[0m\u001b[0;34m)\u001b[0m\u001b[0;34m)\u001b[0m\u001b[0;34m:\u001b[0m\u001b[0;34m\u001b[0m\u001b[0;34m\u001b[0m\u001b[0m\n\u001b[0;32m---> 36\u001b[0;31m                 \u001b[0mD1\u001b[0m\u001b[0;34m[\u001b[0m\u001b[0mi\u001b[0m\u001b[0;34m,\u001b[0m \u001b[0mj\u001b[0m\u001b[0;34m]\u001b[0m \u001b[0;34m=\u001b[0m \u001b[0mdist\u001b[0m\u001b[0;34m(\u001b[0m\u001b[0mx\u001b[0m\u001b[0;34m[\u001b[0m\u001b[0mi\u001b[0m\u001b[0;34m]\u001b[0m\u001b[0;34m,\u001b[0m \u001b[0my\u001b[0m\u001b[0;34m[\u001b[0m\u001b[0mj\u001b[0m\u001b[0;34m]\u001b[0m\u001b[0;34m)\u001b[0m\u001b[0;34m\u001b[0m\u001b[0;34m\u001b[0m\u001b[0m\n\u001b[0m\u001b[1;32m     37\u001b[0m     \u001b[0mC\u001b[0m \u001b[0;34m=\u001b[0m \u001b[0mD1\u001b[0m\u001b[0;34m.\u001b[0m\u001b[0mcopy\u001b[0m\u001b[0;34m(\u001b[0m\u001b[0;34m)\u001b[0m\u001b[0;34m\u001b[0m\u001b[0;34m\u001b[0m\u001b[0m\n\u001b[1;32m     38\u001b[0m     \u001b[0mjrange\u001b[0m \u001b[0;34m=\u001b[0m \u001b[0mrange\u001b[0m\u001b[0;34m(\u001b[0m\u001b[0mc\u001b[0m\u001b[0;34m)\u001b[0m\u001b[0;34m\u001b[0m\u001b[0;34m\u001b[0m\u001b[0m\n",
      "\u001b[0;32m<ipython-input-109-6f68cea1d58e>\u001b[0m in \u001b[0;36m<lambda>\u001b[0;34m(x, y)\u001b[0m\n\u001b[1;32m      2\u001b[0m \u001b[0;31m#euclidean_norm = lambda x, y: np.abs(x - y)\u001b[0m\u001b[0;34m\u001b[0m\u001b[0;34m\u001b[0m\u001b[0;34m\u001b[0m\u001b[0m\n\u001b[1;32m      3\u001b[0m \u001b[0;31m#euclidean_norm = lambda S1,S2: math.sqrt((S1[0]-S2[0])**2 + (S1[1]-S2[1])**2 + (S1[2]-S2[2])**2)\u001b[0m\u001b[0;34m\u001b[0m\u001b[0;34m\u001b[0m\u001b[0;34m\u001b[0m\u001b[0m\n\u001b[0;32m----> 4\u001b[0;31m \u001b[0meuclidean_norm\u001b[0m \u001b[0;34m=\u001b[0m \u001b[0;32mlambda\u001b[0m \u001b[0mx\u001b[0m\u001b[0;34m,\u001b[0m \u001b[0my\u001b[0m\u001b[0;34m:\u001b[0m \u001b[0mmath\u001b[0m\u001b[0;34m.\u001b[0m\u001b[0msqrt\u001b[0m\u001b[0;34m(\u001b[0m\u001b[0mx\u001b[0m\u001b[0;34m**\u001b[0m\u001b[0;36m2\u001b[0m \u001b[0;34m-\u001b[0m \u001b[0my\u001b[0m\u001b[0;34m**\u001b[0m\u001b[0;36m2\u001b[0m\u001b[0;34m)\u001b[0m\u001b[0;34m\u001b[0m\u001b[0;34m\u001b[0m\u001b[0m\n\u001b[0m",
      "\u001b[0;31mValueError\u001b[0m: math domain error"
     ]
    }
   ],
   "source": [
    "GenDist = 0\n",
    "for i in range(1,6):\n",
    "    \n",
    "    dGen, cost_matrix, acc_cost_matrix, path = dtw.dtw(eval('NormGen'+str(i))[:,0], eval('NormGen'+str(i))[:,1], dist=euclidean_norm)\n",
    "    GenDist = GenDist + dGen\n",
    "AvgDistGen = GenDist/5\n",
    "\n",
    "ForgDist = 0\n",
    "for j in range(21,26):\n",
    "    dForg, cost_matrix, acc_cost_matrix, path = dtw.dtw(eval('NormForg'+str(j))[:,0], eval('NormForg'+str(j))[:,1], dist=euclidean_norm)\n",
    "    ForgDist = ForgDist + dForg\n",
    "AvgDistForg = ForgDist/5"
   ]
  },
  {
   "cell_type": "code",
   "execution_count": 111,
   "metadata": {},
   "outputs": [
    {
     "data": {
      "text/plain": [
       "0.4112452394685631"
      ]
     },
     "execution_count": 111,
     "metadata": {},
     "output_type": "execute_result"
    }
   ],
   "source": [
    "AvgDistGen"
   ]
  },
  {
   "cell_type": "code",
   "execution_count": 88,
   "metadata": {},
   "outputs": [
    {
     "data": {
      "text/plain": [
       "0.3571162267556738"
      ]
     },
     "execution_count": 88,
     "metadata": {},
     "output_type": "execute_result"
    }
   ],
   "source": [
    "AvgDistForg"
   ]
  },
  {
   "cell_type": "code",
   "execution_count": 98,
   "metadata": {},
   "outputs": [
    {
     "ename": "SyntaxError",
     "evalue": "invalid syntax (<ipython-input-98-e4e81a83c094>, line 1)",
     "output_type": "error",
     "traceback": [
      "\u001b[0;36m  File \u001b[0;32m\"<ipython-input-98-e4e81a83c094>\"\u001b[0;36m, line \u001b[0;32m1\u001b[0m\n\u001b[0;31m    CheckDf[:,0]-eval('DelGen'+str(i))[:,0])**2\u001b[0m\n\u001b[0m                                           ^\u001b[0m\n\u001b[0;31mSyntaxError\u001b[0m\u001b[0;31m:\u001b[0m invalid syntax\n"
     ]
    }
   ],
   "source": [
    "CheckDf[:,0]-eval('DelGen'+str(i))[:,0])**2"
   ]
  },
  {
   "cell_type": "code",
   "execution_count": 99,
   "metadata": {},
   "outputs": [
    {
     "data": {
      "text/plain": [
       "4"
      ]
     },
     "execution_count": 99,
     "metadata": {},
     "output_type": "execute_result"
    }
   ],
   "source": [
    "2**2"
   ]
  },
  {
   "cell_type": "code",
   "execution_count": null,
   "metadata": {},
   "outputs": [],
   "source": []
  }
 ],
 "metadata": {
  "kernelspec": {
   "display_name": "Python 3",
   "language": "python",
   "name": "python3"
  },
  "language_info": {
   "codemirror_mode": {
    "name": "ipython",
    "version": 3
   },
   "file_extension": ".py",
   "mimetype": "text/x-python",
   "name": "python",
   "nbconvert_exporter": "python",
   "pygments_lexer": "ipython3",
   "version": "3.7.3"
  }
 },
 "nbformat": 4,
 "nbformat_minor": 2
}
