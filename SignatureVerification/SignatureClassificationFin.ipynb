{
 "cells": [
  {
   "cell_type": "code",
   "execution_count": 1,
   "metadata": {},
   "outputs": [],
   "source": [
    "import pandas as pd\n",
    "import numpy as np\n",
    "import matplotlib.pyplot as plt\n",
    "from scipy import stats\n",
    "import dtw\n",
    "import math"
   ]
  },
  {
   "cell_type": "code",
   "execution_count": 2,
   "metadata": {},
   "outputs": [],
   "source": [
    "#euclidean_norm = lambda S1,S2: math.sqrt((S1[0]-S2[0])**2 + (S1[1]-S2[1])**2 + (S1[2]-S2[2])**2) \n",
    "#euclidean_norm = lambda x, y: np.abs(x - y)\n",
    "#euclidean_norm = lambda x, y: math.sqrt((x[:,0] - y[:,0])**2 +(x[:,1]-y[:,1])**2)"
   ]
  },
  {
   "cell_type": "code",
   "execution_count": 3,
   "metadata": {},
   "outputs": [
    {
     "ename": "SyntaxError",
     "evalue": "invalid syntax (<ipython-input-3-de6483e694db>, line 13)",
     "output_type": "error",
     "traceback": [
      "\u001b[0;36m  File \u001b[0;32m\"<ipython-input-3-de6483e694db>\"\u001b[0;36m, line \u001b[0;32m13\u001b[0m\n\u001b[0;31m    euclidean_norm = lambda CheckDf,eval('DelGen'+str(i)): math.sqrt((CheckDf[:,0]-eval('DelGen'+str(i))[:,0])**2 + (CheckDf[:,1]-eval('DelGen'+str(i))[:,1])**2)\u001b[0m\n\u001b[0m                                        ^\u001b[0m\n\u001b[0;31mSyntaxError\u001b[0m\u001b[0;31m:\u001b[0m invalid syntax\n"
     ]
    }
   ],
   "source": [
    "def Verification(user,sign):\n",
    "    \n",
    "    colnames = ['X','Y','Time','ButnSts','Azimuth','Altitude','Pressure']\n",
    "    \n",
    "    CheckDf = pd.read_csv(f'/home/bhavesh/DMML/Task2/U{user}S{sign}.TXT', names=colnames, delim_whitespace = True, skiprows=1, usecols=['X','Y'])\n",
    "    GenDist = 0\n",
    "    ForgDist = 0\n",
    "    \n",
    "    for i in range(1,6):\n",
    "        globals()['SignDf%s' %i] = pd.read_csv(f'/home/bhavesh/DMML/Task2/U{user}S{i}.TXT', names=colnames, delim_whitespace = True, skiprows=1, usecols=['X','Y'])\n",
    "        globals()['NormGen%s' %i] = stats.zscore(eval('SignDf'+str(i)))\n",
    "        globals()['DelGen%s' %i] = np.diff(eval('NormGen'+str(i)), n=1)\n",
    "        #euclidean_norm = lambda CheckDf,eval('DelGen'+str(i)): math.sqrt((CheckDf[:,0]-eval('DelGen'+str(i))[:,0])**2 + (CheckDf[:,1]-eval('DelGen'+str(i))[:,1])**2)\n",
    "        dGen, cost_matrix, acc_cost_matrix, path = dtw.dtw(eval('NormGen'+str(i))[:,0], eval('NormGen'+str(i))[:,1], dist=euclidean_norm)\n",
    "        GenDist = GenDist + dGen\n",
    "    AvgDistGen = GenDist/5   \n",
    "\n",
    "\n",
    "    for j in range(21,26):\n",
    "        globals()['SignDf%s' %j] = pd.read_csv(f'/home/bhavesh/DMML/Task2/U{user}S{j}.TXT', names=colnames, delim_whitespace = True, skiprows=1, usecols=['X','Y'])\n",
    "        globals()['NormForg%s' %j] = stats.zscore(eval('SignDf'+str(j)))\n",
    "        globals()['DelForg%s' %j] = np.diff(eval('NormForg'+str(j)), n=1)\n",
    "        #euclidean_norm = lambda CheckDf,eval('DelForg'+str(j)): math.sqrt((CheckDf[:,0]-eval('DelForg'+str(j))[:,0])**2 + (CheckDf[:,1]-eval('DelForg'+str(j))[:,1])**2)\n",
    "        dForg, cost_matrix, acc_cost_matrix, path = dtw.dtw(eval('NormForg'+str(j))[:,0], eval('NormForg'+str(j))[:,1], dist=euclidean_norm)\n",
    "        ForgDist = ForgDist + dForg\n",
    "    AvgDistForg = ForgDist/5\n",
    "\n",
    "    print(\"\\nGenuine Distance : \",GenDist)\n",
    "    print(\"\\nForgery Distance : \",ForgDist)\n",
    "    \n",
    "    if((AvgDistGen -  AvgDistForg) < 0):\n",
    "        return 0\n",
    "    else:\n",
    "        return 1\n",
    "      "
   ]
  },
  {
   "cell_type": "code",
   "execution_count": null,
   "metadata": {},
   "outputs": [],
   "source": [
    "Correct = 0\n",
    "Incorrect = 0\n",
    "\n",
    "for usr in range(1,41):\n",
    "    for sign in range(1,41):\n",
    "        if((sign>=1 and sign<=21) and Verification(usr,sign)==0):\n",
    "            Correct = Correct + 1\n",
    "            print(\"Correct = \",Correct)\n",
    "        elif((sign>=21 and sign<=41) and Verification(usr,sign)==1):\n",
    "            Correct = Correct + 1\n",
    "            print(\"Correct = \",Correct)\n",
    "        else:\n",
    "            Incorrect=Incorrect+1\n",
    "            print(\"Incorrect = \",Incorrect)\n",
    "        "
   ]
  },
  {
   "cell_type": "code",
   "execution_count": null,
   "metadata": {},
   "outputs": [],
   "source": [
    "Accuracy = Correct/1600 * 100\n",
    "print(Accuracy)"
   ]
  },
  {
   "cell_type": "code",
   "execution_count": null,
   "metadata": {},
   "outputs": [],
   "source": [
    "    colnames = ['X','Y','Time','ButnSts','Azimuth','Altitude','Pressure']\n",
    "\n",
    "CheckDf = pd.read_csv(f'/home/bhavesh/DMML/Task2/U1S1.TXT', names=colnames, delim_whitespace = True, skiprows=1, usecols=['X','Y'])\n"
   ]
  },
  {
   "cell_type": "code",
   "execution_count": null,
   "metadata": {},
   "outputs": [],
   "source": []
  }
 ],
 "metadata": {
  "kernelspec": {
   "display_name": "Python 3",
   "language": "python",
   "name": "python3"
  },
  "language_info": {
   "codemirror_mode": {
    "name": "ipython",
    "version": 3
   },
   "file_extension": ".py",
   "mimetype": "text/x-python",
   "name": "python",
   "nbconvert_exporter": "python",
   "pygments_lexer": "ipython3",
   "version": "3.7.3"
  }
 },
 "nbformat": 4,
 "nbformat_minor": 2
}
