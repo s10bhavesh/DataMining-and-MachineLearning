{
 "cells": [
  {
   "cell_type": "code",
   "execution_count": 3,
   "metadata": {},
   "outputs": [
    {
     "name": "stdout",
     "output_type": "stream",
     "text": [
      "Enter user name to test : U1S1\n",
      "0.06244037490734598\n",
      "U1S1 is forged signature.\n"
     ]
    }
   ],
   "source": [
    "import math\n",
    "import numpy as np\n",
    "import matplotlib.pyplot as plt \n",
    "import dtw as dtw\n",
    "\n",
    "def z_score(x=[],y=[]):\n",
    "    x_mean = np.mean(x)\n",
    "    y_mean = np.mean(y)\n",
    "    x_std = []\n",
    "    y_std = []\n",
    "    x_norm = []\n",
    "    y_norm = []\n",
    "    sumX=0\n",
    "    sumY=0\n",
    "    \n",
    "    for i in x:\n",
    "        sumX = sumX + ((i-x_mean)**2)\n",
    "        \n",
    "    x_std = math.sqrt((sumX)/len(x))\n",
    "        \n",
    "    for j in y:\n",
    "        sumY = sumY + ((j-y_mean)**2)\n",
    "        \n",
    "    y_std = math.sqrt((sumX)/len(y))\n",
    "    \n",
    "\n",
    "    for i in x:\n",
    "        x_norm.append((i-x_mean)/x_std)\n",
    "        \n",
    "    for j in y:\n",
    "        y_norm.append((j-y_mean)/y_std)\n",
    "        \n",
    "    return x_norm, y_norm\n",
    "\n",
    "def return_array(data):\n",
    "        plotX = []\n",
    "        plotY = []\n",
    "        for t in data:\n",
    "            #print(t.split(' '))\n",
    "            num = t.split(' ')\n",
    "            plotX.append(int(num[0]))\n",
    "            plotY.append(int(num[1]))\n",
    "        normX, normY = z_score(plotX, plotY)\n",
    "        npX = np.array(normX)\n",
    "        npY = np.array(normY)\n",
    "        return np.vstack((npX,npY)).T\n",
    "           \n",
    "username = input(\"Enter user name to test : \")\n",
    "username.upper()\n",
    "#username = \"U1S1\"\n",
    "signatureDB = open(f\"/home/cp/Documents/DMML/Task2/{username}.TXT\",\"r\")\n",
    "count = signatureDB.readline()\n",
    "content = signatureDB.readlines()\n",
    "S1 =  return_array(content)\n",
    "\n",
    "distGen = 0\n",
    "distFake = 0\n",
    "for i in range(1,6):\n",
    "    username2 = f\"U1S{i}\"\n",
    "    signatureDB2 = open(f\"/home/cp/Documents/DMML/Task2/{username2}.TXT\",\"r\")\n",
    "    count = signatureDB2.readline()\n",
    "    content2 = signatureDB2.readlines()\n",
    "    S2 =  return_array(content2)  \n",
    "    euclidean_norm = lambda S1,S2: math.sqrt((S1[0]-S2[0])**2 + (S1[1]-S2[1])**2) \n",
    "    a,b,c,d = dtw.dtw(S1,S2,dist=euclidean_norm)\n",
    "    distGen = distGen + a\n",
    "    signatureDB2.close()\n",
    "\n",
    "avgDistGen = distGen / 5\n",
    "\n",
    "for i in range(21,26):\n",
    "    username2 = f\"U1S{i}\"\n",
    "    signatureDB2 = open(f\"/home/cp/Documents/DMML/Task2/{username2}.TXT\",\"r\")\n",
    "    count = signatureDB2.readline()\n",
    "    content3 = signatureDB2.readlines()\n",
    "    S3 =  return_array(content3)  \n",
    "    euclidean_norm = lambda S1,S3: math.sqrt((S1[0]-S3[0])**2 + (S1[1]-S3[1])**2) \n",
    "    a1,b,c,d = dtw.dtw(S1,S2,dist=euclidean_norm)\n",
    "    distFake = distFake + a1\n",
    "    signatureDB2.close()\n",
    "\n",
    "avgDistFake = distFake / 5\n",
    "\n",
    "print(avgDistFake -  avgDistGen)\n",
    "\n",
    "if((avgDistFake -  avgDistGen) < 0):\n",
    "    print(f\"{username} is genuine signature.\")\n",
    "else:\n",
    "    print(f\"{username} is forged signature.\")\n",
    "    \n",
    "\n",
    "  \n",
    "\n",
    "\n",
    "\n",
    "\n"
   ]
  },
  {
   "cell_type": "code",
   "execution_count": 7,
   "metadata": {},
   "outputs": [
    {
     "ename": "NameError",
     "evalue": "name 'home' is not defined",
     "output_type": "error",
     "traceback": [
      "\u001b[0;31m---------------------------------------------------------------------------\u001b[0m",
      "\u001b[0;31mNameError\u001b[0m                                 Traceback (most recent call last)",
      "\u001b[0;32m<ipython-input-7-b3e5d524ee5b>\u001b[0m in \u001b[0;36m<module>\u001b[0;34m\u001b[0m\n\u001b[0;32m----> 1\u001b[0;31m \u001b[0mhome\u001b[0m\u001b[0;34m/\u001b[0m\u001b[0mcp\u001b[0m\u001b[0;34m/\u001b[0m\u001b[0mDocuments\u001b[0m\u001b[0;34m/\u001b[0m\u001b[0mDMML\u001b[0m\u001b[0;34m/\u001b[0m\u001b[0mTask2\u001b[0m\u001b[0;34m(\u001b[0m\u001b[0;34m)\u001b[0m\u001b[0;34m\u001b[0m\u001b[0;34m\u001b[0m\u001b[0m\n\u001b[0m",
      "\u001b[0;31mNameError\u001b[0m: name 'home' is not defined"
     ]
    }
   ],
   "source": []
  },
  {
   "cell_type": "code",
   "execution_count": null,
   "metadata": {},
   "outputs": [],
   "source": []
  },
  {
   "cell_type": "code",
   "execution_count": null,
   "metadata": {},
   "outputs": [],
   "source": []
  },
  {
   "cell_type": "code",
   "execution_count": null,
   "metadata": {},
   "outputs": [],
   "source": []
  }
 ],
 "metadata": {
  "kernelspec": {
   "display_name": "Python 3",
   "language": "python",
   "name": "python3"
  },
  "language_info": {
   "codemirror_mode": {
    "name": "ipython",
    "version": 3
   },
   "file_extension": ".py",
   "mimetype": "text/x-python",
   "name": "python",
   "nbconvert_exporter": "python",
   "pygments_lexer": "ipython3",
   "version": "3.7.3"
  }
 },
 "nbformat": 4,
 "nbformat_minor": 2
}
