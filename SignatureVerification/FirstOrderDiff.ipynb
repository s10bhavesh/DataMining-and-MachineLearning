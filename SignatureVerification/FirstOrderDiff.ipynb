{
 "cells": [
  {
   "cell_type": "code",
   "execution_count": 7,
   "metadata": {},
   "outputs": [],
   "source": [
    "import numpy as np\n",
    "import pandas as pd\n",
    "import matplotlib.pyplot as plt\n",
    "\n",
    "colname = ['X-coordinate', 'Y-coordinate', 'Time stamp', 'Button status', 'Azimuth', 'Altitude', 'Pressure']\n",
    "signDF = pd.read_csv(\"/home/cp/Documents/DMML/Task2/U1S1.TXT\", delimiter = ' ', skiprows = [0])\n",
    "signDF.columns = colname"
   ]
  },
  {
   "cell_type": "code",
   "execution_count": 8,
   "metadata": {},
   "outputs": [
    {
     "data": {
      "text/html": [
       "<div>\n",
       "<style scoped>\n",
       "    .dataframe tbody tr th:only-of-type {\n",
       "        vertical-align: middle;\n",
       "    }\n",
       "\n",
       "    .dataframe tbody tr th {\n",
       "        vertical-align: top;\n",
       "    }\n",
       "\n",
       "    .dataframe thead th {\n",
       "        text-align: right;\n",
       "    }\n",
       "</style>\n",
       "<table border=\"1\" class=\"dataframe\">\n",
       "  <thead>\n",
       "    <tr style=\"text-align: right;\">\n",
       "      <th></th>\n",
       "      <th>X-coordinate</th>\n",
       "      <th>Y-coordinate</th>\n",
       "      <th>Time stamp</th>\n",
       "      <th>Button status</th>\n",
       "      <th>Azimuth</th>\n",
       "      <th>Altitude</th>\n",
       "      <th>Pressure</th>\n",
       "    </tr>\n",
       "  </thead>\n",
       "  <tbody>\n",
       "    <tr>\n",
       "      <th>0</th>\n",
       "      <td>2933</td>\n",
       "      <td>5678</td>\n",
       "      <td>31275785</td>\n",
       "      <td>1</td>\n",
       "      <td>1480</td>\n",
       "      <td>770</td>\n",
       "      <td>420</td>\n",
       "    </tr>\n",
       "    <tr>\n",
       "      <th>1</th>\n",
       "      <td>3001</td>\n",
       "      <td>5851</td>\n",
       "      <td>31275795</td>\n",
       "      <td>1</td>\n",
       "      <td>1350</td>\n",
       "      <td>830</td>\n",
       "      <td>433</td>\n",
       "    </tr>\n",
       "    <tr>\n",
       "      <th>2</th>\n",
       "      <td>3114</td>\n",
       "      <td>6139</td>\n",
       "      <td>31275805</td>\n",
       "      <td>1</td>\n",
       "      <td>1350</td>\n",
       "      <td>800</td>\n",
       "      <td>422</td>\n",
       "    </tr>\n",
       "    <tr>\n",
       "      <th>3</th>\n",
       "      <td>3217</td>\n",
       "      <td>6198</td>\n",
       "      <td>31275815</td>\n",
       "      <td>1</td>\n",
       "      <td>1350</td>\n",
       "      <td>800</td>\n",
       "      <td>415</td>\n",
       "    </tr>\n",
       "    <tr>\n",
       "      <th>4</th>\n",
       "      <td>3329</td>\n",
       "      <td>6213</td>\n",
       "      <td>31275825</td>\n",
       "      <td>1</td>\n",
       "      <td>1350</td>\n",
       "      <td>800</td>\n",
       "      <td>423</td>\n",
       "    </tr>\n",
       "  </tbody>\n",
       "</table>\n",
       "</div>"
      ],
      "text/plain": [
       "   X-coordinate  Y-coordinate  Time stamp  Button status  Azimuth  Altitude  \\\n",
       "0          2933          5678    31275785              1     1480       770   \n",
       "1          3001          5851    31275795              1     1350       830   \n",
       "2          3114          6139    31275805              1     1350       800   \n",
       "3          3217          6198    31275815              1     1350       800   \n",
       "4          3329          6213    31275825              1     1350       800   \n",
       "\n",
       "   Pressure  \n",
       "0       420  \n",
       "1       433  \n",
       "2       422  \n",
       "3       415  \n",
       "4       423  "
      ]
     },
     "execution_count": 8,
     "metadata": {},
     "output_type": "execute_result"
    }
   ],
   "source": [
    "signDF.head()"
   ]
  },
  {
   "cell_type": "code",
   "execution_count": 12,
   "metadata": {},
   "outputs": [],
   "source": [
    "X = signDF[['X-coordinate']]\n",
    "Y = signDF[['Y-coordinate']]\n",
    "P = signDF[['Pressure']]"
   ]
  },
  {
   "cell_type": "code",
   "execution_count": 19,
   "metadata": {},
   "outputs": [
    {
     "name": "stdout",
     "output_type": "stream",
     "text": [
      "   X-coordinate\n",
      "0          2933\n",
      "1          3001\n",
      "2          3114\n",
      "3          3217\n",
      "4          3329\n",
      "\t\n",
      "   Y-coordinate\n",
      "0          5678\n",
      "1          5851\n",
      "2          6139\n",
      "3          6198\n",
      "4          6213\n",
      "\t\n",
      "   Pressure\n",
      "0       420\n",
      "1       433\n",
      "2       422\n",
      "3       415\n",
      "4       423\n"
     ]
    }
   ],
   "source": [
    "print(X.head())\n",
    "print('\\t')\n",
    "print(Y.head())\n",
    "print('\\t')\n",
    "print(P.head())\n"
   ]
  },
  {
   "cell_type": "markdown",
   "metadata": {},
   "source": [
    "Extracting the columns and converting them to arrays:"
   ]
  },
  {
   "cell_type": "code",
   "execution_count": 40,
   "metadata": {},
   "outputs": [],
   "source": [
    "X1 = X.to_numpy()\n",
    "Y1 = Y.to_numpy()\n",
    "P1 = P.to_numpy()"
   ]
  },
  {
   "cell_type": "code",
   "execution_count": 59,
   "metadata": {},
   "outputs": [],
   "source": [
    "# Another method:\n",
    "X2 = np.array(X)"
   ]
  },
  {
   "cell_type": "code",
   "execution_count": 60,
   "metadata": {},
   "outputs": [
    {
     "data": {
      "text/plain": [
       "array([[2933],\n",
       "       [3001],\n",
       "       [3114],\n",
       "       [3217],\n",
       "       [3329],\n",
       "       [3447],\n",
       "       [3542],\n",
       "       [3617],\n",
       "       [3678],\n",
       "       [3733]])"
      ]
     },
     "execution_count": 60,
     "metadata": {},
     "output_type": "execute_result"
    }
   ],
   "source": [
    "X2[0:10]"
   ]
  },
  {
   "cell_type": "code",
   "execution_count": 61,
   "metadata": {},
   "outputs": [
    {
     "name": "stdout",
     "output_type": "stream",
     "text": [
      "[[2933]\n",
      " [3001]\n",
      " [3114]\n",
      " [3217]\n",
      " [3329]\n",
      " [3447]\n",
      " [3542]\n",
      " [3617]\n",
      " [3678]\n",
      " [3733]]\n",
      "\n",
      "\n",
      "83\n"
     ]
    }
   ],
   "source": [
    "print(X2[0:10])\n",
    "print('\\n')\n",
    "print(len(X2))"
   ]
  },
  {
   "cell_type": "code",
   "execution_count": 48,
   "metadata": {},
   "outputs": [
    {
     "name": "stdout",
     "output_type": "stream",
     "text": [
      "[3001]\n",
      "83\n"
     ]
    }
   ],
   "source": [
    "print(X1[1])\n",
    "print(len(X1))"
   ]
  },
  {
   "cell_type": "code",
   "execution_count": 64,
   "metadata": {},
   "outputs": [],
   "source": [
    "# Calculating the difference vector:\n",
    "\n",
    "delX = [X1[i]-X1[i-1] for i in range(1,len(X1))]\n",
    "delY = [Y1[i]-Y1[i-1] for i in range(1,len(Y1))]\n",
    "delP = [P1[i]-P1[i-1] for i in range(1,len(P1))]"
   ]
  },
  {
   "cell_type": "code",
   "execution_count": 65,
   "metadata": {},
   "outputs": [
    {
     "name": "stdout",
     "output_type": "stream",
     "text": [
      "[array([68]), array([113]), array([103]), array([112]), array([118]), array([95]), array([75]), array([61]), array([55]), array([39])]\n",
      "\n",
      "\n",
      "[array([173]), array([288]), array([59]), array([15]), array([-14]), array([-23]), array([-52]), array([-71]), array([-193]), array([-313])]\n",
      "\n",
      "\n",
      "[array([13]), array([-11]), array([-7]), array([8]), array([16]), array([52]), array([70]), array([52]), array([25]), array([12])]\n"
     ]
    }
   ],
   "source": [
    "print(delX[0:10])\n",
    "print('\\n')\n",
    "print(delY[0:10])\n",
    "print('\\n')\n",
    "print(delP[0:10])"
   ]
  },
  {
   "cell_type": "code",
   "execution_count": 69,
   "metadata": {},
   "outputs": [],
   "source": [
    "## Min-Max normalization without sklearn:\n",
    "\n",
    "dXmm = [(delX[j] - min(delX))/(max(delX) - min(delX)) for j in range(0,len(delX))]\n",
    "dYmm = [(delY[j] - min(delY))/(max(delY) - min(delY)) for j in range(0,len(delY))]\n",
    "dPmm = [(delP[j] - min(delP))/(max(delP) - min(delP)) for j in range(0,len(delP))]"
   ]
  },
  {
   "cell_type": "code",
   "execution_count": 71,
   "metadata": {},
   "outputs": [
    {
     "data": {
      "text/plain": [
       "[array([0.29058908]),\n",
       " array([0.33189655]),\n",
       " array([0.2496408]),\n",
       " array([0.23383621]),\n",
       " array([0.22341954]),\n",
       " array([0.22018678]),\n",
       " array([0.20977011]),\n",
       " array([0.2029454]),\n",
       " array([0.15912356]),\n",
       " array([0.11602011])]"
      ]
     },
     "execution_count": 71,
     "metadata": {},
     "output_type": "execute_result"
    }
   ],
   "source": [
    "dYmm[0:10]"
   ]
  },
  {
   "cell_type": "code",
   "execution_count": 73,
   "metadata": {},
   "outputs": [
    {
     "data": {
      "text/plain": [
       "X-coordinate    5474.73494\n",
       "dtype: float64"
      ]
     },
     "execution_count": 73,
     "metadata": {},
     "output_type": "execute_result"
    }
   ],
   "source": [
    "# np.mean(delX)\n",
    "# np.mean(X)"
   ]
  },
  {
   "cell_type": "code",
   "execution_count": 74,
   "metadata": {},
   "outputs": [],
   "source": [
    "## Z-score normalization using numpy\n",
    "\n",
    "dXz = [(delX[k] - np.mean(delX))/np.std(delX) for k in range(0,len(delX))]\n",
    "dYz = [(delY[k] - np.mean(delY))/np.std(delY) for k in range(0,len(delY))]\n",
    "dPz = [(delP[k] - np.mean(delP))/np.std(delP) for k in range(0,len(delP))]"
   ]
  },
  {
   "cell_type": "code",
   "execution_count": 75,
   "metadata": {},
   "outputs": [
    {
     "name": "stdout",
     "output_type": "stream",
     "text": [
      "[array([0.46713923]), array([0.77332696]), array([0.163614]), array([0.04646391]), array([-0.03074865]), array([-0.05471117]), array([-0.13192373]), array([-0.18251127]), array([-0.50733651]), array([-0.82683675])]\n"
     ]
    }
   ],
   "source": [
    "print(dYz[0:10])"
   ]
  },
  {
   "cell_type": "code",
   "execution_count": null,
   "metadata": {},
   "outputs": [],
   "source": []
  }
 ],
 "metadata": {
  "kernelspec": {
   "display_name": "Python 3",
   "language": "python",
   "name": "python3"
  },
  "language_info": {
   "codemirror_mode": {
    "name": "ipython",
    "version": 3
   },
   "file_extension": ".py",
   "mimetype": "text/x-python",
   "name": "python",
   "nbconvert_exporter": "python",
   "pygments_lexer": "ipython3",
   "version": "3.7.3"
  }
 },
 "nbformat": 4,
 "nbformat_minor": 2
}
