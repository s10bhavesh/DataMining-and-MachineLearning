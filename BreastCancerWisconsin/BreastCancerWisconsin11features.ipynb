{
 "cells": [
  {
   "cell_type": "code",
   "execution_count": 63,
   "metadata": {},
   "outputs": [],
   "source": [
    "import numpy as np\n",
    "import pandas as pd\n",
    "from sklearn import neighbors, preprocessing\n",
    "from sklearn.model_selection import cross_validate\n",
    "from sklearn.model_selection import train_test_split\n",
    "from sklearn.metrics import confusion_matrix"
   ]
  },
  {
   "cell_type": "raw",
   "metadata": {},
   "source": [
    "\n",
    "8. Missing attribute values: 16\n",
    "\n",
    "   There are 16 instances in Groups 1 to 6 that contain a single missing \n",
    "   (i.e., unavailable) attribute value, now denoted by \"?\".  \n",
    "\n",
    "9. Class distribution:\n",
    " \n",
    "   Benign: 458 (65.5%)\n",
    "   Malignant: 241 (34.5%)\n",
    "\n",
    "\n",
    "7. Attribute Information: (class attribute has been moved to last column)\n",
    "\n",
    "   #  Attribute                     Domain\n",
    "   -- -----------------------------------------\n",
    "   1. Sample code number            id number\n",
    "   2. Clump Thickness               1 - 10\n",
    "   3. Uniformity of Cell Size       1 - 10\n",
    "   4. Uniformity of Cell Shape      1 - 10\n",
    "   5. Marginal Adhesion             1 - 10\n",
    "   6. Single Epithelial Cell Size   1 - 10\n",
    "   7. Bare Nuclei                   1 - 10\n",
    "   8. Bland Chromatin               1 - 10\n",
    "   9. Normal Nucleoli               1 - 10\n",
    "  10. Mitoses                       1 - 10\n",
    "  11. Class:                        (2 for benign, 4 for malignant)"
   ]
  },
  {
   "cell_type": "code",
   "execution_count": 17,
   "metadata": {},
   "outputs": [],
   "source": [
    "colnames = ['Code','ClumpThk', 'CellSize', 'CellShape', 'Adhesion', 'Epithelial', 'Nuclei', 'Chromatin', 'Nucleoli', 'Mitoses', 'Class']\n",
    "df = pd.read_csv('/home/cp/Documents/DMML/BreastCancerWisconsin/breast-cancer-wisconsin.data', names=colnames)"
   ]
  },
  {
   "cell_type": "code",
   "execution_count": 18,
   "metadata": {},
   "outputs": [
    {
     "data": {
      "text/html": [
       "<div>\n",
       "<style scoped>\n",
       "    .dataframe tbody tr th:only-of-type {\n",
       "        vertical-align: middle;\n",
       "    }\n",
       "\n",
       "    .dataframe tbody tr th {\n",
       "        vertical-align: top;\n",
       "    }\n",
       "\n",
       "    .dataframe thead th {\n",
       "        text-align: right;\n",
       "    }\n",
       "</style>\n",
       "<table border=\"1\" class=\"dataframe\">\n",
       "  <thead>\n",
       "    <tr style=\"text-align: right;\">\n",
       "      <th></th>\n",
       "      <th>Code</th>\n",
       "      <th>ClumpThk</th>\n",
       "      <th>CellSize</th>\n",
       "      <th>CellShape</th>\n",
       "      <th>Adhesion</th>\n",
       "      <th>Epithelial</th>\n",
       "      <th>Nuclei</th>\n",
       "      <th>Chromatin</th>\n",
       "      <th>Nucleoli</th>\n",
       "      <th>Mitoses</th>\n",
       "      <th>Class</th>\n",
       "    </tr>\n",
       "  </thead>\n",
       "  <tbody>\n",
       "    <tr>\n",
       "      <th>0</th>\n",
       "      <td>1000025</td>\n",
       "      <td>5</td>\n",
       "      <td>1</td>\n",
       "      <td>1</td>\n",
       "      <td>1</td>\n",
       "      <td>2</td>\n",
       "      <td>1</td>\n",
       "      <td>3</td>\n",
       "      <td>1</td>\n",
       "      <td>1</td>\n",
       "      <td>2</td>\n",
       "    </tr>\n",
       "    <tr>\n",
       "      <th>1</th>\n",
       "      <td>1002945</td>\n",
       "      <td>5</td>\n",
       "      <td>4</td>\n",
       "      <td>4</td>\n",
       "      <td>5</td>\n",
       "      <td>7</td>\n",
       "      <td>10</td>\n",
       "      <td>3</td>\n",
       "      <td>2</td>\n",
       "      <td>1</td>\n",
       "      <td>2</td>\n",
       "    </tr>\n",
       "    <tr>\n",
       "      <th>2</th>\n",
       "      <td>1015425</td>\n",
       "      <td>3</td>\n",
       "      <td>1</td>\n",
       "      <td>1</td>\n",
       "      <td>1</td>\n",
       "      <td>2</td>\n",
       "      <td>2</td>\n",
       "      <td>3</td>\n",
       "      <td>1</td>\n",
       "      <td>1</td>\n",
       "      <td>2</td>\n",
       "    </tr>\n",
       "    <tr>\n",
       "      <th>3</th>\n",
       "      <td>1016277</td>\n",
       "      <td>6</td>\n",
       "      <td>8</td>\n",
       "      <td>8</td>\n",
       "      <td>1</td>\n",
       "      <td>3</td>\n",
       "      <td>4</td>\n",
       "      <td>3</td>\n",
       "      <td>7</td>\n",
       "      <td>1</td>\n",
       "      <td>2</td>\n",
       "    </tr>\n",
       "    <tr>\n",
       "      <th>4</th>\n",
       "      <td>1017023</td>\n",
       "      <td>4</td>\n",
       "      <td>1</td>\n",
       "      <td>1</td>\n",
       "      <td>3</td>\n",
       "      <td>2</td>\n",
       "      <td>1</td>\n",
       "      <td>3</td>\n",
       "      <td>1</td>\n",
       "      <td>1</td>\n",
       "      <td>2</td>\n",
       "    </tr>\n",
       "  </tbody>\n",
       "</table>\n",
       "</div>"
      ],
      "text/plain": [
       "      Code  ClumpThk  CellSize  CellShape  Adhesion  Epithelial Nuclei  \\\n",
       "0  1000025         5         1          1         1           2      1   \n",
       "1  1002945         5         4          4         5           7     10   \n",
       "2  1015425         3         1          1         1           2      2   \n",
       "3  1016277         6         8          8         1           3      4   \n",
       "4  1017023         4         1          1         3           2      1   \n",
       "\n",
       "   Chromatin  Nucleoli  Mitoses  Class  \n",
       "0          3         1        1      2  \n",
       "1          3         2        1      2  \n",
       "2          3         1        1      2  \n",
       "3          3         7        1      2  \n",
       "4          3         1        1      2  "
      ]
     },
     "execution_count": 18,
     "metadata": {},
     "output_type": "execute_result"
    }
   ],
   "source": [
    "df.head()"
   ]
  },
  {
   "cell_type": "code",
   "execution_count": 19,
   "metadata": {},
   "outputs": [],
   "source": [
    "df.drop(['Code'], axis=1, inplace=True)"
   ]
  },
  {
   "cell_type": "code",
   "execution_count": 20,
   "metadata": {},
   "outputs": [],
   "source": [
    "df.replace('?',-9999, inplace=True)"
   ]
  },
  {
   "cell_type": "code",
   "execution_count": 29,
   "metadata": {},
   "outputs": [],
   "source": [
    "# get attributes and classes in place\n",
    "X = np.array(df.drop(['Class'], axis=1))\n",
    "y = np.array(df['Class'])"
   ]
  },
  {
   "cell_type": "code",
   "execution_count": 32,
   "metadata": {},
   "outputs": [],
   "source": [
    "# split data into training and testing sections\n",
    "X_train, X_test, y_train, y_test = train_test_split(X,y, test_size=0.2)\n"
   ]
  },
  {
   "cell_type": "code",
   "execution_count": 59,
   "metadata": {},
   "outputs": [],
   "source": [
    "knn3 = neighbors.KNeighborsClassifier(n_neighbors = 3)\n",
    "knn5 = neighbors.KNeighborsClassifier(n_neighbors = 5)\n",
    "knn7 = neighbors.KNeighborsClassifier(n_neighbors = 7)\n",
    "knn9 = neighbors.KNeighborsClassifier(n_neighbors = 9)\n",
    "knn12 = neighbors.KNeighborsClassifier(n_neighbors = 12)\n",
    "knn15 = neighbors.KNeighborsClassifier(n_neighbors = 15)\n",
    "knn18 = neighbors.KNeighborsClassifier(n_neighbors = 18)"
   ]
  },
  {
   "cell_type": "code",
   "execution_count": 60,
   "metadata": {},
   "outputs": [
    {
     "data": {
      "text/plain": [
       "KNeighborsClassifier(algorithm='auto', leaf_size=30, metric='minkowski',\n",
       "                     metric_params=None, n_jobs=None, n_neighbors=18, p=2,\n",
       "                     weights='uniform')"
      ]
     },
     "execution_count": 60,
     "metadata": {},
     "output_type": "execute_result"
    }
   ],
   "source": [
    "knn3.fit(X_train, y_train)\n",
    "knn5.fit(X_train, y_train)\n",
    "knn7.fit(X_train, y_train)\n",
    "knn9.fit(X_train, y_train)\n",
    "knn12.fit(X_train, y_train)\n",
    "knn15.fit(X_train, y_train)\n",
    "knn18.fit(X_train, y_train)"
   ]
  },
  {
   "cell_type": "code",
   "execution_count": 77,
   "metadata": {},
   "outputs": [
    {
     "name": "stdout",
     "output_type": "stream",
     "text": [
      "Accuracy when neighbors = 3: 97.85714285714285\n",
      "Accuracy when neighbors = 5: 97.85714285714285\n",
      "Accuracy when neighbors = 7: 97.14285714285714\n",
      "Accuracy when neighbors = 9: 97.14285714285714\n",
      "Accuracy when neighbors = 12: 97.85714285714285\n",
      "Accuracy when neighbors = 15: 97.85714285714285\n"
     ]
    }
   ],
   "source": [
    "accuracy3 = knn3.score(X_test, y_test)\n",
    "print(\"Accuracy when neighbors = 3:\",accuracy3*100)\n",
    "accuracy5 = knn5.score(X_test, y_test)\n",
    "print(\"Accuracy when neighbors = 5:\",accuracy5*100)\n",
    "accuracy7 = knn7.score(X_test, y_test)\n",
    "print(\"Accuracy when neighbors = 7:\",accuracy7*100)\n",
    "accuracy9 = knn9.score(X_test, y_test)\n",
    "print(\"Accuracy when neighbors = 9:\",accuracy9*100)\n",
    "accuracy12 = knn12.score(X_test, y_test)\n",
    "print(\"Accuracy when neighbors = 12:\",accuracy12*100)\n",
    "accuracy15 = knn15.score(X_test, y_test)\n",
    "print(\"Accuracy when neighbors = 15:\",accuracy15*100)\n"
   ]
  },
  {
   "cell_type": "code",
   "execution_count": 81,
   "metadata": {},
   "outputs": [],
   "source": [
    "y_pred3 = knn3.predict(X_test)\n",
    "y_pred5 = knn5.predict(X_test)\n",
    "y_pred7 = knn7.predict(X_test)\n",
    "y_pred9 = knn9.predict(X_test)\n",
    "y_pred12 = knn12.predict(X_test)\n",
    "y_pred15 = knn15.predict(X_test)"
   ]
  },
  {
   "cell_type": "markdown",
   "metadata": {},
   "source": [
    "## Making new prediction##"
   ]
  },
  {
   "cell_type": "code",
   "execution_count": 82,
   "metadata": {},
   "outputs": [
    {
     "name": "stdout",
     "output_type": "stream",
     "text": [
      "Enter the parameters: 'ClumpThk', 'CellSize', 'CellShape', 'Adhesion', 'Epithelial', 'Nuclei', 'Chromatin', 'Nucleoli', 'Mitoses' \n"
     ]
    }
   ],
   "source": [
    "print(\"Enter the parameters: 'ClumpThk', 'CellSize', 'CellShape', 'Adhesion', 'Epithelial', 'Nuclei', 'Chromatin', 'Nucleoli', 'Mitoses' \")\n"
   ]
  },
  {
   "cell_type": "code",
   "execution_count": 83,
   "metadata": {},
   "outputs": [],
   "source": [
    "new_tests = np.array([[10, 10, 2, 3, 10, 2, 1, 8, 44], [10, 1, 12, 3, 1, 12, 1, 8, 12], [3, 1, 1, 3, 1, 12, 1, 2, 1]])\n",
    "#new_tests = new_tests.reshape(len(new_tests),-1)"
   ]
  },
  {
   "cell_type": "code",
   "execution_count": 84,
   "metadata": {},
   "outputs": [
    {
     "data": {
      "text/plain": [
       "array([[10, 10,  2,  3, 10,  2,  1,  8, 44],\n",
       "       [10,  1, 12,  3,  1, 12,  1,  8, 12],\n",
       "       [ 3,  1,  1,  3,  1, 12,  1,  2,  1]])"
      ]
     },
     "execution_count": 84,
     "metadata": {},
     "output_type": "execute_result"
    }
   ],
   "source": [
    "new_tests"
   ]
  },
  {
   "cell_type": "code",
   "execution_count": 85,
   "metadata": {},
   "outputs": [],
   "source": [
    "pred3 = knn3.predict(new_tests)\n",
    "pred5 = knn5.predict(new_tests)\n",
    "pred7 = knn7.predict(new_tests)\n",
    "pred9 = knn9.predict(new_tests)\n",
    "pred12 = knn12.predict(new_tests)\n",
    "pred15 = knn15.predict(new_tests)"
   ]
  },
  {
   "cell_type": "code",
   "execution_count": 86,
   "metadata": {},
   "outputs": [
    {
     "data": {
      "text/plain": [
       "(140,)"
      ]
     },
     "execution_count": 86,
     "metadata": {},
     "output_type": "execute_result"
    }
   ],
   "source": [
    "#Accuracy:\n",
    "#print(\"Accuracy: \", accuracy)\n",
    "\n",
    "prediction5.shape"
   ]
  },
  {
   "cell_type": "code",
   "execution_count": 87,
   "metadata": {},
   "outputs": [
    {
     "name": "stdout",
     "output_type": "stream",
     "text": [
      "Malignant\n",
      "Malignant\n",
      "Benign\n"
     ]
    }
   ],
   "source": [
    "#Prediction\n",
    "for P in prediction:\n",
    "    if P == 2:\n",
    "        print(\"Benign\")\n",
    "    else:\n",
    "        print(\"Malignant\")"
   ]
  },
  {
   "cell_type": "code",
   "execution_count": 88,
   "metadata": {},
   "outputs": [
    {
     "name": "stdout",
     "output_type": "stream",
     "text": [
      "Confusion Matrix for 3NN:\n",
      " [[86  2]\n",
      " [ 1 51]]\n",
      "Confusion Matrix for 5NN:\n",
      " [[86  2]\n",
      " [ 1 51]]\n",
      "Confusion Matrix for 7NN:\n",
      " [[86  2]\n",
      " [ 2 50]]\n",
      "Confusion Matrix for 9NN:\n",
      " [[86  2]\n",
      " [ 2 50]]\n",
      "Confusion Matrix for 12NN:\n",
      " [[86  2]\n",
      " [ 1 51]]\n",
      "Confusion Matrix for 15NN:\n",
      " [[86  2]\n",
      " [ 1 51]]\n"
     ]
    }
   ],
   "source": [
    "#Confusin Matrix\n",
    "CM3 = confusion_matrix(y_test, y_pred3)\n",
    "CM5 = confusion_matrix(y_test, y_pred5)\n",
    "CM7 = confusion_matrix(y_test, y_pred7)\n",
    "CM9 = confusion_matrix(y_test, y_pred9)\n",
    "CM12 = confusion_matrix(y_test, y_pred12)\n",
    "CM15 = confusion_matrix(y_test, y_pred15)\n",
    "\n",
    "print(\"Confusion Matrix for 3NN:\\n\",CM3)\n",
    "print(\"Confusion Matrix for 5NN:\\n\",CM5)\n",
    "print(\"Confusion Matrix for 7NN:\\n\",CM7)\n",
    "print(\"Confusion Matrix for 9NN:\\n\",CM9)\n",
    "print(\"Confusion Matrix for 12NN:\\n\",CM12)\n",
    "print(\"Confusion Matrix for 15NN:\\n\",CM15)"
   ]
  },
  {
   "cell_type": "code",
   "execution_count": null,
   "metadata": {},
   "outputs": [],
   "source": []
  },
  {
   "cell_type": "code",
   "execution_count": null,
   "metadata": {},
   "outputs": [],
   "source": []
  }
 ],
 "metadata": {
  "kernelspec": {
   "display_name": "Python 3",
   "language": "python",
   "name": "python3"
  },
  "language_info": {
   "codemirror_mode": {
    "name": "ipython",
    "version": 3
   },
   "file_extension": ".py",
   "mimetype": "text/x-python",
   "name": "python",
   "nbconvert_exporter": "python",
   "pygments_lexer": "ipython3",
   "version": "3.7.3"
  }
 },
 "nbformat": 4,
 "nbformat_minor": 2
}
